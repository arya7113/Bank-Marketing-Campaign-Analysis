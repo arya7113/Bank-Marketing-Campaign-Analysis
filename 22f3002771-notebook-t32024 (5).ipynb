{
 "cells": [
  {
   "cell_type": "markdown",
   "id": "1b721cd7",
   "metadata": {
    "papermill": {
     "duration": 0.023847,
     "end_time": "2024-12-13T13:41:48.661475",
     "exception": false,
     "start_time": "2024-12-13T13:41:48.637628",
     "status": "completed"
    },
    "tags": []
   },
   "source": [
    "# **01. Imports**"
   ]
  },
  {
   "cell_type": "code",
   "execution_count": 1,
   "id": "7395a20c",
   "metadata": {
    "_cell_guid": "b1076dfc-b9ad-4769-8c92-a6c4dae69d19",
    "_uuid": "8f2839f25d086af736a60e9eeb907d3b93b6e0e5",
    "execution": {
     "iopub.execute_input": "2024-12-13T13:41:48.710353Z",
     "iopub.status.busy": "2024-12-13T13:41:48.709814Z",
     "iopub.status.idle": "2024-12-13T13:41:48.722036Z",
     "shell.execute_reply": "2024-12-13T13:41:48.720865Z"
    },
    "papermill": {
     "duration": 0.039711,
     "end_time": "2024-12-13T13:41:48.724541",
     "exception": false,
     "start_time": "2024-12-13T13:41:48.684830",
     "status": "completed"
    },
    "tags": []
   },
   "outputs": [
    {
     "name": "stdout",
     "output_type": "stream",
     "text": [
      "/kaggle/input/predict-the-success-of-bank-telemarketing/sample_submission.csv\n",
      "/kaggle/input/predict-the-success-of-bank-telemarketing/train.csv\n",
      "/kaggle/input/predict-the-success-of-bank-telemarketing/test.csv\n"
     ]
    }
   ],
   "source": [
    "# This Python 3 environment comes with many helpful analytics libraries installed\n",
    "# It is defined by the kaggle/python Docker image: https://github.com/kaggle/docker-python\n",
    "# For example, here's several helpful packages to load\n",
    "# Input data files are available in the read-only \"../input/\" directory\n",
    "# For example, running this (by clicking run or pressing Shift+Enter) will list all files under the input directory\n",
    "\n",
    "import os\n",
    "for dirname, _, filenames in os.walk('/kaggle/input'):\n",
    "    for filename in filenames:\n",
    "        print(os.path.join(dirname, filename))\n",
    "\n",
    "# You can write up to 20GB to the current directory (/kaggle/working/) that gets preserved as output when you create a version using \"Save & Run All\" \n",
    "\n",
    "        # You can also write temporary files to /kaggle/temp/, but they won't be saved outside of the current session"
   ]
  },
  {
   "cell_type": "code",
   "execution_count": 2,
   "id": "17caaf5f",
   "metadata": {
    "execution": {
     "iopub.execute_input": "2024-12-13T13:41:48.772516Z",
     "iopub.status.busy": "2024-12-13T13:41:48.772153Z",
     "iopub.status.idle": "2024-12-13T13:41:52.136932Z",
     "shell.execute_reply": "2024-12-13T13:41:52.135751Z"
    },
    "papermill": {
     "duration": 3.391869,
     "end_time": "2024-12-13T13:41:52.139414",
     "exception": false,
     "start_time": "2024-12-13T13:41:48.747545",
     "status": "completed"
    },
    "tags": []
   },
   "outputs": [],
   "source": [
    "import numpy as np # linear algebra\n",
    "import pandas as pd # data processing\n",
    "\n",
    "# Data visulization\n",
    "import matplotlib.pyplot as plt \n",
    "import seaborn as sns\n",
    "\n",
    "# using make_pipeline for creating pipelines for preprocessing\n",
    "from sklearn.pipeline import make_pipeline\n",
    "\n",
    "#  using simple imputer for missing values\n",
    "from sklearn.impute import SimpleImputer\n",
    "\n",
    "# using OneHotEncoder ,OrdinalEncoder for encoding categorical features and StandardScaler for normalising them.\n",
    "from sklearn.preprocessing import OneHotEncoder ,OrdinalEncoder , MinMaxScaler, LabelEncoder\n",
    "\n",
    "# Model selection\n",
    "from sklearn.model_selection import train_test_split\n",
    "\n",
    "# For combing multiple pipleines\n",
    "from sklearn.compose import make_column_transformer\n",
    "\n",
    "# Scoring and reports\n",
    "from sklearn.metrics import f1_score, classification_report\n",
    "from sklearn.utils.class_weight import compute_class_weight\n",
    "from sklearn.metrics import make_scorer\n",
    "from sklearn.model_selection import cross_val_score\n",
    "\n",
    "# Estimators\n",
    "from sklearn.ensemble import RandomForestClassifier\n",
    "from sklearn.tree import DecisionTreeClassifier\n",
    "import xgboost as xgb\n",
    "from sklearn.ensemble import AdaBoostClassifier\n",
    "\n",
    "# Metrics for Display and Analysis\n",
    "from sklearn.metrics import confusion_matrix, ConfusionMatrixDisplay\n",
    "from sklearn.metrics import precision_recall_curve, PrecisionRecallDisplay\n",
    "\n",
    "# Hyper-Parameter Tuning\n",
    "from sklearn.model_selection import GridSearchCV\n",
    "from sklearn.model_selection import RandomizedSearchCV"
   ]
  },
  {
   "cell_type": "markdown",
   "id": "95c47788",
   "metadata": {
    "papermill": {
     "duration": 0.022329,
     "end_time": "2024-12-13T13:41:52.184600",
     "exception": false,
     "start_time": "2024-12-13T13:41:52.162271",
     "status": "completed"
    },
    "tags": []
   },
   "source": [
    "# **02. Loading the Dataset**"
   ]
  },
  {
   "cell_type": "code",
   "execution_count": 3,
   "id": "0547fc3c",
   "metadata": {
    "execution": {
     "iopub.execute_input": "2024-12-13T13:41:52.232622Z",
     "iopub.status.busy": "2024-12-13T13:41:52.231581Z",
     "iopub.status.idle": "2024-12-13T13:41:52.411274Z",
     "shell.execute_reply": "2024-12-13T13:41:52.410042Z"
    },
    "papermill": {
     "duration": 0.206275,
     "end_time": "2024-12-13T13:41:52.413565",
     "exception": false,
     "start_time": "2024-12-13T13:41:52.207290",
     "status": "completed"
    },
    "tags": []
   },
   "outputs": [],
   "source": [
    "#loading the train dataset\n",
    "train_df=pd.read_csv('/kaggle/input/predict-the-success-of-bank-telemarketing/train.csv')\n",
    "#loading the test dataset\n",
    "test_df=pd.read_csv('/kaggle/input/predict-the-success-of-bank-telemarketing/test.csv')"
   ]
  },
  {
   "cell_type": "markdown",
   "id": "e7766e95",
   "metadata": {
    "papermill": {
     "duration": 0.022342,
     "end_time": "2024-12-13T13:41:52.460038",
     "exception": false,
     "start_time": "2024-12-13T13:41:52.437696",
     "status": "completed"
    },
    "tags": []
   },
   "source": [
    "# **03. Exploratory Data Analysis**"
   ]
  },
  {
   "cell_type": "markdown",
   "id": "6a6ce944",
   "metadata": {
    "papermill": {
     "duration": 0.022085,
     "end_time": "2024-12-13T13:41:52.504630",
     "exception": false,
     "start_time": "2024-12-13T13:41:52.482545",
     "status": "completed"
    },
    "tags": []
   },
   "source": [
    "## **3.1 Data Description**\n",
    "1. Last contact date: last contact date\n",
    "2. age (numeric)\n",
    "3. job : type of job\n",
    "4. marital : marital status (categorical: \"married\",\"divorced\",\"single\"; note: \"divorced\" means divorced or widowed)\n",
    "5. education (categorical: \"unknown\",\"secondary\",\"primary\",\"tertiary\")\n",
    "6. default: has credit in default? (binary: \"yes\",\"no\")\n",
    "7. balance: average yearly balance, in euros (numeric)\n",
    "8. housing: has housing loan? (binary: \"yes\",\"no\")\n",
    "9. loan: has personal loan? (binary: \"yes\",\"no\")\n",
    "10. contact: contact communication type (categorical: \"unknown\",\"telephone\",\"cellular\")\n",
    "11. duration: last contact duration, in seconds (numeric)\n",
    "12. campaign: number of contacts performed during this campaign and for this client (numeric, includes last contact)\n",
    "13. pdays: number of days that passed by after the client was last contacted from a previous campaign (numeric, -1 means client was not previously contacted)\n",
    "14. previous: number of contacts performed before this campaign and for this client (numeric)\n",
    "15. poutcome: outcome of the previous marketing campaign (categorical: \"unknown\",\"other\",\"failure\",\"success\")\n",
    "\n",
    "**Output variable (desired target):**\n",
    "\n",
    "16. target: has the client subscribed a term deposit? (binary: \"yes\",\"no\")"
   ]
  },
  {
   "cell_type": "markdown",
   "id": "7d17006c",
   "metadata": {
    "papermill": {
     "duration": 0.022126,
     "end_time": "2024-12-13T13:41:52.549361",
     "exception": false,
     "start_time": "2024-12-13T13:41:52.527235",
     "status": "completed"
    },
    "tags": []
   },
   "source": [
    "## **3.2 Train Dataset**"
   ]
  },
  {
   "cell_type": "code",
   "execution_count": 4,
   "id": "59ecd0b9",
   "metadata": {
    "execution": {
     "iopub.execute_input": "2024-12-13T13:41:52.595925Z",
     "iopub.status.busy": "2024-12-13T13:41:52.595465Z",
     "iopub.status.idle": "2024-12-13T13:41:52.619855Z",
     "shell.execute_reply": "2024-12-13T13:41:52.618860Z"
    },
    "papermill": {
     "duration": 0.050198,
     "end_time": "2024-12-13T13:41:52.622032",
     "exception": false,
     "start_time": "2024-12-13T13:41:52.571834",
     "status": "completed"
    },
    "tags": []
   },
   "outputs": [
    {
     "data": {
      "text/html": [
       "<div>\n",
       "<style scoped>\n",
       "    .dataframe tbody tr th:only-of-type {\n",
       "        vertical-align: middle;\n",
       "    }\n",
       "\n",
       "    .dataframe tbody tr th {\n",
       "        vertical-align: top;\n",
       "    }\n",
       "\n",
       "    .dataframe thead th {\n",
       "        text-align: right;\n",
       "    }\n",
       "</style>\n",
       "<table border=\"1\" class=\"dataframe\">\n",
       "  <thead>\n",
       "    <tr style=\"text-align: right;\">\n",
       "      <th></th>\n",
       "      <th>last contact date</th>\n",
       "      <th>age</th>\n",
       "      <th>job</th>\n",
       "      <th>marital</th>\n",
       "      <th>education</th>\n",
       "      <th>default</th>\n",
       "      <th>balance</th>\n",
       "      <th>housing</th>\n",
       "      <th>loan</th>\n",
       "      <th>contact</th>\n",
       "      <th>duration</th>\n",
       "      <th>campaign</th>\n",
       "      <th>pdays</th>\n",
       "      <th>previous</th>\n",
       "      <th>poutcome</th>\n",
       "      <th>target</th>\n",
       "    </tr>\n",
       "  </thead>\n",
       "  <tbody>\n",
       "    <tr>\n",
       "      <th>0</th>\n",
       "      <td>2009-04-17</td>\n",
       "      <td>26</td>\n",
       "      <td>blue-collar</td>\n",
       "      <td>married</td>\n",
       "      <td>secondary</td>\n",
       "      <td>no</td>\n",
       "      <td>647</td>\n",
       "      <td>yes</td>\n",
       "      <td>no</td>\n",
       "      <td>cellular</td>\n",
       "      <td>357</td>\n",
       "      <td>2</td>\n",
       "      <td>331</td>\n",
       "      <td>1</td>\n",
       "      <td>other</td>\n",
       "      <td>no</td>\n",
       "    </tr>\n",
       "    <tr>\n",
       "      <th>1</th>\n",
       "      <td>2009-10-11</td>\n",
       "      <td>52</td>\n",
       "      <td>technician</td>\n",
       "      <td>married</td>\n",
       "      <td>secondary</td>\n",
       "      <td>no</td>\n",
       "      <td>553</td>\n",
       "      <td>yes</td>\n",
       "      <td>no</td>\n",
       "      <td>telephone</td>\n",
       "      <td>160</td>\n",
       "      <td>1</td>\n",
       "      <td>-1</td>\n",
       "      <td>0</td>\n",
       "      <td>NaN</td>\n",
       "      <td>no</td>\n",
       "    </tr>\n",
       "    <tr>\n",
       "      <th>2</th>\n",
       "      <td>2010-11-20</td>\n",
       "      <td>44</td>\n",
       "      <td>blue-collar</td>\n",
       "      <td>married</td>\n",
       "      <td>secondary</td>\n",
       "      <td>no</td>\n",
       "      <td>1397</td>\n",
       "      <td>no</td>\n",
       "      <td>no</td>\n",
       "      <td>cellular</td>\n",
       "      <td>326</td>\n",
       "      <td>1</td>\n",
       "      <td>-1</td>\n",
       "      <td>0</td>\n",
       "      <td>NaN</td>\n",
       "      <td>no</td>\n",
       "    </tr>\n",
       "    <tr>\n",
       "      <th>3</th>\n",
       "      <td>2009-09-01</td>\n",
       "      <td>33</td>\n",
       "      <td>admin.</td>\n",
       "      <td>married</td>\n",
       "      <td>secondary</td>\n",
       "      <td>no</td>\n",
       "      <td>394</td>\n",
       "      <td>yes</td>\n",
       "      <td>no</td>\n",
       "      <td>telephone</td>\n",
       "      <td>104</td>\n",
       "      <td>3</td>\n",
       "      <td>-1</td>\n",
       "      <td>0</td>\n",
       "      <td>NaN</td>\n",
       "      <td>no</td>\n",
       "    </tr>\n",
       "    <tr>\n",
       "      <th>4</th>\n",
       "      <td>2008-01-29</td>\n",
       "      <td>31</td>\n",
       "      <td>entrepreneur</td>\n",
       "      <td>single</td>\n",
       "      <td>tertiary</td>\n",
       "      <td>no</td>\n",
       "      <td>137</td>\n",
       "      <td>no</td>\n",
       "      <td>no</td>\n",
       "      <td>cellular</td>\n",
       "      <td>445</td>\n",
       "      <td>2</td>\n",
       "      <td>-1</td>\n",
       "      <td>0</td>\n",
       "      <td>NaN</td>\n",
       "      <td>no</td>\n",
       "    </tr>\n",
       "  </tbody>\n",
       "</table>\n",
       "</div>"
      ],
      "text/plain": [
       "  last contact date  age           job  marital  education default  balance  \\\n",
       "0        2009-04-17   26   blue-collar  married  secondary      no      647   \n",
       "1        2009-10-11   52    technician  married  secondary      no      553   \n",
       "2        2010-11-20   44   blue-collar  married  secondary      no     1397   \n",
       "3        2009-09-01   33        admin.  married  secondary      no      394   \n",
       "4        2008-01-29   31  entrepreneur   single   tertiary      no      137   \n",
       "\n",
       "  housing loan    contact  duration  campaign  pdays  previous poutcome target  \n",
       "0     yes   no   cellular       357         2    331         1    other     no  \n",
       "1     yes   no  telephone       160         1     -1         0      NaN     no  \n",
       "2      no   no   cellular       326         1     -1         0      NaN     no  \n",
       "3     yes   no  telephone       104         3     -1         0      NaN     no  \n",
       "4      no   no   cellular       445         2     -1         0      NaN     no  "
      ]
     },
     "execution_count": 4,
     "metadata": {},
     "output_type": "execute_result"
    }
   ],
   "source": [
    "train_df.head()"
   ]
  },
  {
   "cell_type": "code",
   "execution_count": 5,
   "id": "e77ec437",
   "metadata": {
    "execution": {
     "iopub.execute_input": "2024-12-13T13:41:52.668839Z",
     "iopub.status.busy": "2024-12-13T13:41:52.668481Z",
     "iopub.status.idle": "2024-12-13T13:41:52.714286Z",
     "shell.execute_reply": "2024-12-13T13:41:52.713017Z"
    },
    "papermill": {
     "duration": 0.071921,
     "end_time": "2024-12-13T13:41:52.716731",
     "exception": false,
     "start_time": "2024-12-13T13:41:52.644810",
     "status": "completed"
    },
    "tags": []
   },
   "outputs": [
    {
     "name": "stdout",
     "output_type": "stream",
     "text": [
      "<class 'pandas.core.frame.DataFrame'>\n",
      "RangeIndex: 39211 entries, 0 to 39210\n",
      "Data columns (total 16 columns):\n",
      " #   Column             Non-Null Count  Dtype \n",
      "---  ------             --------------  ----- \n",
      " 0   last contact date  39211 non-null  object\n",
      " 1   age                39211 non-null  int64 \n",
      " 2   job                38982 non-null  object\n",
      " 3   marital            39211 non-null  object\n",
      " 4   education          37744 non-null  object\n",
      " 5   default            39211 non-null  object\n",
      " 6   balance            39211 non-null  int64 \n",
      " 7   housing            39211 non-null  object\n",
      " 8   loan               39211 non-null  object\n",
      " 9   contact            28875 non-null  object\n",
      " 10  duration           39211 non-null  int64 \n",
      " 11  campaign           39211 non-null  int64 \n",
      " 12  pdays              39211 non-null  int64 \n",
      " 13  previous           39211 non-null  int64 \n",
      " 14  poutcome           9760 non-null   object\n",
      " 15  target             39211 non-null  object\n",
      "dtypes: int64(6), object(10)\n",
      "memory usage: 4.8+ MB\n"
     ]
    }
   ],
   "source": [
    "train_df.info()"
   ]
  },
  {
   "cell_type": "code",
   "execution_count": 6,
   "id": "dc9a8438",
   "metadata": {
    "execution": {
     "iopub.execute_input": "2024-12-13T13:41:52.764642Z",
     "iopub.status.busy": "2024-12-13T13:41:52.764269Z",
     "iopub.status.idle": "2024-12-13T13:41:52.801237Z",
     "shell.execute_reply": "2024-12-13T13:41:52.800130Z"
    },
    "papermill": {
     "duration": 0.063222,
     "end_time": "2024-12-13T13:41:52.803485",
     "exception": false,
     "start_time": "2024-12-13T13:41:52.740263",
     "status": "completed"
    },
    "tags": []
   },
   "outputs": [
    {
     "data": {
      "text/html": [
       "<div>\n",
       "<style scoped>\n",
       "    .dataframe tbody tr th:only-of-type {\n",
       "        vertical-align: middle;\n",
       "    }\n",
       "\n",
       "    .dataframe tbody tr th {\n",
       "        vertical-align: top;\n",
       "    }\n",
       "\n",
       "    .dataframe thead th {\n",
       "        text-align: right;\n",
       "    }\n",
       "</style>\n",
       "<table border=\"1\" class=\"dataframe\">\n",
       "  <thead>\n",
       "    <tr style=\"text-align: right;\">\n",
       "      <th></th>\n",
       "      <th>age</th>\n",
       "      <th>balance</th>\n",
       "      <th>duration</th>\n",
       "      <th>campaign</th>\n",
       "      <th>pdays</th>\n",
       "      <th>previous</th>\n",
       "    </tr>\n",
       "  </thead>\n",
       "  <tbody>\n",
       "    <tr>\n",
       "      <th>count</th>\n",
       "      <td>39211.000000</td>\n",
       "      <td>39211.000000</td>\n",
       "      <td>39211.000000</td>\n",
       "      <td>39211.000000</td>\n",
       "      <td>39211.000000</td>\n",
       "      <td>39211.000000</td>\n",
       "    </tr>\n",
       "    <tr>\n",
       "      <th>mean</th>\n",
       "      <td>42.120247</td>\n",
       "      <td>5441.781719</td>\n",
       "      <td>439.062789</td>\n",
       "      <td>5.108770</td>\n",
       "      <td>72.256051</td>\n",
       "      <td>11.826171</td>\n",
       "    </tr>\n",
       "    <tr>\n",
       "      <th>std</th>\n",
       "      <td>12.709352</td>\n",
       "      <td>16365.292065</td>\n",
       "      <td>769.096291</td>\n",
       "      <td>9.890153</td>\n",
       "      <td>160.942593</td>\n",
       "      <td>44.140259</td>\n",
       "    </tr>\n",
       "    <tr>\n",
       "      <th>min</th>\n",
       "      <td>18.000000</td>\n",
       "      <td>-8019.000000</td>\n",
       "      <td>0.000000</td>\n",
       "      <td>1.000000</td>\n",
       "      <td>-1.000000</td>\n",
       "      <td>0.000000</td>\n",
       "    </tr>\n",
       "    <tr>\n",
       "      <th>25%</th>\n",
       "      <td>33.000000</td>\n",
       "      <td>98.000000</td>\n",
       "      <td>109.000000</td>\n",
       "      <td>1.000000</td>\n",
       "      <td>-1.000000</td>\n",
       "      <td>0.000000</td>\n",
       "    </tr>\n",
       "    <tr>\n",
       "      <th>50%</th>\n",
       "      <td>40.000000</td>\n",
       "      <td>549.000000</td>\n",
       "      <td>197.000000</td>\n",
       "      <td>2.000000</td>\n",
       "      <td>-1.000000</td>\n",
       "      <td>0.000000</td>\n",
       "    </tr>\n",
       "    <tr>\n",
       "      <th>75%</th>\n",
       "      <td>50.000000</td>\n",
       "      <td>2030.000000</td>\n",
       "      <td>380.000000</td>\n",
       "      <td>4.000000</td>\n",
       "      <td>-1.000000</td>\n",
       "      <td>0.000000</td>\n",
       "    </tr>\n",
       "    <tr>\n",
       "      <th>max</th>\n",
       "      <td>95.000000</td>\n",
       "      <td>102127.000000</td>\n",
       "      <td>4918.000000</td>\n",
       "      <td>63.000000</td>\n",
       "      <td>871.000000</td>\n",
       "      <td>275.000000</td>\n",
       "    </tr>\n",
       "  </tbody>\n",
       "</table>\n",
       "</div>"
      ],
      "text/plain": [
       "                age        balance      duration      campaign         pdays  \\\n",
       "count  39211.000000   39211.000000  39211.000000  39211.000000  39211.000000   \n",
       "mean      42.120247    5441.781719    439.062789      5.108770     72.256051   \n",
       "std       12.709352   16365.292065    769.096291      9.890153    160.942593   \n",
       "min       18.000000   -8019.000000      0.000000      1.000000     -1.000000   \n",
       "25%       33.000000      98.000000    109.000000      1.000000     -1.000000   \n",
       "50%       40.000000     549.000000    197.000000      2.000000     -1.000000   \n",
       "75%       50.000000    2030.000000    380.000000      4.000000     -1.000000   \n",
       "max       95.000000  102127.000000   4918.000000     63.000000    871.000000   \n",
       "\n",
       "           previous  \n",
       "count  39211.000000  \n",
       "mean      11.826171  \n",
       "std       44.140259  \n",
       "min        0.000000  \n",
       "25%        0.000000  \n",
       "50%        0.000000  \n",
       "75%        0.000000  \n",
       "max      275.000000  "
      ]
     },
     "execution_count": 6,
     "metadata": {},
     "output_type": "execute_result"
    }
   ],
   "source": [
    "#For Numeric columns\n",
    "train_df.describe()"
   ]
  },
  {
   "cell_type": "code",
   "execution_count": 7,
   "id": "a63f2b9f",
   "metadata": {
    "execution": {
     "iopub.execute_input": "2024-12-13T13:41:52.851280Z",
     "iopub.status.busy": "2024-12-13T13:41:52.850844Z",
     "iopub.status.idle": "2024-12-13T13:41:52.918740Z",
     "shell.execute_reply": "2024-12-13T13:41:52.917578Z"
    },
    "papermill": {
     "duration": 0.094768,
     "end_time": "2024-12-13T13:41:52.921334",
     "exception": false,
     "start_time": "2024-12-13T13:41:52.826566",
     "status": "completed"
    },
    "tags": []
   },
   "outputs": [
    {
     "data": {
      "text/html": [
       "<div>\n",
       "<style scoped>\n",
       "    .dataframe tbody tr th:only-of-type {\n",
       "        vertical-align: middle;\n",
       "    }\n",
       "\n",
       "    .dataframe tbody tr th {\n",
       "        vertical-align: top;\n",
       "    }\n",
       "\n",
       "    .dataframe thead th {\n",
       "        text-align: right;\n",
       "    }\n",
       "</style>\n",
       "<table border=\"1\" class=\"dataframe\">\n",
       "  <thead>\n",
       "    <tr style=\"text-align: right;\">\n",
       "      <th></th>\n",
       "      <th>last contact date</th>\n",
       "      <th>job</th>\n",
       "      <th>marital</th>\n",
       "      <th>education</th>\n",
       "      <th>default</th>\n",
       "      <th>housing</th>\n",
       "      <th>loan</th>\n",
       "      <th>contact</th>\n",
       "      <th>poutcome</th>\n",
       "      <th>target</th>\n",
       "    </tr>\n",
       "  </thead>\n",
       "  <tbody>\n",
       "    <tr>\n",
       "      <th>count</th>\n",
       "      <td>39211</td>\n",
       "      <td>38982</td>\n",
       "      <td>39211</td>\n",
       "      <td>37744</td>\n",
       "      <td>39211</td>\n",
       "      <td>39211</td>\n",
       "      <td>39211</td>\n",
       "      <td>28875</td>\n",
       "      <td>9760</td>\n",
       "      <td>39211</td>\n",
       "    </tr>\n",
       "    <tr>\n",
       "      <th>unique</th>\n",
       "      <td>1013</td>\n",
       "      <td>11</td>\n",
       "      <td>3</td>\n",
       "      <td>3</td>\n",
       "      <td>2</td>\n",
       "      <td>2</td>\n",
       "      <td>2</td>\n",
       "      <td>2</td>\n",
       "      <td>3</td>\n",
       "      <td>2</td>\n",
       "    </tr>\n",
       "    <tr>\n",
       "      <th>top</th>\n",
       "      <td>2009-05-15</td>\n",
       "      <td>blue-collar</td>\n",
       "      <td>married</td>\n",
       "      <td>secondary</td>\n",
       "      <td>no</td>\n",
       "      <td>yes</td>\n",
       "      <td>no</td>\n",
       "      <td>cellular</td>\n",
       "      <td>failure</td>\n",
       "      <td>no</td>\n",
       "    </tr>\n",
       "    <tr>\n",
       "      <th>freq</th>\n",
       "      <td>313</td>\n",
       "      <td>7776</td>\n",
       "      <td>22691</td>\n",
       "      <td>19584</td>\n",
       "      <td>36954</td>\n",
       "      <td>21657</td>\n",
       "      <td>31820</td>\n",
       "      <td>25030</td>\n",
       "      <td>4949</td>\n",
       "      <td>33384</td>\n",
       "    </tr>\n",
       "  </tbody>\n",
       "</table>\n",
       "</div>"
      ],
      "text/plain": [
       "       last contact date          job  marital  education default housing  \\\n",
       "count              39211        38982    39211      37744   39211   39211   \n",
       "unique              1013           11        3          3       2       2   \n",
       "top           2009-05-15  blue-collar  married  secondary      no     yes   \n",
       "freq                 313         7776    22691      19584   36954   21657   \n",
       "\n",
       "         loan   contact poutcome target  \n",
       "count   39211     28875     9760  39211  \n",
       "unique      2         2        3      2  \n",
       "top        no  cellular  failure     no  \n",
       "freq    31820     25030     4949  33384  "
      ]
     },
     "execution_count": 7,
     "metadata": {},
     "output_type": "execute_result"
    }
   ],
   "source": [
    "#For Categorical columns\n",
    "train_df.describe(include=['O'])"
   ]
  },
  {
   "cell_type": "code",
   "execution_count": 8,
   "id": "be81be39",
   "metadata": {
    "execution": {
     "iopub.execute_input": "2024-12-13T13:41:52.971088Z",
     "iopub.status.busy": "2024-12-13T13:41:52.970627Z",
     "iopub.status.idle": "2024-12-13T13:41:52.997128Z",
     "shell.execute_reply": "2024-12-13T13:41:52.995762Z"
    },
    "papermill": {
     "duration": 0.05462,
     "end_time": "2024-12-13T13:41:52.999337",
     "exception": false,
     "start_time": "2024-12-13T13:41:52.944717",
     "status": "completed"
    },
    "tags": []
   },
   "outputs": [
    {
     "data": {
      "text/plain": [
       "last contact date        0\n",
       "age                      0\n",
       "job                    229\n",
       "marital                  0\n",
       "education             1467\n",
       "default                  0\n",
       "balance                  0\n",
       "housing                  0\n",
       "loan                     0\n",
       "contact              10336\n",
       "duration                 0\n",
       "campaign                 0\n",
       "pdays                    0\n",
       "previous                 0\n",
       "poutcome             29451\n",
       "target                   0\n",
       "dtype: int64"
      ]
     },
     "execution_count": 8,
     "metadata": {},
     "output_type": "execute_result"
    }
   ],
   "source": [
    "#Columns with Null values\n",
    "train_df.isnull().sum()"
   ]
  },
  {
   "cell_type": "markdown",
   "id": "147e3abf",
   "metadata": {
    "papermill": {
     "duration": 0.022943,
     "end_time": "2024-12-13T13:41:53.046015",
     "exception": false,
     "start_time": "2024-12-13T13:41:53.023072",
     "status": "completed"
    },
    "tags": []
   },
   "source": [
    "## **3.3 Test Dataset**"
   ]
  },
  {
   "cell_type": "code",
   "execution_count": 9,
   "id": "e9f15e66",
   "metadata": {
    "execution": {
     "iopub.execute_input": "2024-12-13T13:41:53.094632Z",
     "iopub.status.busy": "2024-12-13T13:41:53.094269Z",
     "iopub.status.idle": "2024-12-13T13:41:53.109249Z",
     "shell.execute_reply": "2024-12-13T13:41:53.108128Z"
    },
    "papermill": {
     "duration": 0.041966,
     "end_time": "2024-12-13T13:41:53.111308",
     "exception": false,
     "start_time": "2024-12-13T13:41:53.069342",
     "status": "completed"
    },
    "tags": []
   },
   "outputs": [
    {
     "data": {
      "text/html": [
       "<div>\n",
       "<style scoped>\n",
       "    .dataframe tbody tr th:only-of-type {\n",
       "        vertical-align: middle;\n",
       "    }\n",
       "\n",
       "    .dataframe tbody tr th {\n",
       "        vertical-align: top;\n",
       "    }\n",
       "\n",
       "    .dataframe thead th {\n",
       "        text-align: right;\n",
       "    }\n",
       "</style>\n",
       "<table border=\"1\" class=\"dataframe\">\n",
       "  <thead>\n",
       "    <tr style=\"text-align: right;\">\n",
       "      <th></th>\n",
       "      <th>last contact date</th>\n",
       "      <th>age</th>\n",
       "      <th>job</th>\n",
       "      <th>marital</th>\n",
       "      <th>education</th>\n",
       "      <th>default</th>\n",
       "      <th>balance</th>\n",
       "      <th>housing</th>\n",
       "      <th>loan</th>\n",
       "      <th>contact</th>\n",
       "      <th>duration</th>\n",
       "      <th>campaign</th>\n",
       "      <th>pdays</th>\n",
       "      <th>previous</th>\n",
       "      <th>poutcome</th>\n",
       "    </tr>\n",
       "  </thead>\n",
       "  <tbody>\n",
       "    <tr>\n",
       "      <th>0</th>\n",
       "      <td>2009-11-21</td>\n",
       "      <td>36</td>\n",
       "      <td>management</td>\n",
       "      <td>single</td>\n",
       "      <td>tertiary</td>\n",
       "      <td>no</td>\n",
       "      <td>7</td>\n",
       "      <td>no</td>\n",
       "      <td>no</td>\n",
       "      <td>NaN</td>\n",
       "      <td>20</td>\n",
       "      <td>1</td>\n",
       "      <td>-1</td>\n",
       "      <td>0</td>\n",
       "      <td>NaN</td>\n",
       "    </tr>\n",
       "    <tr>\n",
       "      <th>1</th>\n",
       "      <td>2010-02-04</td>\n",
       "      <td>30</td>\n",
       "      <td>unemployed</td>\n",
       "      <td>married</td>\n",
       "      <td>tertiary</td>\n",
       "      <td>no</td>\n",
       "      <td>1067</td>\n",
       "      <td>no</td>\n",
       "      <td>no</td>\n",
       "      <td>cellular</td>\n",
       "      <td>78</td>\n",
       "      <td>2</td>\n",
       "      <td>-1</td>\n",
       "      <td>0</td>\n",
       "      <td>NaN</td>\n",
       "    </tr>\n",
       "    <tr>\n",
       "      <th>2</th>\n",
       "      <td>2010-07-28</td>\n",
       "      <td>32</td>\n",
       "      <td>blue-collar</td>\n",
       "      <td>single</td>\n",
       "      <td>secondary</td>\n",
       "      <td>no</td>\n",
       "      <td>82</td>\n",
       "      <td>yes</td>\n",
       "      <td>no</td>\n",
       "      <td>cellular</td>\n",
       "      <td>86</td>\n",
       "      <td>4</td>\n",
       "      <td>-1</td>\n",
       "      <td>0</td>\n",
       "      <td>NaN</td>\n",
       "    </tr>\n",
       "    <tr>\n",
       "      <th>3</th>\n",
       "      <td>2010-06-09</td>\n",
       "      <td>38</td>\n",
       "      <td>admin.</td>\n",
       "      <td>married</td>\n",
       "      <td>primary</td>\n",
       "      <td>no</td>\n",
       "      <td>1487</td>\n",
       "      <td>no</td>\n",
       "      <td>no</td>\n",
       "      <td>NaN</td>\n",
       "      <td>332</td>\n",
       "      <td>2</td>\n",
       "      <td>-1</td>\n",
       "      <td>0</td>\n",
       "      <td>NaN</td>\n",
       "    </tr>\n",
       "    <tr>\n",
       "      <th>4</th>\n",
       "      <td>2008-03-02</td>\n",
       "      <td>59</td>\n",
       "      <td>management</td>\n",
       "      <td>married</td>\n",
       "      <td>tertiary</td>\n",
       "      <td>no</td>\n",
       "      <td>315</td>\n",
       "      <td>no</td>\n",
       "      <td>no</td>\n",
       "      <td>cellular</td>\n",
       "      <td>591</td>\n",
       "      <td>1</td>\n",
       "      <td>176</td>\n",
       "      <td>2</td>\n",
       "      <td>failure</td>\n",
       "    </tr>\n",
       "  </tbody>\n",
       "</table>\n",
       "</div>"
      ],
      "text/plain": [
       "  last contact date  age          job  marital  education default  balance  \\\n",
       "0        2009-11-21   36   management   single   tertiary      no        7   \n",
       "1        2010-02-04   30   unemployed  married   tertiary      no     1067   \n",
       "2        2010-07-28   32  blue-collar   single  secondary      no       82   \n",
       "3        2010-06-09   38       admin.  married    primary      no     1487   \n",
       "4        2008-03-02   59   management  married   tertiary      no      315   \n",
       "\n",
       "  housing loan   contact  duration  campaign  pdays  previous poutcome  \n",
       "0      no   no       NaN        20         1     -1         0      NaN  \n",
       "1      no   no  cellular        78         2     -1         0      NaN  \n",
       "2     yes   no  cellular        86         4     -1         0      NaN  \n",
       "3      no   no       NaN       332         2     -1         0      NaN  \n",
       "4      no   no  cellular       591         1    176         2  failure  "
      ]
     },
     "execution_count": 9,
     "metadata": {},
     "output_type": "execute_result"
    }
   ],
   "source": [
    "test_df.head()"
   ]
  },
  {
   "cell_type": "code",
   "execution_count": 10,
   "id": "c42acfa2",
   "metadata": {
    "execution": {
     "iopub.execute_input": "2024-12-13T13:41:53.160486Z",
     "iopub.status.busy": "2024-12-13T13:41:53.159774Z",
     "iopub.status.idle": "2024-12-13T13:41:53.175639Z",
     "shell.execute_reply": "2024-12-13T13:41:53.174428Z"
    },
    "papermill": {
     "duration": 0.042654,
     "end_time": "2024-12-13T13:41:53.177701",
     "exception": false,
     "start_time": "2024-12-13T13:41:53.135047",
     "status": "completed"
    },
    "tags": []
   },
   "outputs": [
    {
     "name": "stdout",
     "output_type": "stream",
     "text": [
      "<class 'pandas.core.frame.DataFrame'>\n",
      "RangeIndex: 10000 entries, 0 to 9999\n",
      "Data columns (total 15 columns):\n",
      " #   Column             Non-Null Count  Dtype \n",
      "---  ------             --------------  ----- \n",
      " 0   last contact date  10000 non-null  object\n",
      " 1   age                10000 non-null  int64 \n",
      " 2   job                9941 non-null   object\n",
      " 3   marital            10000 non-null  object\n",
      " 4   education          9610 non-null   object\n",
      " 5   default            10000 non-null  object\n",
      " 6   balance            10000 non-null  int64 \n",
      " 7   housing            10000 non-null  object\n",
      " 8   loan               10000 non-null  object\n",
      " 9   contact            7316 non-null   object\n",
      " 10  duration           10000 non-null  int64 \n",
      " 11  campaign           10000 non-null  int64 \n",
      " 12  pdays              10000 non-null  int64 \n",
      " 13  previous           10000 non-null  int64 \n",
      " 14  poutcome           2492 non-null   object\n",
      "dtypes: int64(6), object(9)\n",
      "memory usage: 1.1+ MB\n"
     ]
    }
   ],
   "source": [
    "test_df.info()"
   ]
  },
  {
   "cell_type": "code",
   "execution_count": 11,
   "id": "1c83e58d",
   "metadata": {
    "execution": {
     "iopub.execute_input": "2024-12-13T13:41:53.227746Z",
     "iopub.status.busy": "2024-12-13T13:41:53.227360Z",
     "iopub.status.idle": "2024-12-13T13:41:53.253009Z",
     "shell.execute_reply": "2024-12-13T13:41:53.252012Z"
    },
    "papermill": {
     "duration": 0.053456,
     "end_time": "2024-12-13T13:41:53.255183",
     "exception": false,
     "start_time": "2024-12-13T13:41:53.201727",
     "status": "completed"
    },
    "tags": []
   },
   "outputs": [
    {
     "data": {
      "text/html": [
       "<div>\n",
       "<style scoped>\n",
       "    .dataframe tbody tr th:only-of-type {\n",
       "        vertical-align: middle;\n",
       "    }\n",
       "\n",
       "    .dataframe tbody tr th {\n",
       "        vertical-align: top;\n",
       "    }\n",
       "\n",
       "    .dataframe thead th {\n",
       "        text-align: right;\n",
       "    }\n",
       "</style>\n",
       "<table border=\"1\" class=\"dataframe\">\n",
       "  <thead>\n",
       "    <tr style=\"text-align: right;\">\n",
       "      <th></th>\n",
       "      <th>age</th>\n",
       "      <th>balance</th>\n",
       "      <th>duration</th>\n",
       "      <th>campaign</th>\n",
       "      <th>pdays</th>\n",
       "      <th>previous</th>\n",
       "    </tr>\n",
       "  </thead>\n",
       "  <tbody>\n",
       "    <tr>\n",
       "      <th>count</th>\n",
       "      <td>10000.000000</td>\n",
       "      <td>10000.000000</td>\n",
       "      <td>10000.000000</td>\n",
       "      <td>10000.000000</td>\n",
       "      <td>10000.000000</td>\n",
       "      <td>10000.000000</td>\n",
       "    </tr>\n",
       "    <tr>\n",
       "      <th>mean</th>\n",
       "      <td>42.261200</td>\n",
       "      <td>5328.789200</td>\n",
       "      <td>437.117700</td>\n",
       "      <td>5.159700</td>\n",
       "      <td>71.705700</td>\n",
       "      <td>12.028100</td>\n",
       "    </tr>\n",
       "    <tr>\n",
       "      <th>std</th>\n",
       "      <td>12.650137</td>\n",
       "      <td>15944.545194</td>\n",
       "      <td>761.232963</td>\n",
       "      <td>9.975928</td>\n",
       "      <td>160.374253</td>\n",
       "      <td>44.467155</td>\n",
       "    </tr>\n",
       "    <tr>\n",
       "      <th>min</th>\n",
       "      <td>18.000000</td>\n",
       "      <td>-3372.000000</td>\n",
       "      <td>0.000000</td>\n",
       "      <td>1.000000</td>\n",
       "      <td>-1.000000</td>\n",
       "      <td>0.000000</td>\n",
       "    </tr>\n",
       "    <tr>\n",
       "      <th>25%</th>\n",
       "      <td>33.000000</td>\n",
       "      <td>92.000000</td>\n",
       "      <td>108.000000</td>\n",
       "      <td>1.000000</td>\n",
       "      <td>-1.000000</td>\n",
       "      <td>0.000000</td>\n",
       "    </tr>\n",
       "    <tr>\n",
       "      <th>50%</th>\n",
       "      <td>40.000000</td>\n",
       "      <td>541.000000</td>\n",
       "      <td>196.000000</td>\n",
       "      <td>2.000000</td>\n",
       "      <td>-1.000000</td>\n",
       "      <td>0.000000</td>\n",
       "    </tr>\n",
       "    <tr>\n",
       "      <th>75%</th>\n",
       "      <td>50.000000</td>\n",
       "      <td>2051.000000</td>\n",
       "      <td>380.000000</td>\n",
       "      <td>4.000000</td>\n",
       "      <td>-1.000000</td>\n",
       "      <td>0.000000</td>\n",
       "    </tr>\n",
       "    <tr>\n",
       "      <th>max</th>\n",
       "      <td>94.000000</td>\n",
       "      <td>101418.000000</td>\n",
       "      <td>4909.000000</td>\n",
       "      <td>63.000000</td>\n",
       "      <td>871.000000</td>\n",
       "      <td>275.000000</td>\n",
       "    </tr>\n",
       "  </tbody>\n",
       "</table>\n",
       "</div>"
      ],
      "text/plain": [
       "                age        balance      duration      campaign         pdays  \\\n",
       "count  10000.000000   10000.000000  10000.000000  10000.000000  10000.000000   \n",
       "mean      42.261200    5328.789200    437.117700      5.159700     71.705700   \n",
       "std       12.650137   15944.545194    761.232963      9.975928    160.374253   \n",
       "min       18.000000   -3372.000000      0.000000      1.000000     -1.000000   \n",
       "25%       33.000000      92.000000    108.000000      1.000000     -1.000000   \n",
       "50%       40.000000     541.000000    196.000000      2.000000     -1.000000   \n",
       "75%       50.000000    2051.000000    380.000000      4.000000     -1.000000   \n",
       "max       94.000000  101418.000000   4909.000000     63.000000    871.000000   \n",
       "\n",
       "           previous  \n",
       "count  10000.000000  \n",
       "mean      12.028100  \n",
       "std       44.467155  \n",
       "min        0.000000  \n",
       "25%        0.000000  \n",
       "50%        0.000000  \n",
       "75%        0.000000  \n",
       "max      275.000000  "
      ]
     },
     "execution_count": 11,
     "metadata": {},
     "output_type": "execute_result"
    }
   ],
   "source": [
    "#For Numeric columns\n",
    "test_df.describe()"
   ]
  },
  {
   "cell_type": "code",
   "execution_count": 12,
   "id": "b58440cf",
   "metadata": {
    "execution": {
     "iopub.execute_input": "2024-12-13T13:41:53.304723Z",
     "iopub.status.busy": "2024-12-13T13:41:53.304334Z",
     "iopub.status.idle": "2024-12-13T13:41:53.337510Z",
     "shell.execute_reply": "2024-12-13T13:41:53.336480Z"
    },
    "papermill": {
     "duration": 0.060463,
     "end_time": "2024-12-13T13:41:53.339738",
     "exception": false,
     "start_time": "2024-12-13T13:41:53.279275",
     "status": "completed"
    },
    "tags": []
   },
   "outputs": [
    {
     "data": {
      "text/html": [
       "<div>\n",
       "<style scoped>\n",
       "    .dataframe tbody tr th:only-of-type {\n",
       "        vertical-align: middle;\n",
       "    }\n",
       "\n",
       "    .dataframe tbody tr th {\n",
       "        vertical-align: top;\n",
       "    }\n",
       "\n",
       "    .dataframe thead th {\n",
       "        text-align: right;\n",
       "    }\n",
       "</style>\n",
       "<table border=\"1\" class=\"dataframe\">\n",
       "  <thead>\n",
       "    <tr style=\"text-align: right;\">\n",
       "      <th></th>\n",
       "      <th>last contact date</th>\n",
       "      <th>job</th>\n",
       "      <th>marital</th>\n",
       "      <th>education</th>\n",
       "      <th>default</th>\n",
       "      <th>housing</th>\n",
       "      <th>loan</th>\n",
       "      <th>contact</th>\n",
       "      <th>poutcome</th>\n",
       "    </tr>\n",
       "  </thead>\n",
       "  <tbody>\n",
       "    <tr>\n",
       "      <th>count</th>\n",
       "      <td>10000</td>\n",
       "      <td>9941</td>\n",
       "      <td>10000</td>\n",
       "      <td>9610</td>\n",
       "      <td>10000</td>\n",
       "      <td>10000</td>\n",
       "      <td>10000</td>\n",
       "      <td>7316</td>\n",
       "      <td>2492</td>\n",
       "    </tr>\n",
       "    <tr>\n",
       "      <th>unique</th>\n",
       "      <td>908</td>\n",
       "      <td>11</td>\n",
       "      <td>3</td>\n",
       "      <td>3</td>\n",
       "      <td>2</td>\n",
       "      <td>2</td>\n",
       "      <td>2</td>\n",
       "      <td>2</td>\n",
       "      <td>3</td>\n",
       "    </tr>\n",
       "    <tr>\n",
       "      <th>top</th>\n",
       "      <td>2008-05-15</td>\n",
       "      <td>management</td>\n",
       "      <td>married</td>\n",
       "      <td>secondary</td>\n",
       "      <td>no</td>\n",
       "      <td>yes</td>\n",
       "      <td>no</td>\n",
       "      <td>cellular</td>\n",
       "      <td>failure</td>\n",
       "    </tr>\n",
       "    <tr>\n",
       "      <th>freq</th>\n",
       "      <td>76</td>\n",
       "      <td>1996</td>\n",
       "      <td>5808</td>\n",
       "      <td>4960</td>\n",
       "      <td>9439</td>\n",
       "      <td>5469</td>\n",
       "      <td>8116</td>\n",
       "      <td>6295</td>\n",
       "      <td>1231</td>\n",
       "    </tr>\n",
       "  </tbody>\n",
       "</table>\n",
       "</div>"
      ],
      "text/plain": [
       "       last contact date         job  marital  education default housing  \\\n",
       "count              10000        9941    10000       9610   10000   10000   \n",
       "unique               908          11        3          3       2       2   \n",
       "top           2008-05-15  management  married  secondary      no     yes   \n",
       "freq                  76        1996     5808       4960    9439    5469   \n",
       "\n",
       "         loan   contact poutcome  \n",
       "count   10000      7316     2492  \n",
       "unique      2         2        3  \n",
       "top        no  cellular  failure  \n",
       "freq     8116      6295     1231  "
      ]
     },
     "execution_count": 12,
     "metadata": {},
     "output_type": "execute_result"
    }
   ],
   "source": [
    "#For Categorical columns\n",
    "test_df.describe(include=['O'])"
   ]
  },
  {
   "cell_type": "code",
   "execution_count": 13,
   "id": "e6759893",
   "metadata": {
    "execution": {
     "iopub.execute_input": "2024-12-13T13:41:53.389452Z",
     "iopub.status.busy": "2024-12-13T13:41:53.389086Z",
     "iopub.status.idle": "2024-12-13T13:41:53.401549Z",
     "shell.execute_reply": "2024-12-13T13:41:53.400637Z"
    },
    "papermill": {
     "duration": 0.040225,
     "end_time": "2024-12-13T13:41:53.403749",
     "exception": false,
     "start_time": "2024-12-13T13:41:53.363524",
     "status": "completed"
    },
    "tags": []
   },
   "outputs": [
    {
     "data": {
      "text/plain": [
       "last contact date       0\n",
       "age                     0\n",
       "job                    59\n",
       "marital                 0\n",
       "education             390\n",
       "default                 0\n",
       "balance                 0\n",
       "housing                 0\n",
       "loan                    0\n",
       "contact              2684\n",
       "duration                0\n",
       "campaign                0\n",
       "pdays                   0\n",
       "previous                0\n",
       "poutcome             7508\n",
       "dtype: int64"
      ]
     },
     "execution_count": 13,
     "metadata": {},
     "output_type": "execute_result"
    }
   ],
   "source": [
    "#Columns with Null values\n",
    "test_df.isnull().sum()"
   ]
  },
  {
   "cell_type": "markdown",
   "id": "747c1102",
   "metadata": {
    "papermill": {
     "duration": 0.025768,
     "end_time": "2024-12-13T13:41:53.453568",
     "exception": false,
     "start_time": "2024-12-13T13:41:53.427800",
     "status": "completed"
    },
    "tags": []
   },
   "source": [
    "## **3.4 Data Distribution**"
   ]
  },
  {
   "cell_type": "code",
   "execution_count": 14,
   "id": "bda18fb1",
   "metadata": {
    "execution": {
     "iopub.execute_input": "2024-12-13T13:41:53.503604Z",
     "iopub.status.busy": "2024-12-13T13:41:53.503219Z",
     "iopub.status.idle": "2024-12-13T13:41:53.668108Z",
     "shell.execute_reply": "2024-12-13T13:41:53.666983Z"
    },
    "papermill": {
     "duration": 0.193466,
     "end_time": "2024-12-13T13:41:53.671226",
     "exception": false,
     "start_time": "2024-12-13T13:41:53.477760",
     "status": "completed"
    },
    "tags": []
   },
   "outputs": [
    {
     "data": {
      "image/png": "[encoded data removed]",
      "text/plain": [
       "<Figure size 600x400 with 1 Axes>"
      ]
     },
     "metadata": {},
     "output_type": "display_data"
    }
   ],
   "source": [
    "class_counts = train_df['target'].value_counts()\n",
    "\n",
    "# Create pie chart\n",
    "plt.figure(figsize=(6, 4))\n",
    "plt.pie(class_counts.values, labels=class_counts.index,\n",
    "        autopct='%1.1f%%',colors=['red', 'green'])\n",
    "plt.title('Target\\'s Distribution')\n",
    "plt.axis('equal')\n",
    "plt.show()"
   ]
  },
  {
   "cell_type": "markdown",
   "id": "58e5d014",
   "metadata": {
    "papermill": {
     "duration": 0.028782,
     "end_time": "2024-12-13T13:41:53.746429",
     "exception": false,
     "start_time": "2024-12-13T13:41:53.717647",
     "status": "completed"
    },
    "tags": []
   },
   "source": [
    "###  **Ananlysis from the Pie chart:-**\n",
    "* Most of clients are less likely to subscribe.\n",
    "* Approximately only 15% of the Clients are subscribing to a Term Deposit.\n",
    "* **Dataset is highly Imbalanced.**"
   ]
  },
  {
   "cell_type": "markdown",
   "id": "0dd4fbd8",
   "metadata": {
    "papermill": {
     "duration": 0.023809,
     "end_time": "2024-12-13T13:41:53.794318",
     "exception": false,
     "start_time": "2024-12-13T13:41:53.770509",
     "status": "completed"
    },
    "tags": []
   },
   "source": [
    "## **3.5 Data Visualization**"
   ]
  },
  {
   "cell_type": "markdown",
   "id": "9681a124",
   "metadata": {
    "papermill": {
     "duration": 0.02418,
     "end_time": "2024-12-13T13:41:53.842445",
     "exception": false,
     "start_time": "2024-12-13T13:41:53.818265",
     "status": "completed"
    },
    "tags": []
   },
   "source": [
    "### **1. Histogram**"
   ]
  },
  {
   "cell_type": "code",
   "execution_count": 15,
   "id": "7ca7fc79",
   "metadata": {
    "execution": {
     "iopub.execute_input": "2024-12-13T13:41:53.893388Z",
     "iopub.status.busy": "2024-12-13T13:41:53.893021Z",
     "iopub.status.idle": "2024-12-13T13:41:55.338622Z",
     "shell.execute_reply": "2024-12-13T13:41:55.337665Z"
    },
    "papermill": {
     "duration": 1.474186,
     "end_time": "2024-12-13T13:41:55.341519",
     "exception": false,
     "start_time": "2024-12-13T13:41:53.867333",
     "status": "completed"
    },
    "tags": []
   },
   "outputs": [
    {
     "data": {
      "image/png": "[encoded data removed]",
      "text/plain": [
       "<Figure size 1000x1000 with 6 Axes>"
      ]
     },
     "metadata": {},
     "output_type": "display_data"
    }
   ],
   "source": [
    "#Histogram for all the numerical columns:-\n",
    "cols_to_plot=['age','balance','duration','campaign','pdays','previous']\n",
    "train_df[cols_to_plot].hist(figsize=(10, 10), bins=30, edgecolor='black')\n",
    "plt.subplots_adjust(hspace=0.5, wspace=0.5)"
   ]
  },
  {
   "cell_type": "markdown",
   "id": "45ef4fbe",
   "metadata": {
    "papermill": {
     "duration": 0.027805,
     "end_time": "2024-12-13T13:41:55.396857",
     "exception": false,
     "start_time": "2024-12-13T13:41:55.369052",
     "status": "completed"
    },
    "tags": []
   },
   "source": [
    "### **Analysis from the Histogram**\n",
    "* The age histogram shows a peak around **30-40 years old**, indicating a concentration of **middle-aged** individuals.\n",
    "* The balance chart shows a wide range of account balances, but with most of them being under 20,000 and a few outliers exceeding 80,000.\n",
    "* The duration distribution also shows uneven distribution with many of them towards shorter time periods, with some very long durations.\n",
    "* Campaign interactions are mostly clustered around lower values, with a few experiencing much higher participation.\n",
    "* The pdays histogram shows a similar pattern, with most time intervals being relatively short between events.\n",
    "* The previous histogram shows that the majority didn't had few prior engagements and a small number having significantly more."
   ]
  },
  {
   "cell_type": "markdown",
   "id": "f38b3bdd",
   "metadata": {
    "papermill": {
     "duration": 0.026403,
     "end_time": "2024-12-13T13:41:55.448931",
     "exception": false,
     "start_time": "2024-12-13T13:41:55.422528",
     "status": "completed"
    },
    "tags": []
   },
   "source": [
    "### **2. Skewness for Numerical Columns**"
   ]
  },
  {
   "cell_type": "code",
   "execution_count": 16,
   "id": "c8e0486e",
   "metadata": {
    "_kg_hide-output": true,
    "execution": {
     "iopub.execute_input": "2024-12-13T13:41:55.501768Z",
     "iopub.status.busy": "2024-12-13T13:41:55.500907Z",
     "iopub.status.idle": "2024-12-13T13:41:55.505677Z",
     "shell.execute_reply": "2024-12-13T13:41:55.504735Z"
    },
    "papermill": {
     "duration": 0.033335,
     "end_time": "2024-12-13T13:41:55.507785",
     "exception": false,
     "start_time": "2024-12-13T13:41:55.474450",
     "status": "completed"
    },
    "tags": []
   },
   "outputs": [],
   "source": [
    "cols_to_calculate = ['age', 'balance', 'duration', 'campaign', 'pdays', 'previous']\n",
    "#train_df[cols_to_calculate].skew()"
   ]
  },
  {
   "cell_type": "markdown",
   "id": "5267a854",
   "metadata": {
    "papermill": {
     "duration": 0.025126,
     "end_time": "2024-12-13T13:41:55.558305",
     "exception": false,
     "start_time": "2024-12-13T13:41:55.533179",
     "status": "completed"
    },
    "tags": []
   },
   "source": [
    "### **Analysis from the Skewness**\n",
    "* **Age:-**\n",
    "  * Positively skewed with the skewness of `1.124278`.\n",
    "  * It means there are more young individuals with fewer older peoples.\n",
    "* **Balance:-**\n",
    "  * Highly positive skewed with the skewness of `4.063587`.\n",
    "  * This implies that most accounts have low balances, with a few accounts having significantly high balances.\n",
    "* **Duration:-**\n",
    "  * Highly positive skewed with the skewness of `3.700585`.\n",
    "  * This indicates that most interactions or events are short, with some exceptionally long durations.\n",
    "* **Campaign:-**\n",
    "  * Highly positive skewed with the skewness of `3.839593`.\n",
    "  * This indicates that most campaign interactions are limited, with a few extensive campaign engagements.\n",
    "* **Pdays:-**\n",
    "  * Moderately positive skewed with skewness of `2.611773`.\n",
    "  * This implies that most time intervals between events are short, with some longer periods.\n",
    "* **Previous:-**\n",
    "  * Highly positive skewed with the skewness of `4.206573`.\n",
    "  * This indicates that most entities have few previous interactions, with a few having many prior engagements"
   ]
  },
  {
   "cell_type": "markdown",
   "id": "87c1dcf7",
   "metadata": {
    "papermill": {
     "duration": 0.025169,
     "end_time": "2024-12-13T13:41:55.609105",
     "exception": false,
     "start_time": "2024-12-13T13:41:55.583936",
     "status": "completed"
    },
    "tags": []
   },
   "source": [
    "### **3. Charts for Categorical Columns**"
   ]
  },
  {
   "cell_type": "code",
   "execution_count": 17,
   "id": "6759b78b",
   "metadata": {
    "execution": {
     "iopub.execute_input": "2024-12-13T13:41:55.713718Z",
     "iopub.status.busy": "2024-12-13T13:41:55.713321Z",
     "iopub.status.idle": "2024-12-13T13:41:56.074089Z",
     "shell.execute_reply": "2024-12-13T13:41:56.072927Z"
    },
    "papermill": {
     "duration": 0.389791,
     "end_time": "2024-12-13T13:41:56.076380",
     "exception": false,
     "start_time": "2024-12-13T13:41:55.686589",
     "status": "completed"
    },
    "tags": []
   },
   "outputs": [
    {
     "data": {
      "image/png": "[encoded data removed]",
      "text/plain": [
       "<Figure size 800x400 with 1 Axes>"
      ]
     },
     "metadata": {},
     "output_type": "display_data"
    }
   ],
   "source": [
    "job_percentages = train_df['job'].value_counts(normalize=True) * 100\n",
    "\n",
    "plt.figure(figsize=(8, 4))\n",
    "job_percentages.plot(kind='bar')\n",
    "plt.title('Percentage Distribution of Job Categories')\n",
    "plt.xlabel('Job Categories')\n",
    "plt.ylabel('Percentage of Employees')\n",
    "plt.xticks(rotation=45, ha='right')\n",
    "for i, v in enumerate(job_percentages):\n",
    "    plt.text(i, v, f'{v:.1f}%', ha='center', va='bottom')\n",
    "plt.tight_layout()\n",
    "plt.show()\n"
   ]
  },
  {
   "cell_type": "code",
   "execution_count": 18,
   "id": "49e6f72d",
   "metadata": {
    "execution": {
     "iopub.execute_input": "2024-12-13T13:41:56.131227Z",
     "iopub.status.busy": "2024-12-13T13:41:56.130277Z",
     "iopub.status.idle": "2024-12-13T13:41:56.914179Z",
     "shell.execute_reply": "2024-12-13T13:41:56.913103Z"
    },
    "papermill": {
     "duration": 0.814724,
     "end_time": "2024-12-13T13:41:56.917529",
     "exception": false,
     "start_time": "2024-12-13T13:41:56.102805",
     "status": "completed"
    },
    "tags": []
   },
   "outputs": [
    {
     "data": {
      "text/plain": [
       "<Figure size 640x480 with 0 Axes>"
      ]
     },
     "metadata": {},
     "output_type": "display_data"
    },
    {
     "data": {
      "image/png": "[encoded data removed]",
      "text/plain": [
       "<Figure size 2000x1000 with 7 Axes>"
      ]
     },
     "metadata": {},
     "output_type": "display_data"
    }
   ],
   "source": [
    "def create_feature_pie_charts(df):\n",
    "    # List of features to create pie charts for\n",
    "    features = ['marital', 'education', 'default', 'housing', 'loan', 'contact', 'poutcome']\n",
    "    \n",
    "    # Clear any existing plots\n",
    "    plt.clf()\n",
    "    \n",
    "    # Create a figure with subplots\n",
    "    fig = plt.figure(figsize=(20, 10))\n",
    "    \n",
    "    # Create pie chart for each feature\n",
    "    for idx, feature in enumerate(features, 1):\n",
    "        plt.subplot(3, 4, idx)\n",
    "        value_counts = df[feature].value_counts()\n",
    "        \n",
    "        # Create pie chart\n",
    "        plt.pie(value_counts.values, \n",
    "                labels=value_counts.index,\n",
    "                autopct='%1.1f%%',\n",
    "                startangle=90)\n",
    "        \n",
    "        plt.title(f'Distribution of {feature}')\n",
    "    \n",
    "    # Adjust layout to prevent overlap\n",
    "    plt.tight_layout(pad=1.0)\n",
    "    \n",
    "    # Return the figure\n",
    "    return fig\n",
    "fig = create_feature_pie_charts(train_df)\n",
    "plt.show()"
   ]
  },
  {
   "cell_type": "markdown",
   "id": "d5777759",
   "metadata": {
    "papermill": {
     "duration": 0.027574,
     "end_time": "2024-12-13T13:41:56.974412",
     "exception": false,
     "start_time": "2024-12-13T13:41:56.946838",
     "status": "completed"
    },
    "tags": []
   },
   "source": [
    "### **Analysis from the Pie-Chart**\n",
    "* **Job Distribution:** The largest segment is \"blue-collar\" at 19.9%, followed by \"management\" at 19.1% and \"technician\" at 15.6%.\n",
    "* **Marital Distribution:** The largest segment is \"married\" at 57.9%, followed by \"single\" at 28.7%, and \"divorced\" at 13.4%.\n",
    "* **Education Distribution:** The largest segment is \"secondary\" at 51.9%, followed by \"tertiary\" at 30.8% and \"primary\" at 17.3%.\n",
    "* **Default Distribution:** The largest segment is \"no\" at 94.2%, indicating that the majority have not defaulted. The smaller segment is \"yes\" at 5.8%\n",
    "* **Housing Distribution:** The largest segment is \"no\" at 55.2%, followed by \"yes\" at 44.8%.\n",
    "* **Loan Distribution:** The largest segment is \"yes\" at 81.2%, followed by \"no\" at 18.8%.\n",
    "* **Contact Distribution:** The largest segment is \"cellular\" at 86.7%, followed by \"telephone\" at 13.3%.\n",
    "* **Poutcome Distribution:** The largest segment is \"failure\" at 50.7%, followed by \"success\" at 23.1%, and \"other\" at 26.2%."
   ]
  },
  {
   "cell_type": "markdown",
   "id": "c3bfc7bb",
   "metadata": {
    "papermill": {
     "duration": 0.027841,
     "end_time": "2024-12-13T13:41:57.030091",
     "exception": false,
     "start_time": "2024-12-13T13:41:57.002250",
     "status": "completed"
    },
    "tags": []
   },
   "source": [
    "### **Label Encoding for Categorical Columns:**"
   ]
  },
  {
   "cell_type": "code",
   "execution_count": 19,
   "id": "067c0f8c",
   "metadata": {
    "execution": {
     "iopub.execute_input": "2024-12-13T13:41:57.087659Z",
     "iopub.status.busy": "2024-12-13T13:41:57.087277Z",
     "iopub.status.idle": "2024-12-13T13:41:57.095533Z",
     "shell.execute_reply": "2024-12-13T13:41:57.094517Z"
    },
    "papermill": {
     "duration": 0.040072,
     "end_time": "2024-12-13T13:41:57.097984",
     "exception": false,
     "start_time": "2024-12-13T13:41:57.057912",
     "status": "completed"
    },
    "tags": []
   },
   "outputs": [],
   "source": [
    "le_train_df=train_df.copy()"
   ]
  },
  {
   "cell_type": "code",
   "execution_count": 20,
   "id": "02855cb2",
   "metadata": {
    "execution": {
     "iopub.execute_input": "2024-12-13T13:41:57.155724Z",
     "iopub.status.busy": "2024-12-13T13:41:57.155334Z",
     "iopub.status.idle": "2024-12-13T13:41:57.229283Z",
     "shell.execute_reply": "2024-12-13T13:41:57.228244Z"
    },
    "papermill": {
     "duration": 0.105953,
     "end_time": "2024-12-13T13:41:57.231804",
     "exception": false,
     "start_time": "2024-12-13T13:41:57.125851",
     "status": "completed"
    },
    "tags": []
   },
   "outputs": [],
   "source": [
    "le = LabelEncoder()\n",
    "job = pd.Series(le.fit_transform(le_train_df['job']))\n",
    "marital = pd.Series(le.fit_transform(le_train_df['marital']))\n",
    "education = pd.Series(le.fit_transform(le_train_df['education']))\n",
    "default = pd.Series(le.fit_transform(le_train_df['default']))\n",
    "housing = pd.Series(le.fit_transform(le_train_df['housing']))\n",
    "loan = pd.Series(le.fit_transform(le_train_df['loan']))\n",
    "contact = pd.Series(le.fit_transform(le_train_df['contact']))\n",
    "poutcome = pd.Series(le.fit_transform(le_train_df['poutcome']))\n",
    "target = pd.Series(le.fit_transform(le_train_df['target']))"
   ]
  },
  {
   "cell_type": "code",
   "execution_count": 21,
   "id": "cfcb4bd1",
   "metadata": {
    "execution": {
     "iopub.execute_input": "2024-12-13T13:41:57.289458Z",
     "iopub.status.busy": "2024-12-13T13:41:57.289103Z",
     "iopub.status.idle": "2024-12-13T13:41:57.310812Z",
     "shell.execute_reply": "2024-12-13T13:41:57.309495Z"
    },
    "papermill": {
     "duration": 0.053284,
     "end_time": "2024-12-13T13:41:57.313315",
     "exception": false,
     "start_time": "2024-12-13T13:41:57.260031",
     "status": "completed"
    },
    "tags": []
   },
   "outputs": [],
   "source": [
    "le_num=le_train_df.drop(['job','marital','education','default','housing','loan','contact','poutcome','target'],axis=1)\n",
    "le_obj=pd.concat([job,marital,education,default,housing,loan,contact,poutcome,target],axis=1)\n",
    "le_obj.columns= ['job','marital','education','default','housing','loan','contact','poutcome','target']\n",
    "le_df=pd.concat([le_num,le_obj],axis=1)\n",
    "cols_to_plot = ['age', 'job', 'marital', 'education', 'default',\n",
    "       'balance', 'housing', 'loan', 'contact', 'duration', 'campaign',\n",
    "       'pdays', 'previous', 'poutcome', 'target']"
   ]
  },
  {
   "cell_type": "markdown",
   "id": "a462dc34",
   "metadata": {
    "papermill": {
     "duration": 0.028526,
     "end_time": "2024-12-13T13:41:57.371089",
     "exception": false,
     "start_time": "2024-12-13T13:41:57.342563",
     "status": "completed"
    },
    "tags": []
   },
   "source": [
    "## **3.6 BoxPlot**"
   ]
  },
  {
   "cell_type": "code",
   "execution_count": 22,
   "id": "167631a8",
   "metadata": {
    "execution": {
     "iopub.execute_input": "2024-12-13T13:41:57.430664Z",
     "iopub.status.busy": "2024-12-13T13:41:57.430267Z",
     "iopub.status.idle": "2024-12-13T13:41:57.646099Z",
     "shell.execute_reply": "2024-12-13T13:41:57.644760Z"
    },
    "papermill": {
     "duration": 0.248083,
     "end_time": "2024-12-13T13:41:57.648353",
     "exception": false,
     "start_time": "2024-12-13T13:41:57.400270",
     "status": "completed"
    },
    "tags": []
   },
   "outputs": [
    {
     "data": {
      "image/png": "[encoded data removed]",
      "text/plain": [
       "<Figure size 1200x500 with 1 Axes>"
      ]
     },
     "metadata": {},
     "output_type": "display_data"
    }
   ],
   "source": [
    "columns = ['balance', 'duration', 'pdays']\n",
    "plt.figure(figsize=(12,5))\n",
    "# ploting a box plot\n",
    "sns.boxplot(data=le_df[columns],palette=\"Set1\")\n",
    "plt.xticks(rotation=90)\n",
    "plt.ylim(3, 3000)\n",
    "plt.tight_layout()\n",
    "plt.show()"
   ]
  },
  {
   "cell_type": "code",
   "execution_count": 23,
   "id": "0b883811",
   "metadata": {
    "execution": {
     "iopub.execute_input": "2024-12-13T13:41:57.707302Z",
     "iopub.status.busy": "2024-12-13T13:41:57.706882Z",
     "iopub.status.idle": "2024-12-13T13:41:57.942249Z",
     "shell.execute_reply": "2024-12-13T13:41:57.941024Z"
    },
    "papermill": {
     "duration": 0.267732,
     "end_time": "2024-12-13T13:41:57.944550",
     "exception": false,
     "start_time": "2024-12-13T13:41:57.676818",
     "status": "completed"
    },
    "tags": []
   },
   "outputs": [
    {
     "data": {
      "image/png": "[encoded data removed]",
      "text/plain": [
       "<Figure size 1200x500 with 1 Axes>"
      ]
     },
     "metadata": {},
     "output_type": "display_data"
    }
   ],
   "source": [
    "columns = ['age','campaign','previous']\n",
    "plt.figure(figsize=(12,5))\n",
    "# ploting a box plot\n",
    "sns.boxplot(data=le_df[columns],palette=\"Set1\")\n",
    "plt.xticks(rotation=90)\n",
    "plt.ylim(3, 200)\n",
    "plt.tight_layout()\n",
    "plt.show()"
   ]
  },
  {
   "cell_type": "markdown",
   "id": "dcaa2723",
   "metadata": {
    "papermill": {
     "duration": 0.028319,
     "end_time": "2024-12-13T13:41:58.001706",
     "exception": false,
     "start_time": "2024-12-13T13:41:57.973387",
     "status": "completed"
    },
    "tags": []
   },
   "source": [
    "### **Analysis from the Box-Plot**\n",
    "* The Age feature has few Outliers but, they might be useful for the model.\n",
    "* Balance feature has lot of Outliers,It is also highly skewed toward the postive side.\n",
    "* Duration feature also has a significant amount of Outliers but it is quite important to know the interest of the client.\n",
    "* Campaign feature is also rightly skewed but has few Outliers too.\n",
    "* Most of the Clients were not contacted previously so the Inter Quartile Range is not very clear and hence most of the data points are considered as Outliers in case of P-days,Previous.  "
   ]
  },
  {
   "cell_type": "markdown",
   "id": "ba1dfe07",
   "metadata": {
    "papermill": {
     "duration": 0.028955,
     "end_time": "2024-12-13T13:41:58.059786",
     "exception": false,
     "start_time": "2024-12-13T13:41:58.030831",
     "status": "completed"
    },
    "tags": []
   },
   "source": [
    "## **3.7 HeatMap of Correlation Matrix**"
   ]
  },
  {
   "cell_type": "code",
   "execution_count": 24,
   "id": "3b60698d",
   "metadata": {
    "execution": {
     "iopub.execute_input": "2024-12-13T13:41:58.120916Z",
     "iopub.status.busy": "2024-12-13T13:41:58.119713Z",
     "iopub.status.idle": "2024-12-13T13:41:59.122005Z",
     "shell.execute_reply": "2024-12-13T13:41:59.120709Z"
    },
    "papermill": {
     "duration": 1.03767,
     "end_time": "2024-12-13T13:41:59.126163",
     "exception": false,
     "start_time": "2024-12-13T13:41:58.088493",
     "status": "completed"
    },
    "tags": []
   },
   "outputs": [
    {
     "data": {
      "text/plain": [
       "<Axes: >"
      ]
     },
     "execution_count": 24,
     "metadata": {},
     "output_type": "execute_result"
    },
    {
     "data": {
      "image/png": "[encoded data removed]",
      "text/plain": [
       "<Figure size 1200x600 with 2 Axes>"
      ]
     },
     "metadata": {},
     "output_type": "display_data"
    }
   ],
   "source": [
    "#correlation matrix\n",
    "corr_matrix = le_df[cols_to_plot].corr()\n",
    "plt.figure(figsize=(12,6))\n",
    "sns.heatmap(corr_matrix, annot=True, cmap='Purples')"
   ]
  },
  {
   "cell_type": "markdown",
   "id": "e83d2614",
   "metadata": {
    "papermill": {
     "duration": 0.031632,
     "end_time": "2024-12-13T13:41:59.190489",
     "exception": false,
     "start_time": "2024-12-13T13:41:59.158857",
     "status": "completed"
    },
    "tags": []
   },
   "source": [
    "### **Analysis from the Heatmap**\n",
    "* **Previous** and **Balance** feature has highest correlation of `0.72`.\n",
    "  * This means that Clients with higher balance are more likely to engage with Bank.\n",
    "  * The **Duration** and **Campaign** also has high significations with correlation of `0.68` and `0.69` respectively.\n",
    "  * Hence we can say that clients with high balance are more likely to take part in Bank's Campaign.\n",
    "* **Balance**,**Previous**,**Duration** and **Campaign** Columns plays a key role in the Sucess of the Bank's telemarking Campaign.\n",
    "* **Duration** has the correlation of `0.34` with the **Target** variable which suggest that in most of the cases longer conversations are fruitful for the bank."
   ]
  },
  {
   "cell_type": "markdown",
   "id": "948e5f55",
   "metadata": {
    "papermill": {
     "duration": 0.031825,
     "end_time": "2024-12-13T13:41:59.254196",
     "exception": false,
     "start_time": "2024-12-13T13:41:59.222371",
     "status": "completed"
    },
    "tags": []
   },
   "source": [
    "## **3.8 Exploratory Data Analysis Summary**\n",
    "\n",
    "* **Data Distribution**: \n",
    "  The numerical features demonstrate **extreme variability in ranges**, which means it should be **scaled** before model training to prevent features with larger magnitudes disproportionately influencing the model's performance. \n",
    "\n",
    "* **Categorical Feature**: \n",
    "  **Categorical variables require encoding** to transform qualitative data into numerical format. With **limited unique categories**, **one-hot encoding** is an optimal strategy to preserve categorical information.\n",
    "\n",
    "* **Missing Data**: \n",
    "  Several columns exhibit a lot of **missing values**, representing potential critical client information. Hence we need to impute those missing values using the **necessary stratergies** and gain maximum insight from them.\n",
    "\n",
    "* **Class Imbalance in Target Variable**: \n",
    "  The dataset shows **significant class imbalance** in the target column, which can be challenging for model training.   Hence training models on the basis of the **class weights** can be a nice strategy to deal with this issue.\n",
    "\n",
    "* **Numerical Feature Characteristics**: \n",
    "  **Pronounced skewness** and **extensive outlier presence** characterize the numerical features. Hence we to deal with them **statistical approach**, and also extract the maximum information from it.\n",
    " \n",
    "* **Encoding Strategy**: \n",
    "  Given the **limited categorical feature diversity**, **one-hot encoding** is an efficient approach to:\n",
    "  - Preserve categorical information\n",
    "  - Avoid introducing ordinal relationships\n",
    "  - Facilitate more fine model learning\n"
   ]
  },
  {
   "cell_type": "markdown",
   "id": "1f3a9383",
   "metadata": {
    "papermill": {
     "duration": 0.032256,
     "end_time": "2024-12-13T13:41:59.318552",
     "exception": false,
     "start_time": "2024-12-13T13:41:59.286296",
     "status": "completed"
    },
    "tags": []
   },
   "source": [
    "# **04. Pre-Processing**"
   ]
  },
  {
   "cell_type": "code",
   "execution_count": 25,
   "id": "e7f27042",
   "metadata": {
    "execution": {
     "iopub.execute_input": "2024-12-13T13:41:59.384078Z",
     "iopub.status.busy": "2024-12-13T13:41:59.383675Z",
     "iopub.status.idle": "2024-12-13T13:41:59.389761Z",
     "shell.execute_reply": "2024-12-13T13:41:59.388734Z"
    },
    "papermill": {
     "duration": 0.041865,
     "end_time": "2024-12-13T13:41:59.392273",
     "exception": false,
     "start_time": "2024-12-13T13:41:59.350408",
     "status": "completed"
    },
    "tags": []
   },
   "outputs": [],
   "source": [
    "# This pipline uses simple imputer with strategy as mean for missing values and then use standard scaler for normalising them.\n",
    "numerical_pipeline = make_pipeline(\n",
    "    SimpleImputer(strategy='mean'),\n",
    "    MinMaxScaler()\n",
    ")\n",
    "\n",
    "# This pipline uses simple imputer with strategy as most_frequent for missing values and then use onehotencoder for encoding.\n",
    "categorical_pipeline = make_pipeline(\n",
    "    SimpleImputer(strategy='most_frequent'),\n",
    "    OneHotEncoder(handle_unknown='ignore',sparse_output=False)\n",
    ")\n",
    "\n",
    "# This pipline uses simple imputer with strategy constant with value as 'MISSING' for missing values and then use onehotencoder for encoding.\n",
    "Null_pipeline = make_pipeline(\n",
    "    SimpleImputer(strategy='constant', fill_value='MISSING'),\n",
    "    OneHotEncoder(handle_unknown='ignore',sparse_output=False)\n",
    ")"
   ]
  },
  {
   "cell_type": "markdown",
   "id": "4a5e8c82",
   "metadata": {
    "papermill": {
     "duration": 0.03308,
     "end_time": "2024-12-13T13:41:59.458557",
     "exception": false,
     "start_time": "2024-12-13T13:41:59.425477",
     "status": "completed"
    },
    "tags": []
   },
   "source": [
    "### **Summary**\n",
    "* **Numerical Pipeline:-**\n",
    "   * First it will impute all the Null values with the mean of the Column.\n",
    "   * Then it will scale all the values with Min Max scaler.\n",
    "* **Categorical Pipeline:-**\n",
    "   * First it will impute all the Null values with the most frequent category in the Column.\n",
    "   * Then it will encode all of them Using One hot encoder.\n",
    "* **Null Pipeline:-**\n",
    "   * Poutcome Column has a lot of null Values hence First it will Impute those value with 'Missing'\n",
    "   * Then perform One Hot encoding On Poutcome."
   ]
  },
  {
   "cell_type": "markdown",
   "id": "a1008129",
   "metadata": {
    "papermill": {
     "duration": 0.031809,
     "end_time": "2024-12-13T13:41:59.522876",
     "exception": false,
     "start_time": "2024-12-13T13:41:59.491067",
     "status": "completed"
    },
    "tags": []
   },
   "source": [
    "# **05. Feature Engineering**"
   ]
  },
  {
   "cell_type": "markdown",
   "id": "6084d537",
   "metadata": {
    "papermill": {
     "duration": 0.032,
     "end_time": "2024-12-13T13:41:59.586968",
     "exception": false,
     "start_time": "2024-12-13T13:41:59.554968",
     "status": "completed"
    },
    "tags": []
   },
   "source": [
    "## **5.1 Last Contact Date**"
   ]
  },
  {
   "cell_type": "code",
   "execution_count": 26,
   "id": "b8e20d4f",
   "metadata": {
    "execution": {
     "iopub.execute_input": "2024-12-13T13:41:59.653016Z",
     "iopub.status.busy": "2024-12-13T13:41:59.652597Z",
     "iopub.status.idle": "2024-12-13T13:41:59.688697Z",
     "shell.execute_reply": "2024-12-13T13:41:59.687755Z"
    },
    "papermill": {
     "duration": 0.071679,
     "end_time": "2024-12-13T13:41:59.690923",
     "exception": false,
     "start_time": "2024-12-13T13:41:59.619244",
     "status": "completed"
    },
    "tags": []
   },
   "outputs": [],
   "source": [
    "# extracting year month and date for last_contact_date for train data\n",
    "train_df['last_contact_date_year'] = pd.to_datetime(train_df['last contact date']).dt.year\n",
    "train_df['last_contact_date_month'] = pd.to_datetime(train_df['last contact date']).dt.month\n",
    "train_df['last_contact_date_day'] = pd.to_datetime(train_df['last contact date']).dt.day\n",
    "\n",
    "train_df['last_contact_date_year'] = train_df['last_contact_date_year'].astype('int64')\n",
    "train_df['last_contact_date_month'] = train_df['last_contact_date_month'].astype('int64')\n",
    "train_df['last_contact_date_day'] = train_df['last_contact_date_day'].astype('int64')"
   ]
  },
  {
   "cell_type": "code",
   "execution_count": 27,
   "id": "abf5ecd3",
   "metadata": {
    "execution": {
     "iopub.execute_input": "2024-12-13T13:41:59.755828Z",
     "iopub.status.busy": "2024-12-13T13:41:59.754833Z",
     "iopub.status.idle": "2024-12-13T13:41:59.774326Z",
     "shell.execute_reply": "2024-12-13T13:41:59.773433Z"
    },
    "papermill": {
     "duration": 0.054427,
     "end_time": "2024-12-13T13:41:59.776603",
     "exception": false,
     "start_time": "2024-12-13T13:41:59.722176",
     "status": "completed"
    },
    "tags": []
   },
   "outputs": [],
   "source": [
    "# extracting year month and date for last_contact_date for test data\n",
    "test_df['last_contact_date_year'] = pd.to_datetime(test_df['last contact date']).dt.year\n",
    "test_df['last_contact_date_month'] = pd.to_datetime(test_df['last contact date']).dt.month\n",
    "test_df['last_contact_date_day'] = pd.to_datetime(test_df['last contact date']).dt.day\n",
    "\n",
    "test_df['last_contact_date_year'] = test_df['last_contact_date_year'].astype('int64')\n",
    "test_df['last_contact_date_month'] = test_df['last_contact_date_month'].astype('int64')\n",
    "test_df['last_contact_date_day'] = test_df['last_contact_date_day'].astype('int64')"
   ]
  },
  {
   "cell_type": "code",
   "execution_count": 28,
   "id": "3189498a",
   "metadata": {
    "execution": {
     "iopub.execute_input": "2024-12-13T13:41:59.840852Z",
     "iopub.status.busy": "2024-12-13T13:41:59.840475Z",
     "iopub.status.idle": "2024-12-13T13:41:59.852470Z",
     "shell.execute_reply": "2024-12-13T13:41:59.851185Z"
    },
    "papermill": {
     "duration": 0.046737,
     "end_time": "2024-12-13T13:41:59.854837",
     "exception": false,
     "start_time": "2024-12-13T13:41:59.808100",
     "status": "completed"
    },
    "tags": []
   },
   "outputs": [],
   "source": [
    "# Droping 'last contact date '\n",
    "train_df = train_df.drop(['last contact date'],axis=1)\n",
    "test_df = test_df.drop(['last contact date'],axis=1)"
   ]
  },
  {
   "cell_type": "markdown",
   "id": "d01605e1",
   "metadata": {
    "papermill": {
     "duration": 0.03128,
     "end_time": "2024-12-13T13:41:59.919368",
     "exception": false,
     "start_time": "2024-12-13T13:41:59.888088",
     "status": "completed"
    },
    "tags": []
   },
   "source": [
    "### **Report:-**\n",
    "* Splitting the Last_contact_date column into last_contact_date_year, last_contact_date_month, last_contact_date_day.\n",
    "* This helped preprocessing the column, and also take useful insights from it."
   ]
  },
  {
   "cell_type": "markdown",
   "id": "126783a1",
   "metadata": {
    "papermill": {
     "duration": 0.031178,
     "end_time": "2024-12-13T13:41:59.981715",
     "exception": false,
     "start_time": "2024-12-13T13:41:59.950537",
     "status": "completed"
    },
    "tags": []
   },
   "source": [
    "## **5.2 Age**"
   ]
  },
  {
   "cell_type": "code",
   "execution_count": 29,
   "id": "f2c1e2ac",
   "metadata": {
    "execution": {
     "iopub.execute_input": "2024-12-13T13:42:00.045539Z",
     "iopub.status.busy": "2024-12-13T13:42:00.045140Z",
     "iopub.status.idle": "2024-12-13T13:42:00.055054Z",
     "shell.execute_reply": "2024-12-13T13:42:00.054003Z"
    },
    "papermill": {
     "duration": 0.044401,
     "end_time": "2024-12-13T13:42:00.057161",
     "exception": false,
     "start_time": "2024-12-13T13:42:00.012760",
     "status": "completed"
    },
    "tags": []
   },
   "outputs": [],
   "source": [
    "q1_train = train_df['age'].quantile(0.25)\n",
    "q2_train = train_df['age'].median()\n",
    "q3_train = train_df['age'].quantile(0.75)"
   ]
  },
  {
   "cell_type": "code",
   "execution_count": 30,
   "id": "1d710846",
   "metadata": {
    "execution": {
     "iopub.execute_input": "2024-12-13T13:42:00.122757Z",
     "iopub.status.busy": "2024-12-13T13:42:00.122321Z",
     "iopub.status.idle": "2024-12-13T13:42:00.126875Z",
     "shell.execute_reply": "2024-12-13T13:42:00.125971Z"
    },
    "papermill": {
     "duration": 0.039534,
     "end_time": "2024-12-13T13:42:00.128966",
     "exception": false,
     "start_time": "2024-12-13T13:42:00.089432",
     "status": "completed"
    },
    "tags": []
   },
   "outputs": [],
   "source": [
    "# IQR = q1 - q3\n",
    "# low = q1 - 1.5 * IQR\n",
    "# high = q3 +  1.5 * IQR\n",
    "# train_df = train_df[(train_df['age'] > low) & (train_df['age'] < high)]"
   ]
  },
  {
   "cell_type": "markdown",
   "id": "36eb5758",
   "metadata": {
    "papermill": {
     "duration": 0.030964,
     "end_time": "2024-12-13T13:42:00.191289",
     "exception": false,
     "start_time": "2024-12-13T13:42:00.160325",
     "status": "completed"
    },
    "tags": []
   },
   "source": [
    "### **Report:-**\n",
    "* By removing the Outliers from the Age column, we are lossing important instances and hence the score is decreasing."
   ]
  },
  {
   "cell_type": "code",
   "execution_count": 31,
   "id": "fb58f7aa",
   "metadata": {
    "execution": {
     "iopub.execute_input": "2024-12-13T13:42:00.254903Z",
     "iopub.status.busy": "2024-12-13T13:42:00.254543Z",
     "iopub.status.idle": "2024-12-13T13:42:00.285839Z",
     "shell.execute_reply": "2024-12-13T13:42:00.284740Z"
    },
    "papermill": {
     "duration": 0.066094,
     "end_time": "2024-12-13T13:42:00.288435",
     "exception": false,
     "start_time": "2024-12-13T13:42:00.222341",
     "status": "completed"
    },
    "tags": []
   },
   "outputs": [],
   "source": [
    "def category_age(age):\n",
    "  if age<q1_train:\n",
    "    return 0\n",
    "  elif q1_train<=age<q2_train:\n",
    "    return 1\n",
    "  elif q2_train<=age<q3_train:\n",
    "    return 2\n",
    "  elif age>=q3_train:\n",
    "    return 3\n",
    "train_df['age']=train_df['age'].apply(category_age)"
   ]
  },
  {
   "cell_type": "code",
   "execution_count": 32,
   "id": "d3fdbf9f",
   "metadata": {
    "execution": {
     "iopub.execute_input": "2024-12-13T13:42:00.353330Z",
     "iopub.status.busy": "2024-12-13T13:42:00.352888Z",
     "iopub.status.idle": "2024-12-13T13:42:00.362036Z",
     "shell.execute_reply": "2024-12-13T13:42:00.361016Z"
    },
    "papermill": {
     "duration": 0.044121,
     "end_time": "2024-12-13T13:42:00.364390",
     "exception": false,
     "start_time": "2024-12-13T13:42:00.320269",
     "status": "completed"
    },
    "tags": []
   },
   "outputs": [],
   "source": [
    "q1_test = test_df['age'].quantile(0.25)\n",
    "q2_test = test_df['age'].median()\n",
    "q3_test = test_df['age'].quantile(0.75)"
   ]
  },
  {
   "cell_type": "code",
   "execution_count": 33,
   "id": "dd23c700",
   "metadata": {
    "execution": {
     "iopub.execute_input": "2024-12-13T13:42:00.430145Z",
     "iopub.status.busy": "2024-12-13T13:42:00.429730Z",
     "iopub.status.idle": "2024-12-13T13:42:00.442533Z",
     "shell.execute_reply": "2024-12-13T13:42:00.441608Z"
    },
    "papermill": {
     "duration": 0.048263,
     "end_time": "2024-12-13T13:42:00.444666",
     "exception": false,
     "start_time": "2024-12-13T13:42:00.396403",
     "status": "completed"
    },
    "tags": []
   },
   "outputs": [],
   "source": [
    "def category_age(age):\n",
    "  if age<q1_test:\n",
    "    return 0\n",
    "  elif q1_test<=age<q2_test:\n",
    "    return 1\n",
    "  elif q2_test<=age<q3_test:\n",
    "    return 2\n",
    "  elif age>=q3_test:\n",
    "    return 3\n",
    "test_df['age']=test_df['age'].apply(category_age)"
   ]
  },
  {
   "cell_type": "markdown",
   "id": "aebf3613",
   "metadata": {
    "papermill": {
     "duration": 0.031916,
     "end_time": "2024-12-13T13:42:00.509506",
     "exception": false,
     "start_time": "2024-12-13T13:42:00.477590",
     "status": "completed"
    },
    "tags": []
   },
   "source": [
    "### **Report:-**\n",
    "* This helps in categorising the Age column in various bins according to there Quartile range.\n",
    "* This also performs great on the test data."
   ]
  },
  {
   "cell_type": "markdown",
   "id": "73c25964",
   "metadata": {
    "papermill": {
     "duration": 0.031966,
     "end_time": "2024-12-13T13:42:00.573359",
     "exception": false,
     "start_time": "2024-12-13T13:42:00.541393",
     "status": "completed"
    },
    "tags": []
   },
   "source": [
    "## **5.3 Balance**"
   ]
  },
  {
   "cell_type": "code",
   "execution_count": 34,
   "id": "baecbc99",
   "metadata": {
    "execution": {
     "iopub.execute_input": "2024-12-13T13:42:00.639779Z",
     "iopub.status.busy": "2024-12-13T13:42:00.638489Z",
     "iopub.status.idle": "2024-12-13T13:42:00.648591Z",
     "shell.execute_reply": "2024-12-13T13:42:00.647416Z"
    },
    "papermill": {
     "duration": 0.045962,
     "end_time": "2024-12-13T13:42:00.651193",
     "exception": false,
     "start_time": "2024-12-13T13:42:00.605231",
     "status": "completed"
    },
    "tags": []
   },
   "outputs": [],
   "source": [
    "q1_train = train_df['balance'].quantile(0.25)\n",
    "q2_train = train_df['balance'].median()\n",
    "q3_train = train_df['balance'].quantile(0.75)"
   ]
  },
  {
   "cell_type": "code",
   "execution_count": 35,
   "id": "e0dd5d4b",
   "metadata": {
    "execution": {
     "iopub.execute_input": "2024-12-13T13:42:00.716361Z",
     "iopub.status.busy": "2024-12-13T13:42:00.715915Z",
     "iopub.status.idle": "2024-12-13T13:42:00.720631Z",
     "shell.execute_reply": "2024-12-13T13:42:00.719566Z"
    },
    "papermill": {
     "duration": 0.039854,
     "end_time": "2024-12-13T13:42:00.722870",
     "exception": false,
     "start_time": "2024-12-13T13:42:00.683016",
     "status": "completed"
    },
    "tags": []
   },
   "outputs": [],
   "source": [
    "# IQR = q1 - q3\n",
    "# low = q1 - 1.5 * IQR\n",
    "# high = q3 +  1.5 * IQR\n",
    "# train_df = train_df[(train_df['age'] > low) & (train_df['age'] < high)]"
   ]
  },
  {
   "cell_type": "markdown",
   "id": "75fd9c11",
   "metadata": {
    "papermill": {
     "duration": 0.031191,
     "end_time": "2024-12-13T13:42:00.785504",
     "exception": false,
     "start_time": "2024-12-13T13:42:00.754313",
     "status": "completed"
    },
    "tags": []
   },
   "source": [
    "### **Report:-**\n",
    "* By removing the Outliers from the Balance column, we are lossing important instances and hence the score is decreasing."
   ]
  },
  {
   "cell_type": "code",
   "execution_count": 36,
   "id": "1bc1e1cd",
   "metadata": {
    "execution": {
     "iopub.execute_input": "2024-12-13T13:42:00.850096Z",
     "iopub.status.busy": "2024-12-13T13:42:00.849661Z",
     "iopub.status.idle": "2024-12-13T13:42:00.855285Z",
     "shell.execute_reply": "2024-12-13T13:42:00.854088Z"
    },
    "papermill": {
     "duration": 0.040372,
     "end_time": "2024-12-13T13:42:00.857466",
     "exception": false,
     "start_time": "2024-12-13T13:42:00.817094",
     "status": "completed"
    },
    "tags": []
   },
   "outputs": [],
   "source": [
    "def category_balance(balance):\n",
    "  if balance<q1_train:\n",
    "    return 0\n",
    "  elif q1_train<=balance<q2_train:\n",
    "    return 1\n",
    "  elif q2_train<=balance<q3_train:\n",
    "    return 2\n",
    "  elif balance>=q3_train:\n",
    "    return 3\n",
    "#train_df['balance']=train_df['balance'].apply(category_balance)"
   ]
  },
  {
   "cell_type": "code",
   "execution_count": 37,
   "id": "2874d795",
   "metadata": {
    "execution": {
     "iopub.execute_input": "2024-12-13T13:42:00.924357Z",
     "iopub.status.busy": "2024-12-13T13:42:00.923933Z",
     "iopub.status.idle": "2024-12-13T13:42:00.932428Z",
     "shell.execute_reply": "2024-12-13T13:42:00.931395Z"
    },
    "papermill": {
     "duration": 0.044964,
     "end_time": "2024-12-13T13:42:00.934770",
     "exception": false,
     "start_time": "2024-12-13T13:42:00.889806",
     "status": "completed"
    },
    "tags": []
   },
   "outputs": [],
   "source": [
    "q1_test = test_df['balance'].quantile(0.25)\n",
    "q2_test = test_df['balance'].median()\n",
    "q3_test = test_df['balance'].quantile(0.75)"
   ]
  },
  {
   "cell_type": "code",
   "execution_count": 38,
   "id": "efb12482",
   "metadata": {
    "execution": {
     "iopub.execute_input": "2024-12-13T13:42:01.001149Z",
     "iopub.status.busy": "2024-12-13T13:42:01.000753Z",
     "iopub.status.idle": "2024-12-13T13:42:01.006173Z",
     "shell.execute_reply": "2024-12-13T13:42:01.005031Z"
    },
    "papermill": {
     "duration": 0.041286,
     "end_time": "2024-12-13T13:42:01.008365",
     "exception": false,
     "start_time": "2024-12-13T13:42:00.967079",
     "status": "completed"
    },
    "tags": []
   },
   "outputs": [],
   "source": [
    "def category_balance(balance):\n",
    "  if balance<q1_test:\n",
    "    return 0\n",
    "  elif q1_test<=balance<q2_test:\n",
    "    return 1\n",
    "  elif q2_test<=balance<q3_test:\n",
    "    return 2\n",
    "  elif balance>=q3_test:\n",
    "    return 3\n",
    "#test_df['balance']=test_df['balance'].apply(category_balance)"
   ]
  },
  {
   "cell_type": "markdown",
   "id": "76685c3c",
   "metadata": {
    "papermill": {
     "duration": 0.031564,
     "end_time": "2024-12-13T13:42:01.071489",
     "exception": false,
     "start_time": "2024-12-13T13:42:01.039925",
     "status": "completed"
    },
    "tags": []
   },
   "source": [
    "### **Report:-**\n",
    "* By doing feature engineering on the Balance column we are lossing some important insights of the Balance column.\n",
    "* The Overall score also decreases by doing this."
   ]
  },
  {
   "cell_type": "markdown",
   "id": "4d536f57",
   "metadata": {
    "papermill": {
     "duration": 0.03175,
     "end_time": "2024-12-13T13:42:01.135827",
     "exception": false,
     "start_time": "2024-12-13T13:42:01.104077",
     "status": "completed"
    },
    "tags": []
   },
   "source": [
    "# **06. Model Building**"
   ]
  },
  {
   "cell_type": "markdown",
   "id": "ebe761b6",
   "metadata": {
    "papermill": {
     "duration": 0.031755,
     "end_time": "2024-12-13T13:42:01.199853",
     "exception": false,
     "start_time": "2024-12-13T13:42:01.168098",
     "status": "completed"
    },
    "tags": []
   },
   "source": [
    "### **Data Splitting:-**"
   ]
  },
  {
   "cell_type": "code",
   "execution_count": 39,
   "id": "3de8cd56",
   "metadata": {
    "execution": {
     "iopub.execute_input": "2024-12-13T13:42:01.265411Z",
     "iopub.status.busy": "2024-12-13T13:42:01.265017Z",
     "iopub.status.idle": "2024-12-13T13:42:01.280366Z",
     "shell.execute_reply": "2024-12-13T13:42:01.279398Z"
    },
    "papermill": {
     "duration": 0.050527,
     "end_time": "2024-12-13T13:42:01.282691",
     "exception": false,
     "start_time": "2024-12-13T13:42:01.232164",
     "status": "completed"
    },
    "tags": []
   },
   "outputs": [],
   "source": [
    "# splitting train_df into X and y.\n",
    "X = train_df.drop(['target'],axis=1)\n",
    "y = train_df['target']\n",
    "y = (y == 'yes').astype(int) #converting to 1.0 or 0.0"
   ]
  },
  {
   "cell_type": "code",
   "execution_count": 40,
   "id": "c8266c9c",
   "metadata": {
    "execution": {
     "iopub.execute_input": "2024-12-13T13:42:01.348458Z",
     "iopub.status.busy": "2024-12-13T13:42:01.348041Z",
     "iopub.status.idle": "2024-12-13T13:42:01.372084Z",
     "shell.execute_reply": "2024-12-13T13:42:01.370854Z"
    },
    "papermill": {
     "duration": 0.060284,
     "end_time": "2024-12-13T13:42:01.374516",
     "exception": false,
     "start_time": "2024-12-13T13:42:01.314232",
     "status": "completed"
    },
    "tags": []
   },
   "outputs": [],
   "source": [
    "# Splitting X and y into train and test set, with 20% as test set.\n",
    "x_train, x_test, y_train, y_test = train_test_split(X,y,test_size=0.2,random_state=0)"
   ]
  },
  {
   "cell_type": "code",
   "execution_count": 41,
   "id": "b8bb7a0c",
   "metadata": {
    "execution": {
     "iopub.execute_input": "2024-12-13T13:42:01.440540Z",
     "iopub.status.busy": "2024-12-13T13:42:01.440145Z",
     "iopub.status.idle": "2024-12-13T13:42:01.454046Z",
     "shell.execute_reply": "2024-12-13T13:42:01.452789Z"
    },
    "papermill": {
     "duration": 0.051001,
     "end_time": "2024-12-13T13:42:01.457069",
     "exception": false,
     "start_time": "2024-12-13T13:42:01.406068",
     "status": "completed"
    },
    "tags": []
   },
   "outputs": [],
   "source": [
    "#To handle class Imbalance in the Dataset.\n",
    "class_weights = compute_class_weight('balanced', classes=np.unique(y), y=y)"
   ]
  },
  {
   "cell_type": "markdown",
   "id": "2fa14445",
   "metadata": {
    "papermill": {
     "duration": 0.031368,
     "end_time": "2024-12-13T13:42:01.521681",
     "exception": false,
     "start_time": "2024-12-13T13:42:01.490313",
     "status": "completed"
    },
    "tags": []
   },
   "source": [
    "### **Column Transformation:-**"
   ]
  },
  {
   "cell_type": "code",
   "execution_count": 42,
   "id": "dd28d8d4",
   "metadata": {
    "execution": {
     "iopub.execute_input": "2024-12-13T13:42:01.586810Z",
     "iopub.status.busy": "2024-12-13T13:42:01.586410Z",
     "iopub.status.idle": "2024-12-13T13:42:01.599897Z",
     "shell.execute_reply": "2024-12-13T13:42:01.598884Z"
    },
    "papermill": {
     "duration": 0.04897,
     "end_time": "2024-12-13T13:42:01.602269",
     "exception": false,
     "start_time": "2024-12-13T13:42:01.553299",
     "status": "completed"
    },
    "tags": []
   },
   "outputs": [],
   "source": [
    "numerical_features = train_df.select_dtypes(include=['int64', 'float64']).columns.tolist()\n",
    "\n",
    "categorical_features = ['job','contact','marital','default','housing','loan','education']\n",
    "\n",
    "Null_features = ['poutcome']\n",
    "#Because most of data points in the \"poutcome\" column is Null."
   ]
  },
  {
   "cell_type": "code",
   "execution_count": 43,
   "id": "97d02af3",
   "metadata": {
    "execution": {
     "iopub.execute_input": "2024-12-13T13:42:01.668381Z",
     "iopub.status.busy": "2024-12-13T13:42:01.667933Z",
     "iopub.status.idle": "2024-12-13T13:42:01.673485Z",
     "shell.execute_reply": "2024-12-13T13:42:01.672361Z"
    },
    "papermill": {
     "duration": 0.040879,
     "end_time": "2024-12-13T13:42:01.675588",
     "exception": false,
     "start_time": "2024-12-13T13:42:01.634709",
     "status": "completed"
    },
    "tags": []
   },
   "outputs": [],
   "source": [
    "# Transforming the columns using preprocessing techniques\n",
    "preprocessor = make_column_transformer(\n",
    "    (numerical_pipeline,numerical_features),\n",
    "    (categorical_pipeline,categorical_features),\n",
    "    (Null_pipeline,Null_features),\n",
    "    remainder='drop',\n",
    "    n_jobs =-1\n",
    ")"
   ]
  },
  {
   "cell_type": "markdown",
   "id": "f1c48f26",
   "metadata": {
    "papermill": {
     "duration": 0.031285,
     "end_time": "2024-12-13T13:42:01.738563",
     "exception": false,
     "start_time": "2024-12-13T13:42:01.707278",
     "status": "completed"
    },
    "tags": []
   },
   "source": [
    "## **6.1 Random Forest Classifier**"
   ]
  },
  {
   "cell_type": "code",
   "execution_count": 44,
   "id": "116b8a73",
   "metadata": {
    "execution": {
     "iopub.execute_input": "2024-12-13T13:42:01.803341Z",
     "iopub.status.busy": "2024-12-13T13:42:01.802916Z",
     "iopub.status.idle": "2024-12-13T13:42:01.808802Z",
     "shell.execute_reply": "2024-12-13T13:42:01.807466Z"
    },
    "papermill": {
     "duration": 0.040816,
     "end_time": "2024-12-13T13:42:01.810931",
     "exception": false,
     "start_time": "2024-12-13T13:42:01.770115",
     "status": "completed"
    },
    "tags": []
   },
   "outputs": [],
   "source": [
    "estimator_1 = RandomForestClassifier(\n",
    "    n_estimators=500,\n",
    "    criterion='gini',\n",
    "    max_depth=None,\n",
    "    min_samples_split=15,\n",
    "    min_samples_leaf=2,\n",
    "    max_features='sqrt',\n",
    "    class_weight={0: class_weights[0], 1: class_weights[1]},\n",
    "    random_state=42,\n",
    "    n_jobs=-1,\n",
    "    verbose=1\n",
    ")"
   ]
  },
  {
   "cell_type": "code",
   "execution_count": 45,
   "id": "f86d54d0",
   "metadata": {
    "execution": {
     "iopub.execute_input": "2024-12-13T13:42:01.875541Z",
     "iopub.status.busy": "2024-12-13T13:42:01.875147Z",
     "iopub.status.idle": "2024-12-13T13:42:01.880077Z",
     "shell.execute_reply": "2024-12-13T13:42:01.878964Z"
    },
    "papermill": {
     "duration": 0.040369,
     "end_time": "2024-12-13T13:42:01.882797",
     "exception": false,
     "start_time": "2024-12-13T13:42:01.842428",
     "status": "completed"
    },
    "tags": []
   },
   "outputs": [],
   "source": [
    "#Preprocessing the data then estimating it, using pipeline.\n",
    "model_pipeline_1 = make_pipeline(preprocessor,estimator_1) "
   ]
  },
  {
   "cell_type": "code",
   "execution_count": 46,
   "id": "0f84947a",
   "metadata": {
    "execution": {
     "iopub.execute_input": "2024-12-13T13:42:01.948568Z",
     "iopub.status.busy": "2024-12-13T13:42:01.948175Z",
     "iopub.status.idle": "2024-12-13T13:42:11.858486Z",
     "shell.execute_reply": "2024-12-13T13:42:11.857074Z"
    },
    "papermill": {
     "duration": 9.946892,
     "end_time": "2024-12-13T13:42:11.861530",
     "exception": false,
     "start_time": "2024-12-13T13:42:01.914638",
     "status": "completed"
    },
    "tags": []
   },
   "outputs": [
    {
     "name": "stderr",
     "output_type": "stream",
     "text": [
      "[Parallel(n_jobs=-1)]: Using backend ThreadingBackend with 4 concurrent workers.\n",
      "[Parallel(n_jobs=-1)]: Done  42 tasks      | elapsed:    0.7s\n",
      "[Parallel(n_jobs=-1)]: Done 192 tasks      | elapsed:    2.8s\n",
      "[Parallel(n_jobs=-1)]: Done 442 tasks      | elapsed:    6.5s\n",
      "[Parallel(n_jobs=-1)]: Done 500 out of 500 | elapsed:    7.5s finished\n"
     ]
    },
    {
     "data": {
      "text/html": [
       "<style>#sk-container-id-1 {color: black;background-color: white;}#sk-container-id-1 pre{padding: 0;}#sk-container-id-1 div.sk-toggleable {background-color: white;}#sk-container-id-1 label.sk-toggleable__label {cursor: pointer;display: block;width: 100%;margin-bottom: 0;padding: 0.3em;box-sizing: border-box;text-align: center;}#sk-container-id-1 label.sk-toggleable__label-arrow:before {content: \"▸\";float: left;margin-right: 0.25em;color: #696969;}#sk-container-id-1 label.sk-toggleable__label-arrow:hover:before {color: black;}#sk-container-id-1 div.sk-estimator:hover label.sk-toggleable__label-arrow:before {color: black;}#sk-container-id-1 div.sk-toggleable__content {max-height: 0;max-width: 0;overflow: hidden;text-align: left;background-color: #f0f8ff;}#sk-container-id-1 div.sk-toggleable__content pre {margin: 0.2em;color: black;border-radius: 0.25em;background-color: #f0f8ff;}#sk-container-id-1 input.sk-toggleable__control:checked~div.sk-toggleable__content {max-height: 200px;max-width: 100%;overflow: auto;}#sk-container-id-1 input.sk-toggleable__control:checked~label.sk-toggleable__label-arrow:before {content: \"▾\";}#sk-container-id-1 div.sk-estimator input.sk-toggleable__control:checked~label.sk-toggleable__label {background-color: #d4ebff;}#sk-container-id-1 div.sk-label input.sk-toggleable__control:checked~label.sk-toggleable__label {background-color: #d4ebff;}#sk-container-id-1 input.sk-hidden--visually {border: 0;clip: rect(1px 1px 1px 1px);clip: rect(1px, 1px, 1px, 1px);height: 1px;margin: -1px;overflow: hidden;padding: 0;position: absolute;width: 1px;}#sk-container-id-1 div.sk-estimator {font-family: monospace;background-color: #f0f8ff;border: 1px dotted black;border-radius: 0.25em;box-sizing: border-box;margin-bottom: 0.5em;}#sk-container-id-1 div.sk-estimator:hover {background-color: #d4ebff;}#sk-container-id-1 div.sk-parallel-item::after {content: \"\";width: 100%;border-bottom: 1px solid gray;flex-grow: 1;}#sk-container-id-1 div.sk-label:hover label.sk-toggleable__label {background-color: #d4ebff;}#sk-container-id-1 div.sk-serial::before {content: \"\";position: absolute;border-left: 1px solid gray;box-sizing: border-box;top: 0;bottom: 0;left: 50%;z-index: 0;}#sk-container-id-1 div.sk-serial {display: flex;flex-direction: column;align-items: center;background-color: white;padding-right: 0.2em;padding-left: 0.2em;position: relative;}#sk-container-id-1 div.sk-item {position: relative;z-index: 1;}#sk-container-id-1 div.sk-parallel {display: flex;align-items: stretch;justify-content: center;background-color: white;position: relative;}#sk-container-id-1 div.sk-item::before, #sk-container-id-1 div.sk-parallel-item::before {content: \"\";position: absolute;border-left: 1px solid gray;box-sizing: border-box;top: 0;bottom: 0;left: 50%;z-index: -1;}#sk-container-id-1 div.sk-parallel-item {display: flex;flex-direction: column;z-index: 1;position: relative;background-color: white;}#sk-container-id-1 div.sk-parallel-item:first-child::after {align-self: flex-end;width: 50%;}#sk-container-id-1 div.sk-parallel-item:last-child::after {align-self: flex-start;width: 50%;}#sk-container-id-1 div.sk-parallel-item:only-child::after {width: 0;}#sk-container-id-1 div.sk-dashed-wrapped {border: 1px dashed gray;margin: 0 0.4em 0.5em 0.4em;box-sizing: border-box;padding-bottom: 0.4em;background-color: white;}#sk-container-id-1 div.sk-label label {font-family: monospace;font-weight: bold;display: inline-block;line-height: 1.2em;}#sk-container-id-1 div.sk-label-container {text-align: center;}#sk-container-id-1 div.sk-container {/* jupyter's `normalize.less` sets `[hidden] { display: none; }` but bootstrap.min.css set `[hidden] { display: none !important; }` so we also need the `!important` here to be able to override the default hidden behavior on the sphinx rendered scikit-learn.org. See: https://github.com/scikit-learn/scikit-learn/issues/21755 */display: inline-block !important;position: relative;}#sk-container-id-1 div.sk-text-repr-fallback {display: none;}</style><div id=\"sk-container-id-1\" class=\"sk-top-container\"><div class=\"sk-text-repr-fallback\"><pre>Pipeline(steps=[(&#x27;columntransformer&#x27;,\n",
       "                 ColumnTransformer(n_jobs=-1,\n",
       "                                   transformers=[(&#x27;pipeline-1&#x27;,\n",
       "                                                  Pipeline(steps=[(&#x27;simpleimputer&#x27;,\n",
       "                                                                   SimpleImputer()),\n",
       "                                                                  (&#x27;minmaxscaler&#x27;,\n",
       "                                                                   MinMaxScaler())]),\n",
       "                                                  [&#x27;age&#x27;, &#x27;balance&#x27;, &#x27;duration&#x27;,\n",
       "                                                   &#x27;campaign&#x27;, &#x27;pdays&#x27;,\n",
       "                                                   &#x27;previous&#x27;,\n",
       "                                                   &#x27;last_contact_date_year&#x27;,\n",
       "                                                   &#x27;last_contact_date_month&#x27;,\n",
       "                                                   &#x27;last_contact_date_day&#x27;]),\n",
       "                                                 (&#x27;pipeline-2&#x27;,\n",
       "                                                  Pipeline(steps=[(&#x27;simple...\n",
       "                                                                   SimpleImputer(fill_value=&#x27;MISSING&#x27;,\n",
       "                                                                                 strategy=&#x27;constant&#x27;)),\n",
       "                                                                  (&#x27;onehotencoder&#x27;,\n",
       "                                                                   OneHotEncoder(handle_unknown=&#x27;ignore&#x27;,\n",
       "                                                                                 sparse_output=False))]),\n",
       "                                                  [&#x27;poutcome&#x27;])])),\n",
       "                (&#x27;randomforestclassifier&#x27;,\n",
       "                 RandomForestClassifier(class_weight={0: 0.5872723460340282,\n",
       "                                                      1: 3.3645958469195127},\n",
       "                                        min_samples_leaf=2,\n",
       "                                        min_samples_split=15, n_estimators=500,\n",
       "                                        n_jobs=-1, random_state=42,\n",
       "                                        verbose=1))])</pre><b>In a Jupyter environment, please rerun this cell to show the HTML representation or trust the notebook. <br />On GitHub, the HTML representation is unable to render, please try loading this page with nbviewer.org.</b></div><div class=\"sk-container\" hidden><div class=\"sk-item sk-dashed-wrapped\"><div class=\"sk-label-container\"><div class=\"sk-label sk-toggleable\"><input class=\"sk-toggleable__control sk-hidden--visually\" id=\"sk-estimator-id-1\" type=\"checkbox\" ><label for=\"sk-estimator-id-1\" class=\"sk-toggleable__label sk-toggleable__label-arrow\">Pipeline</label><div class=\"sk-toggleable__content\"><pre>Pipeline(steps=[(&#x27;columntransformer&#x27;,\n",
       "                 ColumnTransformer(n_jobs=-1,\n",
       "                                   transformers=[(&#x27;pipeline-1&#x27;,\n",
       "                                                  Pipeline(steps=[(&#x27;simpleimputer&#x27;,\n",
       "                                                                   SimpleImputer()),\n",
       "                                                                  (&#x27;minmaxscaler&#x27;,\n",
       "                                                                   MinMaxScaler())]),\n",
       "                                                  [&#x27;age&#x27;, &#x27;balance&#x27;, &#x27;duration&#x27;,\n",
       "                                                   &#x27;campaign&#x27;, &#x27;pdays&#x27;,\n",
       "                                                   &#x27;previous&#x27;,\n",
       "                                                   &#x27;last_contact_date_year&#x27;,\n",
       "                                                   &#x27;last_contact_date_month&#x27;,\n",
       "                                                   &#x27;last_contact_date_day&#x27;]),\n",
       "                                                 (&#x27;pipeline-2&#x27;,\n",
       "                                                  Pipeline(steps=[(&#x27;simple...\n",
       "                                                                   SimpleImputer(fill_value=&#x27;MISSING&#x27;,\n",
       "                                                                                 strategy=&#x27;constant&#x27;)),\n",
       "                                                                  (&#x27;onehotencoder&#x27;,\n",
       "                                                                   OneHotEncoder(handle_unknown=&#x27;ignore&#x27;,\n",
       "                                                                                 sparse_output=False))]),\n",
       "                                                  [&#x27;poutcome&#x27;])])),\n",
       "                (&#x27;randomforestclassifier&#x27;,\n",
       "                 RandomForestClassifier(class_weight={0: 0.5872723460340282,\n",
       "                                                      1: 3.3645958469195127},\n",
       "                                        min_samples_leaf=2,\n",
       "                                        min_samples_split=15, n_estimators=500,\n",
       "                                        n_jobs=-1, random_state=42,\n",
       "                                        verbose=1))])</pre></div></div></div><div class=\"sk-serial\"><div class=\"sk-item sk-dashed-wrapped\"><div class=\"sk-label-container\"><div class=\"sk-label sk-toggleable\"><input class=\"sk-toggleable__control sk-hidden--visually\" id=\"sk-estimator-id-2\" type=\"checkbox\" ><label for=\"sk-estimator-id-2\" class=\"sk-toggleable__label sk-toggleable__label-arrow\">columntransformer: ColumnTransformer</label><div class=\"sk-toggleable__content\"><pre>ColumnTransformer(n_jobs=-1,\n",
       "                  transformers=[(&#x27;pipeline-1&#x27;,\n",
       "                                 Pipeline(steps=[(&#x27;simpleimputer&#x27;,\n",
       "                                                  SimpleImputer()),\n",
       "                                                 (&#x27;minmaxscaler&#x27;,\n",
       "                                                  MinMaxScaler())]),\n",
       "                                 [&#x27;age&#x27;, &#x27;balance&#x27;, &#x27;duration&#x27;, &#x27;campaign&#x27;,\n",
       "                                  &#x27;pdays&#x27;, &#x27;previous&#x27;, &#x27;last_contact_date_year&#x27;,\n",
       "                                  &#x27;last_contact_date_month&#x27;,\n",
       "                                  &#x27;last_contact_date_day&#x27;]),\n",
       "                                (&#x27;pipeline-2&#x27;,\n",
       "                                 Pipeline(steps=[(&#x27;simpleimputer&#x27;,\n",
       "                                                  SimpleImputer(strategy=&#x27;most...t&#x27;)),\n",
       "                                                 (&#x27;onehotencoder&#x27;,\n",
       "                                                  OneHotEncoder(handle_unknown=&#x27;ignore&#x27;,\n",
       "                                                                sparse_output=False))]),\n",
       "                                 [&#x27;job&#x27;, &#x27;contact&#x27;, &#x27;marital&#x27;, &#x27;default&#x27;,\n",
       "                                  &#x27;housing&#x27;, &#x27;loan&#x27;, &#x27;education&#x27;]),\n",
       "                                (&#x27;pipeline-3&#x27;,\n",
       "                                 Pipeline(steps=[(&#x27;simpleimputer&#x27;,\n",
       "                                                  SimpleImputer(fill_value=&#x27;MISSING&#x27;,\n",
       "                                                                strategy=&#x27;constant&#x27;)),\n",
       "                                                 (&#x27;onehotencoder&#x27;,\n",
       "                                                  OneHotEncoder(handle_unknown=&#x27;ignore&#x27;,\n",
       "                                                                sparse_output=False))]),\n",
       "                                 [&#x27;poutcome&#x27;])])</pre></div></div></div><div class=\"sk-parallel\"><div class=\"sk-parallel-item\"><div class=\"sk-item\"><div class=\"sk-label-container\"><div class=\"sk-label sk-toggleable\"><input class=\"sk-toggleable__control sk-hidden--visually\" id=\"sk-estimator-id-3\" type=\"checkbox\" ><label for=\"sk-estimator-id-3\" class=\"sk-toggleable__label sk-toggleable__label-arrow\">pipeline-1</label><div class=\"sk-toggleable__content\"><pre>[&#x27;age&#x27;, &#x27;balance&#x27;, &#x27;duration&#x27;, &#x27;campaign&#x27;, &#x27;pdays&#x27;, &#x27;previous&#x27;, &#x27;last_contact_date_year&#x27;, &#x27;last_contact_date_month&#x27;, &#x27;last_contact_date_day&#x27;]</pre></div></div></div><div class=\"sk-serial\"><div class=\"sk-item\"><div class=\"sk-serial\"><div class=\"sk-item\"><div class=\"sk-estimator sk-toggleable\"><input class=\"sk-toggleable__control sk-hidden--visually\" id=\"sk-estimator-id-4\" type=\"checkbox\" ><label for=\"sk-estimator-id-4\" class=\"sk-toggleable__label sk-toggleable__label-arrow\">SimpleImputer</label><div class=\"sk-toggleable__content\"><pre>SimpleImputer()</pre></div></div></div><div class=\"sk-item\"><div class=\"sk-estimator sk-toggleable\"><input class=\"sk-toggleable__control sk-hidden--visually\" id=\"sk-estimator-id-5\" type=\"checkbox\" ><label for=\"sk-estimator-id-5\" class=\"sk-toggleable__label sk-toggleable__label-arrow\">MinMaxScaler</label><div class=\"sk-toggleable__content\"><pre>MinMaxScaler()</pre></div></div></div></div></div></div></div></div><div class=\"sk-parallel-item\"><div class=\"sk-item\"><div class=\"sk-label-container\"><div class=\"sk-label sk-toggleable\"><input class=\"sk-toggleable__control sk-hidden--visually\" id=\"sk-estimator-id-6\" type=\"checkbox\" ><label for=\"sk-estimator-id-6\" class=\"sk-toggleable__label sk-toggleable__label-arrow\">pipeline-2</label><div class=\"sk-toggleable__content\"><pre>[&#x27;job&#x27;, &#x27;contact&#x27;, &#x27;marital&#x27;, &#x27;default&#x27;, &#x27;housing&#x27;, &#x27;loan&#x27;, &#x27;education&#x27;]</pre></div></div></div><div class=\"sk-serial\"><div class=\"sk-item\"><div class=\"sk-serial\"><div class=\"sk-item\"><div class=\"sk-estimator sk-toggleable\"><input class=\"sk-toggleable__control sk-hidden--visually\" id=\"sk-estimator-id-7\" type=\"checkbox\" ><label for=\"sk-estimator-id-7\" class=\"sk-toggleable__label sk-toggleable__label-arrow\">SimpleImputer</label><div class=\"sk-toggleable__content\"><pre>SimpleImputer(strategy=&#x27;most_frequent&#x27;)</pre></div></div></div><div class=\"sk-item\"><div class=\"sk-estimator sk-toggleable\"><input class=\"sk-toggleable__control sk-hidden--visually\" id=\"sk-estimator-id-8\" type=\"checkbox\" ><label for=\"sk-estimator-id-8\" class=\"sk-toggleable__label sk-toggleable__label-arrow\">OneHotEncoder</label><div class=\"sk-toggleable__content\"><pre>OneHotEncoder(handle_unknown=&#x27;ignore&#x27;, sparse_output=False)</pre></div></div></div></div></div></div></div></div><div class=\"sk-parallel-item\"><div class=\"sk-item\"><div class=\"sk-label-container\"><div class=\"sk-label sk-toggleable\"><input class=\"sk-toggleable__control sk-hidden--visually\" id=\"sk-estimator-id-9\" type=\"checkbox\" ><label for=\"sk-estimator-id-9\" class=\"sk-toggleable__label sk-toggleable__label-arrow\">pipeline-3</label><div class=\"sk-toggleable__content\"><pre>[&#x27;poutcome&#x27;]</pre></div></div></div><div class=\"sk-serial\"><div class=\"sk-item\"><div class=\"sk-serial\"><div class=\"sk-item\"><div class=\"sk-estimator sk-toggleable\"><input class=\"sk-toggleable__control sk-hidden--visually\" id=\"sk-estimator-id-10\" type=\"checkbox\" ><label for=\"sk-estimator-id-10\" class=\"sk-toggleable__label sk-toggleable__label-arrow\">SimpleImputer</label><div class=\"sk-toggleable__content\"><pre>SimpleImputer(fill_value=&#x27;MISSING&#x27;, strategy=&#x27;constant&#x27;)</pre></div></div></div><div class=\"sk-item\"><div class=\"sk-estimator sk-toggleable\"><input class=\"sk-toggleable__control sk-hidden--visually\" id=\"sk-estimator-id-11\" type=\"checkbox\" ><label for=\"sk-estimator-id-11\" class=\"sk-toggleable__label sk-toggleable__label-arrow\">OneHotEncoder</label><div class=\"sk-toggleable__content\"><pre>OneHotEncoder(handle_unknown=&#x27;ignore&#x27;, sparse_output=False)</pre></div></div></div></div></div></div></div></div></div></div><div class=\"sk-item\"><div class=\"sk-estimator sk-toggleable\"><input class=\"sk-toggleable__control sk-hidden--visually\" id=\"sk-estimator-id-12\" type=\"checkbox\" ><label for=\"sk-estimator-id-12\" class=\"sk-toggleable__label sk-toggleable__label-arrow\">RandomForestClassifier</label><div class=\"sk-toggleable__content\"><pre>RandomForestClassifier(class_weight={0: 0.5872723460340282,\n",
       "                                     1: 3.3645958469195127},\n",
       "                       min_samples_leaf=2, min_samples_split=15,\n",
       "                       n_estimators=500, n_jobs=-1, random_state=42, verbose=1)</pre></div></div></div></div></div></div></div>"
      ],
      "text/plain": [
       "Pipeline(steps=[('columntransformer',\n",
       "                 ColumnTransformer(n_jobs=-1,\n",
       "                                   transformers=[('pipeline-1',\n",
       "                                                  Pipeline(steps=[('simpleimputer',\n",
       "                                                                   SimpleImputer()),\n",
       "                                                                  ('minmaxscaler',\n",
       "                                                                   MinMaxScaler())]),\n",
       "                                                  ['age', 'balance', 'duration',\n",
       "                                                   'campaign', 'pdays',\n",
       "                                                   'previous',\n",
       "                                                   'last_contact_date_year',\n",
       "                                                   'last_contact_date_month',\n",
       "                                                   'last_contact_date_day']),\n",
       "                                                 ('pipeline-2',\n",
       "                                                  Pipeline(steps=[('simple...\n",
       "                                                                   SimpleImputer(fill_value='MISSING',\n",
       "                                                                                 strategy='constant')),\n",
       "                                                                  ('onehotencoder',\n",
       "                                                                   OneHotEncoder(handle_unknown='ignore',\n",
       "                                                                                 sparse_output=False))]),\n",
       "                                                  ['poutcome'])])),\n",
       "                ('randomforestclassifier',\n",
       "                 RandomForestClassifier(class_weight={0: 0.5872723460340282,\n",
       "                                                      1: 3.3645958469195127},\n",
       "                                        min_samples_leaf=2,\n",
       "                                        min_samples_split=15, n_estimators=500,\n",
       "                                        n_jobs=-1, random_state=42,\n",
       "                                        verbose=1))])"
      ]
     },
     "execution_count": 46,
     "metadata": {},
     "output_type": "execute_result"
    }
   ],
   "source": [
    "# Fitting the Model on 80% Training Data and predicting On 20% Test Data.\n",
    "model_pipeline_1.fit(x_train,y_train)"
   ]
  },
  {
   "cell_type": "code",
   "execution_count": 47,
   "id": "4b3b8b83",
   "metadata": {
    "execution": {
     "iopub.execute_input": "2024-12-13T13:42:11.938504Z",
     "iopub.status.busy": "2024-12-13T13:42:11.938092Z",
     "iopub.status.idle": "2024-12-13T13:42:13.160736Z",
     "shell.execute_reply": "2024-12-13T13:42:13.159423Z"
    },
    "papermill": {
     "duration": 1.262481,
     "end_time": "2024-12-13T13:42:13.163264",
     "exception": false,
     "start_time": "2024-12-13T13:42:11.900783",
     "status": "completed"
    },
    "tags": []
   },
   "outputs": [
    {
     "name": "stderr",
     "output_type": "stream",
     "text": [
      "[Parallel(n_jobs=4)]: Using backend ThreadingBackend with 4 concurrent workers.\n",
      "[Parallel(n_jobs=4)]: Done  42 tasks      | elapsed:    0.0s\n",
      "[Parallel(n_jobs=4)]: Done 192 tasks      | elapsed:    0.1s\n",
      "[Parallel(n_jobs=4)]: Done 442 tasks      | elapsed:    0.3s\n",
      "[Parallel(n_jobs=4)]: Done 500 out of 500 | elapsed:    0.3s finished\n"
     ]
    }
   ],
   "source": [
    "y_pred_1 = model_pipeline_1.predict(x_test)\n",
    "f1_score_1 = f1_score(y_test, y_pred_1)"
   ]
  },
  {
   "cell_type": "code",
   "execution_count": 48,
   "id": "3620de07",
   "metadata": {
    "execution": {
     "iopub.execute_input": "2024-12-13T13:42:13.234338Z",
     "iopub.status.busy": "2024-12-13T13:42:13.233678Z",
     "iopub.status.idle": "2024-12-13T13:42:13.238485Z",
     "shell.execute_reply": "2024-12-13T13:42:13.237355Z"
    },
    "papermill": {
     "duration": 0.043277,
     "end_time": "2024-12-13T13:42:13.240648",
     "exception": false,
     "start_time": "2024-12-13T13:42:13.197371",
     "status": "completed"
    },
    "tags": []
   },
   "outputs": [],
   "source": [
    "#F1 score on the Test Dataset\n",
    "# print(f1_score_1)\n",
    "# 0.6091193873999304"
   ]
  },
  {
   "cell_type": "markdown",
   "id": "081399f8",
   "metadata": {
    "papermill": {
     "duration": 0.034482,
     "end_time": "2024-12-13T13:42:13.310264",
     "exception": false,
     "start_time": "2024-12-13T13:42:13.275782",
     "status": "completed"
    },
    "tags": []
   },
   "source": [
    "### **Cross-Validation:-**"
   ]
  },
  {
   "cell_type": "code",
   "execution_count": 49,
   "id": "aa8c05a8",
   "metadata": {
    "execution": {
     "iopub.execute_input": "2024-12-13T13:42:13.382156Z",
     "iopub.status.busy": "2024-12-13T13:42:13.381747Z",
     "iopub.status.idle": "2024-12-13T13:42:13.386495Z",
     "shell.execute_reply": "2024-12-13T13:42:13.385463Z"
    },
    "papermill": {
     "duration": 0.043432,
     "end_time": "2024-12-13T13:42:13.388596",
     "exception": false,
     "start_time": "2024-12-13T13:42:13.345164",
     "status": "completed"
    },
    "tags": []
   },
   "outputs": [],
   "source": [
    "#Cross Validation On the Training Dataset:-\n",
    "# scores = cross_val_score(\n",
    "#     estimator=model_pipeline_1, \n",
    "#     X=X, \n",
    "#     y=y, \n",
    "#     cv=5,  # 5-fold cross-validation\n",
    "#     scoring='f1'  \n",
    "# )\n",
    "\n",
    "# Print individual fold scores\n",
    "# print(\"Scores for each fold:\", scores)"
   ]
  },
  {
   "cell_type": "markdown",
   "id": "50e45e9c",
   "metadata": {
    "papermill": {
     "duration": 0.034594,
     "end_time": "2024-12-13T13:42:13.457300",
     "exception": false,
     "start_time": "2024-12-13T13:42:13.422706",
     "status": "completed"
    },
    "tags": []
   },
   "source": [
    "**Cross Validation Score:-**\n",
    "```\n",
    "Scores for each fold: [0.62634689 0.61452514 0.61470085 0.61694915 0.61875428]\n",
    "```\n",
    "* Seems to be a goodfit, since there is very low variation in the scores."
   ]
  },
  {
   "cell_type": "markdown",
   "id": "51ca0ff7",
   "metadata": {
    "papermill": {
     "duration": 0.035881,
     "end_time": "2024-12-13T13:42:13.527728",
     "exception": false,
     "start_time": "2024-12-13T13:42:13.491847",
     "status": "completed"
    },
    "tags": []
   },
   "source": [
    "## **6.2 Desicion Tree Classifier**"
   ]
  },
  {
   "cell_type": "code",
   "execution_count": 50,
   "id": "5ab0bd74",
   "metadata": {
    "execution": {
     "iopub.execute_input": "2024-12-13T13:42:13.597869Z",
     "iopub.status.busy": "2024-12-13T13:42:13.597492Z",
     "iopub.status.idle": "2024-12-13T13:42:13.603228Z",
     "shell.execute_reply": "2024-12-13T13:42:13.602040Z"
    },
    "papermill": {
     "duration": 0.043454,
     "end_time": "2024-12-13T13:42:13.605493",
     "exception": false,
     "start_time": "2024-12-13T13:42:13.562039",
     "status": "completed"
    },
    "tags": []
   },
   "outputs": [],
   "source": [
    "estimator_2 = DecisionTreeClassifier(\n",
    "    criterion='gini',\n",
    "    max_depth=None,  \n",
    "    min_samples_split=15, \n",
    "    min_samples_leaf=2,    \n",
    "    class_weight={0: class_weights[0], 1: class_weights[1]},  \n",
    "    random_state=42  \n",
    ")"
   ]
  },
  {
   "cell_type": "code",
   "execution_count": 51,
   "id": "12abc0cc",
   "metadata": {
    "execution": {
     "iopub.execute_input": "2024-12-13T13:42:13.676147Z",
     "iopub.status.busy": "2024-12-13T13:42:13.675668Z",
     "iopub.status.idle": "2024-12-13T13:42:13.680994Z",
     "shell.execute_reply": "2024-12-13T13:42:13.679886Z"
    },
    "papermill": {
     "duration": 0.043547,
     "end_time": "2024-12-13T13:42:13.683393",
     "exception": false,
     "start_time": "2024-12-13T13:42:13.639846",
     "status": "completed"
    },
    "tags": []
   },
   "outputs": [],
   "source": [
    "#Preprocessing the data then estimating it, using pipeline.\n",
    "model_pipeline_2 = make_pipeline(preprocessor,estimator_2) "
   ]
  },
  {
   "cell_type": "code",
   "execution_count": 52,
   "id": "44736650",
   "metadata": {
    "execution": {
     "iopub.execute_input": "2024-12-13T13:42:13.754415Z",
     "iopub.status.busy": "2024-12-13T13:42:13.753755Z",
     "iopub.status.idle": "2024-12-13T13:42:14.443357Z",
     "shell.execute_reply": "2024-12-13T13:42:14.442157Z"
    },
    "papermill": {
     "duration": 0.727761,
     "end_time": "2024-12-13T13:42:14.445455",
     "exception": false,
     "start_time": "2024-12-13T13:42:13.717694",
     "status": "completed"
    },
    "tags": []
   },
   "outputs": [
    {
     "data": {
      "text/html": [
       "<style>#sk-container-id-2 {color: black;background-color: white;}#sk-container-id-2 pre{padding: 0;}#sk-container-id-2 div.sk-toggleable {background-color: white;}#sk-container-id-2 label.sk-toggleable__label {cursor: pointer;display: block;width: 100%;margin-bottom: 0;padding: 0.3em;box-sizing: border-box;text-align: center;}#sk-container-id-2 label.sk-toggleable__label-arrow:before {content: \"▸\";float: left;margin-right: 0.25em;color: #696969;}#sk-container-id-2 label.sk-toggleable__label-arrow:hover:before {color: black;}#sk-container-id-2 div.sk-estimator:hover label.sk-toggleable__label-arrow:before {color: black;}#sk-container-id-2 div.sk-toggleable__content {max-height: 0;max-width: 0;overflow: hidden;text-align: left;background-color: #f0f8ff;}#sk-container-id-2 div.sk-toggleable__content pre {margin: 0.2em;color: black;border-radius: 0.25em;background-color: #f0f8ff;}#sk-container-id-2 input.sk-toggleable__control:checked~div.sk-toggleable__content {max-height: 200px;max-width: 100%;overflow: auto;}#sk-container-id-2 input.sk-toggleable__control:checked~label.sk-toggleable__label-arrow:before {content: \"▾\";}#sk-container-id-2 div.sk-estimator input.sk-toggleable__control:checked~label.sk-toggleable__label {background-color: #d4ebff;}#sk-container-id-2 div.sk-label input.sk-toggleable__control:checked~label.sk-toggleable__label {background-color: #d4ebff;}#sk-container-id-2 input.sk-hidden--visually {border: 0;clip: rect(1px 1px 1px 1px);clip: rect(1px, 1px, 1px, 1px);height: 1px;margin: -1px;overflow: hidden;padding: 0;position: absolute;width: 1px;}#sk-container-id-2 div.sk-estimator {font-family: monospace;background-color: #f0f8ff;border: 1px dotted black;border-radius: 0.25em;box-sizing: border-box;margin-bottom: 0.5em;}#sk-container-id-2 div.sk-estimator:hover {background-color: #d4ebff;}#sk-container-id-2 div.sk-parallel-item::after {content: \"\";width: 100%;border-bottom: 1px solid gray;flex-grow: 1;}#sk-container-id-2 div.sk-label:hover label.sk-toggleable__label {background-color: #d4ebff;}#sk-container-id-2 div.sk-serial::before {content: \"\";position: absolute;border-left: 1px solid gray;box-sizing: border-box;top: 0;bottom: 0;left: 50%;z-index: 0;}#sk-container-id-2 div.sk-serial {display: flex;flex-direction: column;align-items: center;background-color: white;padding-right: 0.2em;padding-left: 0.2em;position: relative;}#sk-container-id-2 div.sk-item {position: relative;z-index: 1;}#sk-container-id-2 div.sk-parallel {display: flex;align-items: stretch;justify-content: center;background-color: white;position: relative;}#sk-container-id-2 div.sk-item::before, #sk-container-id-2 div.sk-parallel-item::before {content: \"\";position: absolute;border-left: 1px solid gray;box-sizing: border-box;top: 0;bottom: 0;left: 50%;z-index: -1;}#sk-container-id-2 div.sk-parallel-item {display: flex;flex-direction: column;z-index: 1;position: relative;background-color: white;}#sk-container-id-2 div.sk-parallel-item:first-child::after {align-self: flex-end;width: 50%;}#sk-container-id-2 div.sk-parallel-item:last-child::after {align-self: flex-start;width: 50%;}#sk-container-id-2 div.sk-parallel-item:only-child::after {width: 0;}#sk-container-id-2 div.sk-dashed-wrapped {border: 1px dashed gray;margin: 0 0.4em 0.5em 0.4em;box-sizing: border-box;padding-bottom: 0.4em;background-color: white;}#sk-container-id-2 div.sk-label label {font-family: monospace;font-weight: bold;display: inline-block;line-height: 1.2em;}#sk-container-id-2 div.sk-label-container {text-align: center;}#sk-container-id-2 div.sk-container {/* jupyter's `normalize.less` sets `[hidden] { display: none; }` but bootstrap.min.css set `[hidden] { display: none !important; }` so we also need the `!important` here to be able to override the default hidden behavior on the sphinx rendered scikit-learn.org. See: https://github.com/scikit-learn/scikit-learn/issues/21755 */display: inline-block !important;position: relative;}#sk-container-id-2 div.sk-text-repr-fallback {display: none;}</style><div id=\"sk-container-id-2\" class=\"sk-top-container\"><div class=\"sk-text-repr-fallback\"><pre>Pipeline(steps=[(&#x27;columntransformer&#x27;,\n",
       "                 ColumnTransformer(n_jobs=-1,\n",
       "                                   transformers=[(&#x27;pipeline-1&#x27;,\n",
       "                                                  Pipeline(steps=[(&#x27;simpleimputer&#x27;,\n",
       "                                                                   SimpleImputer()),\n",
       "                                                                  (&#x27;minmaxscaler&#x27;,\n",
       "                                                                   MinMaxScaler())]),\n",
       "                                                  [&#x27;age&#x27;, &#x27;balance&#x27;, &#x27;duration&#x27;,\n",
       "                                                   &#x27;campaign&#x27;, &#x27;pdays&#x27;,\n",
       "                                                   &#x27;previous&#x27;,\n",
       "                                                   &#x27;last_contact_date_year&#x27;,\n",
       "                                                   &#x27;last_contact_date_month&#x27;,\n",
       "                                                   &#x27;last_contact_date_day&#x27;]),\n",
       "                                                 (&#x27;pipeline-2&#x27;,\n",
       "                                                  Pipeline(steps=[(&#x27;simple...\n",
       "                                                  Pipeline(steps=[(&#x27;simpleimputer&#x27;,\n",
       "                                                                   SimpleImputer(fill_value=&#x27;MISSING&#x27;,\n",
       "                                                                                 strategy=&#x27;constant&#x27;)),\n",
       "                                                                  (&#x27;onehotencoder&#x27;,\n",
       "                                                                   OneHotEncoder(handle_unknown=&#x27;ignore&#x27;,\n",
       "                                                                                 sparse_output=False))]),\n",
       "                                                  [&#x27;poutcome&#x27;])])),\n",
       "                (&#x27;decisiontreeclassifier&#x27;,\n",
       "                 DecisionTreeClassifier(class_weight={0: 0.5872723460340282,\n",
       "                                                      1: 3.3645958469195127},\n",
       "                                        min_samples_leaf=2,\n",
       "                                        min_samples_split=15,\n",
       "                                        random_state=42))])</pre><b>In a Jupyter environment, please rerun this cell to show the HTML representation or trust the notebook. <br />On GitHub, the HTML representation is unable to render, please try loading this page with nbviewer.org.</b></div><div class=\"sk-container\" hidden><div class=\"sk-item sk-dashed-wrapped\"><div class=\"sk-label-container\"><div class=\"sk-label sk-toggleable\"><input class=\"sk-toggleable__control sk-hidden--visually\" id=\"sk-estimator-id-13\" type=\"checkbox\" ><label for=\"sk-estimator-id-13\" class=\"sk-toggleable__label sk-toggleable__label-arrow\">Pipeline</label><div class=\"sk-toggleable__content\"><pre>Pipeline(steps=[(&#x27;columntransformer&#x27;,\n",
       "                 ColumnTransformer(n_jobs=-1,\n",
       "                                   transformers=[(&#x27;pipeline-1&#x27;,\n",
       "                                                  Pipeline(steps=[(&#x27;simpleimputer&#x27;,\n",
       "                                                                   SimpleImputer()),\n",
       "                                                                  (&#x27;minmaxscaler&#x27;,\n",
       "                                                                   MinMaxScaler())]),\n",
       "                                                  [&#x27;age&#x27;, &#x27;balance&#x27;, &#x27;duration&#x27;,\n",
       "                                                   &#x27;campaign&#x27;, &#x27;pdays&#x27;,\n",
       "                                                   &#x27;previous&#x27;,\n",
       "                                                   &#x27;last_contact_date_year&#x27;,\n",
       "                                                   &#x27;last_contact_date_month&#x27;,\n",
       "                                                   &#x27;last_contact_date_day&#x27;]),\n",
       "                                                 (&#x27;pipeline-2&#x27;,\n",
       "                                                  Pipeline(steps=[(&#x27;simple...\n",
       "                                                  Pipeline(steps=[(&#x27;simpleimputer&#x27;,\n",
       "                                                                   SimpleImputer(fill_value=&#x27;MISSING&#x27;,\n",
       "                                                                                 strategy=&#x27;constant&#x27;)),\n",
       "                                                                  (&#x27;onehotencoder&#x27;,\n",
       "                                                                   OneHotEncoder(handle_unknown=&#x27;ignore&#x27;,\n",
       "                                                                                 sparse_output=False))]),\n",
       "                                                  [&#x27;poutcome&#x27;])])),\n",
       "                (&#x27;decisiontreeclassifier&#x27;,\n",
       "                 DecisionTreeClassifier(class_weight={0: 0.5872723460340282,\n",
       "                                                      1: 3.3645958469195127},\n",
       "                                        min_samples_leaf=2,\n",
       "                                        min_samples_split=15,\n",
       "                                        random_state=42))])</pre></div></div></div><div class=\"sk-serial\"><div class=\"sk-item sk-dashed-wrapped\"><div class=\"sk-label-container\"><div class=\"sk-label sk-toggleable\"><input class=\"sk-toggleable__control sk-hidden--visually\" id=\"sk-estimator-id-14\" type=\"checkbox\" ><label for=\"sk-estimator-id-14\" class=\"sk-toggleable__label sk-toggleable__label-arrow\">columntransformer: ColumnTransformer</label><div class=\"sk-toggleable__content\"><pre>ColumnTransformer(n_jobs=-1,\n",
       "                  transformers=[(&#x27;pipeline-1&#x27;,\n",
       "                                 Pipeline(steps=[(&#x27;simpleimputer&#x27;,\n",
       "                                                  SimpleImputer()),\n",
       "                                                 (&#x27;minmaxscaler&#x27;,\n",
       "                                                  MinMaxScaler())]),\n",
       "                                 [&#x27;age&#x27;, &#x27;balance&#x27;, &#x27;duration&#x27;, &#x27;campaign&#x27;,\n",
       "                                  &#x27;pdays&#x27;, &#x27;previous&#x27;, &#x27;last_contact_date_year&#x27;,\n",
       "                                  &#x27;last_contact_date_month&#x27;,\n",
       "                                  &#x27;last_contact_date_day&#x27;]),\n",
       "                                (&#x27;pipeline-2&#x27;,\n",
       "                                 Pipeline(steps=[(&#x27;simpleimputer&#x27;,\n",
       "                                                  SimpleImputer(strategy=&#x27;most...t&#x27;)),\n",
       "                                                 (&#x27;onehotencoder&#x27;,\n",
       "                                                  OneHotEncoder(handle_unknown=&#x27;ignore&#x27;,\n",
       "                                                                sparse_output=False))]),\n",
       "                                 [&#x27;job&#x27;, &#x27;contact&#x27;, &#x27;marital&#x27;, &#x27;default&#x27;,\n",
       "                                  &#x27;housing&#x27;, &#x27;loan&#x27;, &#x27;education&#x27;]),\n",
       "                                (&#x27;pipeline-3&#x27;,\n",
       "                                 Pipeline(steps=[(&#x27;simpleimputer&#x27;,\n",
       "                                                  SimpleImputer(fill_value=&#x27;MISSING&#x27;,\n",
       "                                                                strategy=&#x27;constant&#x27;)),\n",
       "                                                 (&#x27;onehotencoder&#x27;,\n",
       "                                                  OneHotEncoder(handle_unknown=&#x27;ignore&#x27;,\n",
       "                                                                sparse_output=False))]),\n",
       "                                 [&#x27;poutcome&#x27;])])</pre></div></div></div><div class=\"sk-parallel\"><div class=\"sk-parallel-item\"><div class=\"sk-item\"><div class=\"sk-label-container\"><div class=\"sk-label sk-toggleable\"><input class=\"sk-toggleable__control sk-hidden--visually\" id=\"sk-estimator-id-15\" type=\"checkbox\" ><label for=\"sk-estimator-id-15\" class=\"sk-toggleable__label sk-toggleable__label-arrow\">pipeline-1</label><div class=\"sk-toggleable__content\"><pre>[&#x27;age&#x27;, &#x27;balance&#x27;, &#x27;duration&#x27;, &#x27;campaign&#x27;, &#x27;pdays&#x27;, &#x27;previous&#x27;, &#x27;last_contact_date_year&#x27;, &#x27;last_contact_date_month&#x27;, &#x27;last_contact_date_day&#x27;]</pre></div></div></div><div class=\"sk-serial\"><div class=\"sk-item\"><div class=\"sk-serial\"><div class=\"sk-item\"><div class=\"sk-estimator sk-toggleable\"><input class=\"sk-toggleable__control sk-hidden--visually\" id=\"sk-estimator-id-16\" type=\"checkbox\" ><label for=\"sk-estimator-id-16\" class=\"sk-toggleable__label sk-toggleable__label-arrow\">SimpleImputer</label><div class=\"sk-toggleable__content\"><pre>SimpleImputer()</pre></div></div></div><div class=\"sk-item\"><div class=\"sk-estimator sk-toggleable\"><input class=\"sk-toggleable__control sk-hidden--visually\" id=\"sk-estimator-id-17\" type=\"checkbox\" ><label for=\"sk-estimator-id-17\" class=\"sk-toggleable__label sk-toggleable__label-arrow\">MinMaxScaler</label><div class=\"sk-toggleable__content\"><pre>MinMaxScaler()</pre></div></div></div></div></div></div></div></div><div class=\"sk-parallel-item\"><div class=\"sk-item\"><div class=\"sk-label-container\"><div class=\"sk-label sk-toggleable\"><input class=\"sk-toggleable__control sk-hidden--visually\" id=\"sk-estimator-id-18\" type=\"checkbox\" ><label for=\"sk-estimator-id-18\" class=\"sk-toggleable__label sk-toggleable__label-arrow\">pipeline-2</label><div class=\"sk-toggleable__content\"><pre>[&#x27;job&#x27;, &#x27;contact&#x27;, &#x27;marital&#x27;, &#x27;default&#x27;, &#x27;housing&#x27;, &#x27;loan&#x27;, &#x27;education&#x27;]</pre></div></div></div><div class=\"sk-serial\"><div class=\"sk-item\"><div class=\"sk-serial\"><div class=\"sk-item\"><div class=\"sk-estimator sk-toggleable\"><input class=\"sk-toggleable__control sk-hidden--visually\" id=\"sk-estimator-id-19\" type=\"checkbox\" ><label for=\"sk-estimator-id-19\" class=\"sk-toggleable__label sk-toggleable__label-arrow\">SimpleImputer</label><div class=\"sk-toggleable__content\"><pre>SimpleImputer(strategy=&#x27;most_frequent&#x27;)</pre></div></div></div><div class=\"sk-item\"><div class=\"sk-estimator sk-toggleable\"><input class=\"sk-toggleable__control sk-hidden--visually\" id=\"sk-estimator-id-20\" type=\"checkbox\" ><label for=\"sk-estimator-id-20\" class=\"sk-toggleable__label sk-toggleable__label-arrow\">OneHotEncoder</label><div class=\"sk-toggleable__content\"><pre>OneHotEncoder(handle_unknown=&#x27;ignore&#x27;, sparse_output=False)</pre></div></div></div></div></div></div></div></div><div class=\"sk-parallel-item\"><div class=\"sk-item\"><div class=\"sk-label-container\"><div class=\"sk-label sk-toggleable\"><input class=\"sk-toggleable__control sk-hidden--visually\" id=\"sk-estimator-id-21\" type=\"checkbox\" ><label for=\"sk-estimator-id-21\" class=\"sk-toggleable__label sk-toggleable__label-arrow\">pipeline-3</label><div class=\"sk-toggleable__content\"><pre>[&#x27;poutcome&#x27;]</pre></div></div></div><div class=\"sk-serial\"><div class=\"sk-item\"><div class=\"sk-serial\"><div class=\"sk-item\"><div class=\"sk-estimator sk-toggleable\"><input class=\"sk-toggleable__control sk-hidden--visually\" id=\"sk-estimator-id-22\" type=\"checkbox\" ><label for=\"sk-estimator-id-22\" class=\"sk-toggleable__label sk-toggleable__label-arrow\">SimpleImputer</label><div class=\"sk-toggleable__content\"><pre>SimpleImputer(fill_value=&#x27;MISSING&#x27;, strategy=&#x27;constant&#x27;)</pre></div></div></div><div class=\"sk-item\"><div class=\"sk-estimator sk-toggleable\"><input class=\"sk-toggleable__control sk-hidden--visually\" id=\"sk-estimator-id-23\" type=\"checkbox\" ><label for=\"sk-estimator-id-23\" class=\"sk-toggleable__label sk-toggleable__label-arrow\">OneHotEncoder</label><div class=\"sk-toggleable__content\"><pre>OneHotEncoder(handle_unknown=&#x27;ignore&#x27;, sparse_output=False)</pre></div></div></div></div></div></div></div></div></div></div><div class=\"sk-item\"><div class=\"sk-estimator sk-toggleable\"><input class=\"sk-toggleable__control sk-hidden--visually\" id=\"sk-estimator-id-24\" type=\"checkbox\" ><label for=\"sk-estimator-id-24\" class=\"sk-toggleable__label sk-toggleable__label-arrow\">DecisionTreeClassifier</label><div class=\"sk-toggleable__content\"><pre>DecisionTreeClassifier(class_weight={0: 0.5872723460340282,\n",
       "                                     1: 3.3645958469195127},\n",
       "                       min_samples_leaf=2, min_samples_split=15,\n",
       "                       random_state=42)</pre></div></div></div></div></div></div></div>"
      ],
      "text/plain": [
       "Pipeline(steps=[('columntransformer',\n",
       "                 ColumnTransformer(n_jobs=-1,\n",
       "                                   transformers=[('pipeline-1',\n",
       "                                                  Pipeline(steps=[('simpleimputer',\n",
       "                                                                   SimpleImputer()),\n",
       "                                                                  ('minmaxscaler',\n",
       "                                                                   MinMaxScaler())]),\n",
       "                                                  ['age', 'balance', 'duration',\n",
       "                                                   'campaign', 'pdays',\n",
       "                                                   'previous',\n",
       "                                                   'last_contact_date_year',\n",
       "                                                   'last_contact_date_month',\n",
       "                                                   'last_contact_date_day']),\n",
       "                                                 ('pipeline-2',\n",
       "                                                  Pipeline(steps=[('simple...\n",
       "                                                  Pipeline(steps=[('simpleimputer',\n",
       "                                                                   SimpleImputer(fill_value='MISSING',\n",
       "                                                                                 strategy='constant')),\n",
       "                                                                  ('onehotencoder',\n",
       "                                                                   OneHotEncoder(handle_unknown='ignore',\n",
       "                                                                                 sparse_output=False))]),\n",
       "                                                  ['poutcome'])])),\n",
       "                ('decisiontreeclassifier',\n",
       "                 DecisionTreeClassifier(class_weight={0: 0.5872723460340282,\n",
       "                                                      1: 3.3645958469195127},\n",
       "                                        min_samples_leaf=2,\n",
       "                                        min_samples_split=15,\n",
       "                                        random_state=42))])"
      ]
     },
     "execution_count": 52,
     "metadata": {},
     "output_type": "execute_result"
    }
   ],
   "source": [
    "# Fitting the Model on 80% Training Data and predicting On 20% Test Data.\n",
    "model_pipeline_2.fit(x_train,y_train)"
   ]
  },
  {
   "cell_type": "code",
   "execution_count": 53,
   "id": "1a0cdd2a",
   "metadata": {
    "execution": {
     "iopub.execute_input": "2024-12-13T13:42:14.523807Z",
     "iopub.status.busy": "2024-12-13T13:42:14.522587Z",
     "iopub.status.idle": "2024-12-13T13:42:14.583918Z",
     "shell.execute_reply": "2024-12-13T13:42:14.583059Z"
    },
    "papermill": {
     "duration": 0.104669,
     "end_time": "2024-12-13T13:42:14.586446",
     "exception": false,
     "start_time": "2024-12-13T13:42:14.481777",
     "status": "completed"
    },
    "tags": []
   },
   "outputs": [],
   "source": [
    "y_pred_2 = model_pipeline_2.predict(x_test)\n",
    "f1_score_2 = f1_score(y_test, y_pred_2)"
   ]
  },
  {
   "cell_type": "code",
   "execution_count": 54,
   "id": "d2bb5531",
   "metadata": {
    "execution": {
     "iopub.execute_input": "2024-12-13T13:42:14.663840Z",
     "iopub.status.busy": "2024-12-13T13:42:14.663491Z",
     "iopub.status.idle": "2024-12-13T13:42:14.667852Z",
     "shell.execute_reply": "2024-12-13T13:42:14.666778Z"
    },
    "papermill": {
     "duration": 0.04239,
     "end_time": "2024-12-13T13:42:14.669925",
     "exception": false,
     "start_time": "2024-12-13T13:42:14.627535",
     "status": "completed"
    },
    "tags": []
   },
   "outputs": [],
   "source": [
    "#F1 score on the Test Dataset\n",
    "# print(f1_score_2)\n",
    "# 0.5403064623584277"
   ]
  },
  {
   "cell_type": "markdown",
   "id": "04a132e5",
   "metadata": {
    "papermill": {
     "duration": 0.03398,
     "end_time": "2024-12-13T13:42:14.738314",
     "exception": false,
     "start_time": "2024-12-13T13:42:14.704334",
     "status": "completed"
    },
    "tags": []
   },
   "source": [
    "### **Cross-Validation:-**"
   ]
  },
  {
   "cell_type": "code",
   "execution_count": 55,
   "id": "f13a7764",
   "metadata": {
    "execution": {
     "iopub.execute_input": "2024-12-13T13:42:14.811368Z",
     "iopub.status.busy": "2024-12-13T13:42:14.811002Z",
     "iopub.status.idle": "2024-12-13T13:42:14.815639Z",
     "shell.execute_reply": "2024-12-13T13:42:14.814426Z"
    },
    "papermill": {
     "duration": 0.045307,
     "end_time": "2024-12-13T13:42:14.817657",
     "exception": false,
     "start_time": "2024-12-13T13:42:14.772350",
     "status": "completed"
    },
    "tags": []
   },
   "outputs": [],
   "source": [
    "#Cross Validation On the Training Dataset:-\n",
    "# scores = cross_val_score(\n",
    "#     estimator=model_pipeline_2, \n",
    "#     X=X, \n",
    "#     y=y, \n",
    "#     cv=5,  # 5-fold cross-validation\n",
    "#     scoring='f1'  \n",
    "# )\n",
    "\n",
    "#Print individual fold scores\n",
    "#print(\"Scores for each fold:\", scores)"
   ]
  },
  {
   "cell_type": "markdown",
   "id": "eefa6536",
   "metadata": {
    "papermill": {
     "duration": 0.034102,
     "end_time": "2024-12-13T13:42:14.886249",
     "exception": false,
     "start_time": "2024-12-13T13:42:14.852147",
     "status": "completed"
    },
    "tags": []
   },
   "source": [
    "**Cross Validation Score**\n",
    "```\n",
    "Scores for each fold: [0.53328873 0.52042161 0.52040483 0.50853018 0.52716298]\n",
    "```\n",
    "* Model is Overfiiting on the train dataset hence the variation is high, also the score on test Data is low."
   ]
  },
  {
   "cell_type": "markdown",
   "id": "681e8aa0",
   "metadata": {
    "papermill": {
     "duration": 0.034943,
     "end_time": "2024-12-13T13:42:14.957680",
     "exception": false,
     "start_time": "2024-12-13T13:42:14.922737",
     "status": "completed"
    },
    "tags": []
   },
   "source": [
    "## **6.3 AdaBoost Classifier**"
   ]
  },
  {
   "cell_type": "code",
   "execution_count": 56,
   "id": "4b53930a",
   "metadata": {
    "execution": {
     "iopub.execute_input": "2024-12-13T13:42:15.028704Z",
     "iopub.status.busy": "2024-12-13T13:42:15.028339Z",
     "iopub.status.idle": "2024-12-13T13:42:15.033537Z",
     "shell.execute_reply": "2024-12-13T13:42:15.032545Z"
    },
    "papermill": {
     "duration": 0.04339,
     "end_time": "2024-12-13T13:42:15.035753",
     "exception": false,
     "start_time": "2024-12-13T13:42:14.992363",
     "status": "completed"
    },
    "tags": []
   },
   "outputs": [],
   "source": [
    "estimator_3 = AdaBoostClassifier(\n",
    "    estimator=DecisionTreeClassifier(\n",
    "        max_depth=3,\n",
    "        random_state=42,\n",
    "        class_weight={0: class_weights[0], 1: class_weights[1]}\n",
    "    ),\n",
    "    n_estimators=500,\n",
    "    learning_rate=0.1,  \n",
    "    random_state=42,\n",
    "    algorithm='SAMME.R'\n",
    ")"
   ]
  },
  {
   "cell_type": "code",
   "execution_count": 57,
   "id": "9ce04974",
   "metadata": {
    "execution": {
     "iopub.execute_input": "2024-12-13T13:42:15.107677Z",
     "iopub.status.busy": "2024-12-13T13:42:15.107286Z",
     "iopub.status.idle": "2024-12-13T13:42:15.112362Z",
     "shell.execute_reply": "2024-12-13T13:42:15.111156Z"
    },
    "papermill": {
     "duration": 0.044211,
     "end_time": "2024-12-13T13:42:15.115110",
     "exception": false,
     "start_time": "2024-12-13T13:42:15.070899",
     "status": "completed"
    },
    "tags": []
   },
   "outputs": [],
   "source": [
    "#Preprocessing the data then estimating it, using pipeline.\n",
    "model_pipeline_3 = make_pipeline(preprocessor,estimator_3) "
   ]
  },
  {
   "cell_type": "code",
   "execution_count": 58,
   "id": "77f0554a",
   "metadata": {
    "execution": {
     "iopub.execute_input": "2024-12-13T13:42:15.187572Z",
     "iopub.status.busy": "2024-12-13T13:42:15.187197Z",
     "iopub.status.idle": "2024-12-13T13:42:55.970910Z",
     "shell.execute_reply": "2024-12-13T13:42:55.969798Z"
    },
    "papermill": {
     "duration": 40.85873,
     "end_time": "2024-12-13T13:42:56.009891",
     "exception": false,
     "start_time": "2024-12-13T13:42:15.151161",
     "status": "completed"
    },
    "tags": []
   },
   "outputs": [
    {
     "data": {
      "text/html": [
       "<style>#sk-container-id-3 {color: black;background-color: white;}#sk-container-id-3 pre{padding: 0;}#sk-container-id-3 div.sk-toggleable {background-color: white;}#sk-container-id-3 label.sk-toggleable__label {cursor: pointer;display: block;width: 100%;margin-bottom: 0;padding: 0.3em;box-sizing: border-box;text-align: center;}#sk-container-id-3 label.sk-toggleable__label-arrow:before {content: \"▸\";float: left;margin-right: 0.25em;color: #696969;}#sk-container-id-3 label.sk-toggleable__label-arrow:hover:before {color: black;}#sk-container-id-3 div.sk-estimator:hover label.sk-toggleable__label-arrow:before {color: black;}#sk-container-id-3 div.sk-toggleable__content {max-height: 0;max-width: 0;overflow: hidden;text-align: left;background-color: #f0f8ff;}#sk-container-id-3 div.sk-toggleable__content pre {margin: 0.2em;color: black;border-radius: 0.25em;background-color: #f0f8ff;}#sk-container-id-3 input.sk-toggleable__control:checked~div.sk-toggleable__content {max-height: 200px;max-width: 100%;overflow: auto;}#sk-container-id-3 input.sk-toggleable__control:checked~label.sk-toggleable__label-arrow:before {content: \"▾\";}#sk-container-id-3 div.sk-estimator input.sk-toggleable__control:checked~label.sk-toggleable__label {background-color: #d4ebff;}#sk-container-id-3 div.sk-label input.sk-toggleable__control:checked~label.sk-toggleable__label {background-color: #d4ebff;}#sk-container-id-3 input.sk-hidden--visually {border: 0;clip: rect(1px 1px 1px 1px);clip: rect(1px, 1px, 1px, 1px);height: 1px;margin: -1px;overflow: hidden;padding: 0;position: absolute;width: 1px;}#sk-container-id-3 div.sk-estimator {font-family: monospace;background-color: #f0f8ff;border: 1px dotted black;border-radius: 0.25em;box-sizing: border-box;margin-bottom: 0.5em;}#sk-container-id-3 div.sk-estimator:hover {background-color: #d4ebff;}#sk-container-id-3 div.sk-parallel-item::after {content: \"\";width: 100%;border-bottom: 1px solid gray;flex-grow: 1;}#sk-container-id-3 div.sk-label:hover label.sk-toggleable__label {background-color: #d4ebff;}#sk-container-id-3 div.sk-serial::before {content: \"\";position: absolute;border-left: 1px solid gray;box-sizing: border-box;top: 0;bottom: 0;left: 50%;z-index: 0;}#sk-container-id-3 div.sk-serial {display: flex;flex-direction: column;align-items: center;background-color: white;padding-right: 0.2em;padding-left: 0.2em;position: relative;}#sk-container-id-3 div.sk-item {position: relative;z-index: 1;}#sk-container-id-3 div.sk-parallel {display: flex;align-items: stretch;justify-content: center;background-color: white;position: relative;}#sk-container-id-3 div.sk-item::before, #sk-container-id-3 div.sk-parallel-item::before {content: \"\";position: absolute;border-left: 1px solid gray;box-sizing: border-box;top: 0;bottom: 0;left: 50%;z-index: -1;}#sk-container-id-3 div.sk-parallel-item {display: flex;flex-direction: column;z-index: 1;position: relative;background-color: white;}#sk-container-id-3 div.sk-parallel-item:first-child::after {align-self: flex-end;width: 50%;}#sk-container-id-3 div.sk-parallel-item:last-child::after {align-self: flex-start;width: 50%;}#sk-container-id-3 div.sk-parallel-item:only-child::after {width: 0;}#sk-container-id-3 div.sk-dashed-wrapped {border: 1px dashed gray;margin: 0 0.4em 0.5em 0.4em;box-sizing: border-box;padding-bottom: 0.4em;background-color: white;}#sk-container-id-3 div.sk-label label {font-family: monospace;font-weight: bold;display: inline-block;line-height: 1.2em;}#sk-container-id-3 div.sk-label-container {text-align: center;}#sk-container-id-3 div.sk-container {/* jupyter's `normalize.less` sets `[hidden] { display: none; }` but bootstrap.min.css set `[hidden] { display: none !important; }` so we also need the `!important` here to be able to override the default hidden behavior on the sphinx rendered scikit-learn.org. See: https://github.com/scikit-learn/scikit-learn/issues/21755 */display: inline-block !important;position: relative;}#sk-container-id-3 div.sk-text-repr-fallback {display: none;}</style><div id=\"sk-container-id-3\" class=\"sk-top-container\"><div class=\"sk-text-repr-fallback\"><pre>Pipeline(steps=[(&#x27;columntransformer&#x27;,\n",
       "                 ColumnTransformer(n_jobs=-1,\n",
       "                                   transformers=[(&#x27;pipeline-1&#x27;,\n",
       "                                                  Pipeline(steps=[(&#x27;simpleimputer&#x27;,\n",
       "                                                                   SimpleImputer()),\n",
       "                                                                  (&#x27;minmaxscaler&#x27;,\n",
       "                                                                   MinMaxScaler())]),\n",
       "                                                  [&#x27;age&#x27;, &#x27;balance&#x27;, &#x27;duration&#x27;,\n",
       "                                                   &#x27;campaign&#x27;, &#x27;pdays&#x27;,\n",
       "                                                   &#x27;previous&#x27;,\n",
       "                                                   &#x27;last_contact_date_year&#x27;,\n",
       "                                                   &#x27;last_contact_date_month&#x27;,\n",
       "                                                   &#x27;last_contact_date_day&#x27;]),\n",
       "                                                 (&#x27;pipeline-2&#x27;,\n",
       "                                                  Pipeline(steps=[(&#x27;simple...\n",
       "                                                                   SimpleImputer(fill_value=&#x27;MISSING&#x27;,\n",
       "                                                                                 strategy=&#x27;constant&#x27;)),\n",
       "                                                                  (&#x27;onehotencoder&#x27;,\n",
       "                                                                   OneHotEncoder(handle_unknown=&#x27;ignore&#x27;,\n",
       "                                                                                 sparse_output=False))]),\n",
       "                                                  [&#x27;poutcome&#x27;])])),\n",
       "                (&#x27;adaboostclassifier&#x27;,\n",
       "                 AdaBoostClassifier(estimator=DecisionTreeClassifier(class_weight={0: 0.5872723460340282,\n",
       "                                                                                   1: 3.3645958469195127},\n",
       "                                                                     max_depth=3,\n",
       "                                                                     random_state=42),\n",
       "                                    learning_rate=0.1, n_estimators=500,\n",
       "                                    random_state=42))])</pre><b>In a Jupyter environment, please rerun this cell to show the HTML representation or trust the notebook. <br />On GitHub, the HTML representation is unable to render, please try loading this page with nbviewer.org.</b></div><div class=\"sk-container\" hidden><div class=\"sk-item sk-dashed-wrapped\"><div class=\"sk-label-container\"><div class=\"sk-label sk-toggleable\"><input class=\"sk-toggleable__control sk-hidden--visually\" id=\"sk-estimator-id-25\" type=\"checkbox\" ><label for=\"sk-estimator-id-25\" class=\"sk-toggleable__label sk-toggleable__label-arrow\">Pipeline</label><div class=\"sk-toggleable__content\"><pre>Pipeline(steps=[(&#x27;columntransformer&#x27;,\n",
       "                 ColumnTransformer(n_jobs=-1,\n",
       "                                   transformers=[(&#x27;pipeline-1&#x27;,\n",
       "                                                  Pipeline(steps=[(&#x27;simpleimputer&#x27;,\n",
       "                                                                   SimpleImputer()),\n",
       "                                                                  (&#x27;minmaxscaler&#x27;,\n",
       "                                                                   MinMaxScaler())]),\n",
       "                                                  [&#x27;age&#x27;, &#x27;balance&#x27;, &#x27;duration&#x27;,\n",
       "                                                   &#x27;campaign&#x27;, &#x27;pdays&#x27;,\n",
       "                                                   &#x27;previous&#x27;,\n",
       "                                                   &#x27;last_contact_date_year&#x27;,\n",
       "                                                   &#x27;last_contact_date_month&#x27;,\n",
       "                                                   &#x27;last_contact_date_day&#x27;]),\n",
       "                                                 (&#x27;pipeline-2&#x27;,\n",
       "                                                  Pipeline(steps=[(&#x27;simple...\n",
       "                                                                   SimpleImputer(fill_value=&#x27;MISSING&#x27;,\n",
       "                                                                                 strategy=&#x27;constant&#x27;)),\n",
       "                                                                  (&#x27;onehotencoder&#x27;,\n",
       "                                                                   OneHotEncoder(handle_unknown=&#x27;ignore&#x27;,\n",
       "                                                                                 sparse_output=False))]),\n",
       "                                                  [&#x27;poutcome&#x27;])])),\n",
       "                (&#x27;adaboostclassifier&#x27;,\n",
       "                 AdaBoostClassifier(estimator=DecisionTreeClassifier(class_weight={0: 0.5872723460340282,\n",
       "                                                                                   1: 3.3645958469195127},\n",
       "                                                                     max_depth=3,\n",
       "                                                                     random_state=42),\n",
       "                                    learning_rate=0.1, n_estimators=500,\n",
       "                                    random_state=42))])</pre></div></div></div><div class=\"sk-serial\"><div class=\"sk-item sk-dashed-wrapped\"><div class=\"sk-label-container\"><div class=\"sk-label sk-toggleable\"><input class=\"sk-toggleable__control sk-hidden--visually\" id=\"sk-estimator-id-26\" type=\"checkbox\" ><label for=\"sk-estimator-id-26\" class=\"sk-toggleable__label sk-toggleable__label-arrow\">columntransformer: ColumnTransformer</label><div class=\"sk-toggleable__content\"><pre>ColumnTransformer(n_jobs=-1,\n",
       "                  transformers=[(&#x27;pipeline-1&#x27;,\n",
       "                                 Pipeline(steps=[(&#x27;simpleimputer&#x27;,\n",
       "                                                  SimpleImputer()),\n",
       "                                                 (&#x27;minmaxscaler&#x27;,\n",
       "                                                  MinMaxScaler())]),\n",
       "                                 [&#x27;age&#x27;, &#x27;balance&#x27;, &#x27;duration&#x27;, &#x27;campaign&#x27;,\n",
       "                                  &#x27;pdays&#x27;, &#x27;previous&#x27;, &#x27;last_contact_date_year&#x27;,\n",
       "                                  &#x27;last_contact_date_month&#x27;,\n",
       "                                  &#x27;last_contact_date_day&#x27;]),\n",
       "                                (&#x27;pipeline-2&#x27;,\n",
       "                                 Pipeline(steps=[(&#x27;simpleimputer&#x27;,\n",
       "                                                  SimpleImputer(strategy=&#x27;most...t&#x27;)),\n",
       "                                                 (&#x27;onehotencoder&#x27;,\n",
       "                                                  OneHotEncoder(handle_unknown=&#x27;ignore&#x27;,\n",
       "                                                                sparse_output=False))]),\n",
       "                                 [&#x27;job&#x27;, &#x27;contact&#x27;, &#x27;marital&#x27;, &#x27;default&#x27;,\n",
       "                                  &#x27;housing&#x27;, &#x27;loan&#x27;, &#x27;education&#x27;]),\n",
       "                                (&#x27;pipeline-3&#x27;,\n",
       "                                 Pipeline(steps=[(&#x27;simpleimputer&#x27;,\n",
       "                                                  SimpleImputer(fill_value=&#x27;MISSING&#x27;,\n",
       "                                                                strategy=&#x27;constant&#x27;)),\n",
       "                                                 (&#x27;onehotencoder&#x27;,\n",
       "                                                  OneHotEncoder(handle_unknown=&#x27;ignore&#x27;,\n",
       "                                                                sparse_output=False))]),\n",
       "                                 [&#x27;poutcome&#x27;])])</pre></div></div></div><div class=\"sk-parallel\"><div class=\"sk-parallel-item\"><div class=\"sk-item\"><div class=\"sk-label-container\"><div class=\"sk-label sk-toggleable\"><input class=\"sk-toggleable__control sk-hidden--visually\" id=\"sk-estimator-id-27\" type=\"checkbox\" ><label for=\"sk-estimator-id-27\" class=\"sk-toggleable__label sk-toggleable__label-arrow\">pipeline-1</label><div class=\"sk-toggleable__content\"><pre>[&#x27;age&#x27;, &#x27;balance&#x27;, &#x27;duration&#x27;, &#x27;campaign&#x27;, &#x27;pdays&#x27;, &#x27;previous&#x27;, &#x27;last_contact_date_year&#x27;, &#x27;last_contact_date_month&#x27;, &#x27;last_contact_date_day&#x27;]</pre></div></div></div><div class=\"sk-serial\"><div class=\"sk-item\"><div class=\"sk-serial\"><div class=\"sk-item\"><div class=\"sk-estimator sk-toggleable\"><input class=\"sk-toggleable__control sk-hidden--visually\" id=\"sk-estimator-id-28\" type=\"checkbox\" ><label for=\"sk-estimator-id-28\" class=\"sk-toggleable__label sk-toggleable__label-arrow\">SimpleImputer</label><div class=\"sk-toggleable__content\"><pre>SimpleImputer()</pre></div></div></div><div class=\"sk-item\"><div class=\"sk-estimator sk-toggleable\"><input class=\"sk-toggleable__control sk-hidden--visually\" id=\"sk-estimator-id-29\" type=\"checkbox\" ><label for=\"sk-estimator-id-29\" class=\"sk-toggleable__label sk-toggleable__label-arrow\">MinMaxScaler</label><div class=\"sk-toggleable__content\"><pre>MinMaxScaler()</pre></div></div></div></div></div></div></div></div><div class=\"sk-parallel-item\"><div class=\"sk-item\"><div class=\"sk-label-container\"><div class=\"sk-label sk-toggleable\"><input class=\"sk-toggleable__control sk-hidden--visually\" id=\"sk-estimator-id-30\" type=\"checkbox\" ><label for=\"sk-estimator-id-30\" class=\"sk-toggleable__label sk-toggleable__label-arrow\">pipeline-2</label><div class=\"sk-toggleable__content\"><pre>[&#x27;job&#x27;, &#x27;contact&#x27;, &#x27;marital&#x27;, &#x27;default&#x27;, &#x27;housing&#x27;, &#x27;loan&#x27;, &#x27;education&#x27;]</pre></div></div></div><div class=\"sk-serial\"><div class=\"sk-item\"><div class=\"sk-serial\"><div class=\"sk-item\"><div class=\"sk-estimator sk-toggleable\"><input class=\"sk-toggleable__control sk-hidden--visually\" id=\"sk-estimator-id-31\" type=\"checkbox\" ><label for=\"sk-estimator-id-31\" class=\"sk-toggleable__label sk-toggleable__label-arrow\">SimpleImputer</label><div class=\"sk-toggleable__content\"><pre>SimpleImputer(strategy=&#x27;most_frequent&#x27;)</pre></div></div></div><div class=\"sk-item\"><div class=\"sk-estimator sk-toggleable\"><input class=\"sk-toggleable__control sk-hidden--visually\" id=\"sk-estimator-id-32\" type=\"checkbox\" ><label for=\"sk-estimator-id-32\" class=\"sk-toggleable__label sk-toggleable__label-arrow\">OneHotEncoder</label><div class=\"sk-toggleable__content\"><pre>OneHotEncoder(handle_unknown=&#x27;ignore&#x27;, sparse_output=False)</pre></div></div></div></div></div></div></div></div><div class=\"sk-parallel-item\"><div class=\"sk-item\"><div class=\"sk-label-container\"><div class=\"sk-label sk-toggleable\"><input class=\"sk-toggleable__control sk-hidden--visually\" id=\"sk-estimator-id-33\" type=\"checkbox\" ><label for=\"sk-estimator-id-33\" class=\"sk-toggleable__label sk-toggleable__label-arrow\">pipeline-3</label><div class=\"sk-toggleable__content\"><pre>[&#x27;poutcome&#x27;]</pre></div></div></div><div class=\"sk-serial\"><div class=\"sk-item\"><div class=\"sk-serial\"><div class=\"sk-item\"><div class=\"sk-estimator sk-toggleable\"><input class=\"sk-toggleable__control sk-hidden--visually\" id=\"sk-estimator-id-34\" type=\"checkbox\" ><label for=\"sk-estimator-id-34\" class=\"sk-toggleable__label sk-toggleable__label-arrow\">SimpleImputer</label><div class=\"sk-toggleable__content\"><pre>SimpleImputer(fill_value=&#x27;MISSING&#x27;, strategy=&#x27;constant&#x27;)</pre></div></div></div><div class=\"sk-item\"><div class=\"sk-estimator sk-toggleable\"><input class=\"sk-toggleable__control sk-hidden--visually\" id=\"sk-estimator-id-35\" type=\"checkbox\" ><label for=\"sk-estimator-id-35\" class=\"sk-toggleable__label sk-toggleable__label-arrow\">OneHotEncoder</label><div class=\"sk-toggleable__content\"><pre>OneHotEncoder(handle_unknown=&#x27;ignore&#x27;, sparse_output=False)</pre></div></div></div></div></div></div></div></div></div></div><div class=\"sk-item sk-dashed-wrapped\"><div class=\"sk-label-container\"><div class=\"sk-label sk-toggleable\"><input class=\"sk-toggleable__control sk-hidden--visually\" id=\"sk-estimator-id-36\" type=\"checkbox\" ><label for=\"sk-estimator-id-36\" class=\"sk-toggleable__label sk-toggleable__label-arrow\">adaboostclassifier: AdaBoostClassifier</label><div class=\"sk-toggleable__content\"><pre>AdaBoostClassifier(estimator=DecisionTreeClassifier(class_weight={0: 0.5872723460340282,\n",
       "                                                                  1: 3.3645958469195127},\n",
       "                                                    max_depth=3,\n",
       "                                                    random_state=42),\n",
       "                   learning_rate=0.1, n_estimators=500, random_state=42)</pre></div></div></div><div class=\"sk-parallel\"><div class=\"sk-parallel-item\"><div class=\"sk-item\"><div class=\"sk-label-container\"><div class=\"sk-label sk-toggleable\"><input class=\"sk-toggleable__control sk-hidden--visually\" id=\"sk-estimator-id-37\" type=\"checkbox\" ><label for=\"sk-estimator-id-37\" class=\"sk-toggleable__label sk-toggleable__label-arrow\">estimator: DecisionTreeClassifier</label><div class=\"sk-toggleable__content\"><pre>DecisionTreeClassifier(class_weight={0: 0.5872723460340282,\n",
       "                                     1: 3.3645958469195127},\n",
       "                       max_depth=3, random_state=42)</pre></div></div></div><div class=\"sk-serial\"><div class=\"sk-item\"><div class=\"sk-estimator sk-toggleable\"><input class=\"sk-toggleable__control sk-hidden--visually\" id=\"sk-estimator-id-38\" type=\"checkbox\" ><label for=\"sk-estimator-id-38\" class=\"sk-toggleable__label sk-toggleable__label-arrow\">DecisionTreeClassifier</label><div class=\"sk-toggleable__content\"><pre>DecisionTreeClassifier(class_weight={0: 0.5872723460340282,\n",
       "                                     1: 3.3645958469195127},\n",
       "                       max_depth=3, random_state=42)</pre></div></div></div></div></div></div></div></div></div></div></div></div>"
      ],
      "text/plain": [
       "Pipeline(steps=[('columntransformer',\n",
       "                 ColumnTransformer(n_jobs=-1,\n",
       "                                   transformers=[('pipeline-1',\n",
       "                                                  Pipeline(steps=[('simpleimputer',\n",
       "                                                                   SimpleImputer()),\n",
       "                                                                  ('minmaxscaler',\n",
       "                                                                   MinMaxScaler())]),\n",
       "                                                  ['age', 'balance', 'duration',\n",
       "                                                   'campaign', 'pdays',\n",
       "                                                   'previous',\n",
       "                                                   'last_contact_date_year',\n",
       "                                                   'last_contact_date_month',\n",
       "                                                   'last_contact_date_day']),\n",
       "                                                 ('pipeline-2',\n",
       "                                                  Pipeline(steps=[('simple...\n",
       "                                                                   SimpleImputer(fill_value='MISSING',\n",
       "                                                                                 strategy='constant')),\n",
       "                                                                  ('onehotencoder',\n",
       "                                                                   OneHotEncoder(handle_unknown='ignore',\n",
       "                                                                                 sparse_output=False))]),\n",
       "                                                  ['poutcome'])])),\n",
       "                ('adaboostclassifier',\n",
       "                 AdaBoostClassifier(estimator=DecisionTreeClassifier(class_weight={0: 0.5872723460340282,\n",
       "                                                                                   1: 3.3645958469195127},\n",
       "                                                                     max_depth=3,\n",
       "                                                                     random_state=42),\n",
       "                                    learning_rate=0.1, n_estimators=500,\n",
       "                                    random_state=42))])"
      ]
     },
     "execution_count": 58,
     "metadata": {},
     "output_type": "execute_result"
    }
   ],
   "source": [
    "# Fitting the Model on 80% Training Data and predicting On 20% Test Data.\n",
    "model_pipeline_3.fit(x_train,y_train)"
   ]
  },
  {
   "cell_type": "code",
   "execution_count": 59,
   "id": "c6e9e60b",
   "metadata": {
    "execution": {
     "iopub.execute_input": "2024-12-13T13:42:56.082937Z",
     "iopub.status.busy": "2024-12-13T13:42:56.082541Z",
     "iopub.status.idle": "2024-12-13T13:42:56.741173Z",
     "shell.execute_reply": "2024-12-13T13:42:56.740067Z"
    },
    "papermill": {
     "duration": 0.697648,
     "end_time": "2024-12-13T13:42:56.743704",
     "exception": false,
     "start_time": "2024-12-13T13:42:56.046056",
     "status": "completed"
    },
    "tags": []
   },
   "outputs": [],
   "source": [
    "y_pred_3 = model_pipeline_3.predict(x_test)\n",
    "f1_score_3 = f1_score(y_test, y_pred_3)"
   ]
  },
  {
   "cell_type": "code",
   "execution_count": 60,
   "id": "5b571bfc",
   "metadata": {
    "execution": {
     "iopub.execute_input": "2024-12-13T13:42:56.816154Z",
     "iopub.status.busy": "2024-12-13T13:42:56.815735Z",
     "iopub.status.idle": "2024-12-13T13:42:56.820617Z",
     "shell.execute_reply": "2024-12-13T13:42:56.819443Z"
    },
    "papermill": {
     "duration": 0.043745,
     "end_time": "2024-12-13T13:42:56.822772",
     "exception": false,
     "start_time": "2024-12-13T13:42:56.779027",
     "status": "completed"
    },
    "tags": []
   },
   "outputs": [],
   "source": [
    "#F1 score on the Test Dataset\n",
    "# print(f1_score_3)\n",
    "# 0.5938588160810382"
   ]
  },
  {
   "cell_type": "markdown",
   "id": "7cbaf59d",
   "metadata": {
    "papermill": {
     "duration": 0.034419,
     "end_time": "2024-12-13T13:42:56.893091",
     "exception": false,
     "start_time": "2024-12-13T13:42:56.858672",
     "status": "completed"
    },
    "tags": []
   },
   "source": [
    "### **Cross-Validation:-**"
   ]
  },
  {
   "cell_type": "code",
   "execution_count": 61,
   "id": "aea2f7d4",
   "metadata": {
    "execution": {
     "iopub.execute_input": "2024-12-13T13:42:56.968292Z",
     "iopub.status.busy": "2024-12-13T13:42:56.967857Z",
     "iopub.status.idle": "2024-12-13T13:42:56.973099Z",
     "shell.execute_reply": "2024-12-13T13:42:56.972017Z"
    },
    "papermill": {
     "duration": 0.045833,
     "end_time": "2024-12-13T13:42:56.975617",
     "exception": false,
     "start_time": "2024-12-13T13:42:56.929784",
     "status": "completed"
    },
    "tags": []
   },
   "outputs": [],
   "source": [
    "#Cross Validation On the Training Dataset:-\n",
    "# scores = cross_val_score(\n",
    "#     estimator=model_pipeline_3, \n",
    "#     X=X, \n",
    "#     y=y, \n",
    "#     cv=5,  # 5-fold cross-validation\n",
    "#     scoring='f1'  \n",
    "# )\n",
    "\n",
    "#Print individual fold scores\n",
    "#print(\"Scores for each fold:\", scores)"
   ]
  },
  {
   "cell_type": "markdown",
   "id": "f593afa7",
   "metadata": {
    "papermill": {
     "duration": 0.034537,
     "end_time": "2024-12-13T13:42:57.046556",
     "exception": false,
     "start_time": "2024-12-13T13:42:57.012019",
     "status": "completed"
    },
    "tags": []
   },
   "source": [
    "**Cross Validation Score:-**\n",
    "```\n",
    "Scores for each fold: [0.60625 0.59605911 0.59044684 0.59282371 0.60375038]\n",
    "```\n",
    "* Model is Slightly Underfitting on the train Dataset."
   ]
  },
  {
   "cell_type": "markdown",
   "id": "017884f4",
   "metadata": {
    "papermill": {
     "duration": 0.090164,
     "end_time": "2024-12-13T13:42:57.171700",
     "exception": false,
     "start_time": "2024-12-13T13:42:57.081536",
     "status": "completed"
    },
    "tags": []
   },
   "source": [
    "## **6.4 XGBoost Classifier**"
   ]
  },
  {
   "cell_type": "code",
   "execution_count": 62,
   "id": "f04b62d3",
   "metadata": {
    "execution": {
     "iopub.execute_input": "2024-12-13T13:42:57.243422Z",
     "iopub.status.busy": "2024-12-13T13:42:57.242978Z",
     "iopub.status.idle": "2024-12-13T13:42:57.248795Z",
     "shell.execute_reply": "2024-12-13T13:42:57.247429Z"
    },
    "papermill": {
     "duration": 0.044368,
     "end_time": "2024-12-13T13:42:57.251130",
     "exception": false,
     "start_time": "2024-12-13T13:42:57.206762",
     "status": "completed"
    },
    "tags": []
   },
   "outputs": [],
   "source": [
    "def calculate_scale_pos_weight(y):\n",
    "    \n",
    "    class_counts = np.bincount(y)\n",
    "    majority_class_count = np.max(class_counts)\n",
    "    minority_class_count = np.min(class_counts)\n",
    "    \n",
    "    scale_pos_weight = majority_class_count / minority_class_count\n",
    "    \n",
    "    return scale_pos_weight\n",
    "#it give the ratio of majority class to the minority class count."
   ]
  },
  {
   "cell_type": "code",
   "execution_count": 63,
   "id": "a93a6e54",
   "metadata": {
    "execution": {
     "iopub.execute_input": "2024-12-13T13:42:57.325204Z",
     "iopub.status.busy": "2024-12-13T13:42:57.323970Z",
     "iopub.status.idle": "2024-12-13T13:42:57.331005Z",
     "shell.execute_reply": "2024-12-13T13:42:57.329686Z"
    },
    "papermill": {
     "duration": 0.046843,
     "end_time": "2024-12-13T13:42:57.333493",
     "exception": false,
     "start_time": "2024-12-13T13:42:57.286650",
     "status": "completed"
    },
    "tags": []
   },
   "outputs": [],
   "source": [
    "estimator_4 = xgb.XGBClassifier(\n",
    "    n_estimators=1000,\n",
    "    learning_rate=0.01,\n",
    "    max_depth=8,\n",
    "    min_child_weight=20,\n",
    "    gamma=1,\n",
    "    subsample=0.8,\n",
    "    colsample_bytree=0.7,\n",
    "    reg_alpha=1,\n",
    "    reg_lambda=0.1,\n",
    "    random_state=42,\n",
    "    n_jobs=-1,\n",
    "    verbosity=1,\n",
    "    scale_pos_weight=calculate_scale_pos_weight(y)\n",
    ")"
   ]
  },
  {
   "cell_type": "code",
   "execution_count": 64,
   "id": "7a5221e6",
   "metadata": {
    "execution": {
     "iopub.execute_input": "2024-12-13T13:42:57.406771Z",
     "iopub.status.busy": "2024-12-13T13:42:57.406385Z",
     "iopub.status.idle": "2024-12-13T13:42:57.411675Z",
     "shell.execute_reply": "2024-12-13T13:42:57.410552Z"
    },
    "papermill": {
     "duration": 0.044429,
     "end_time": "2024-12-13T13:42:57.414020",
     "exception": false,
     "start_time": "2024-12-13T13:42:57.369591",
     "status": "completed"
    },
    "tags": []
   },
   "outputs": [],
   "source": [
    "#Preprocessing the data then estimating it, using pipeline.\n",
    "model_pipeline_4 = make_pipeline(preprocessor,estimator_4) "
   ]
  },
  {
   "cell_type": "code",
   "execution_count": 65,
   "id": "110dbdff",
   "metadata": {
    "execution": {
     "iopub.execute_input": "2024-12-13T13:42:57.486480Z",
     "iopub.status.busy": "2024-12-13T13:42:57.485668Z",
     "iopub.status.idle": "2024-12-13T13:43:02.003149Z",
     "shell.execute_reply": "2024-12-13T13:43:02.001919Z"
    },
    "papermill": {
     "duration": 4.55644,
     "end_time": "2024-12-13T13:43:02.005657",
     "exception": false,
     "start_time": "2024-12-13T13:42:57.449217",
     "status": "completed"
    },
    "tags": []
   },
   "outputs": [
    {
     "data": {
      "text/html": [
       "<style>#sk-container-id-4 {color: black;background-color: white;}#sk-container-id-4 pre{padding: 0;}#sk-container-id-4 div.sk-toggleable {background-color: white;}#sk-container-id-4 label.sk-toggleable__label {cursor: pointer;display: block;width: 100%;margin-bottom: 0;padding: 0.3em;box-sizing: border-box;text-align: center;}#sk-container-id-4 label.sk-toggleable__label-arrow:before {content: \"▸\";float: left;margin-right: 0.25em;color: #696969;}#sk-container-id-4 label.sk-toggleable__label-arrow:hover:before {color: black;}#sk-container-id-4 div.sk-estimator:hover label.sk-toggleable__label-arrow:before {color: black;}#sk-container-id-4 div.sk-toggleable__content {max-height: 0;max-width: 0;overflow: hidden;text-align: left;background-color: #f0f8ff;}#sk-container-id-4 div.sk-toggleable__content pre {margin: 0.2em;color: black;border-radius: 0.25em;background-color: #f0f8ff;}#sk-container-id-4 input.sk-toggleable__control:checked~div.sk-toggleable__content {max-height: 200px;max-width: 100%;overflow: auto;}#sk-container-id-4 input.sk-toggleable__control:checked~label.sk-toggleable__label-arrow:before {content: \"▾\";}#sk-container-id-4 div.sk-estimator input.sk-toggleable__control:checked~label.sk-toggleable__label {background-color: #d4ebff;}#sk-container-id-4 div.sk-label input.sk-toggleable__control:checked~label.sk-toggleable__label {background-color: #d4ebff;}#sk-container-id-4 input.sk-hidden--visually {border: 0;clip: rect(1px 1px 1px 1px);clip: rect(1px, 1px, 1px, 1px);height: 1px;margin: -1px;overflow: hidden;padding: 0;position: absolute;width: 1px;}#sk-container-id-4 div.sk-estimator {font-family: monospace;background-color: #f0f8ff;border: 1px dotted black;border-radius: 0.25em;box-sizing: border-box;margin-bottom: 0.5em;}#sk-container-id-4 div.sk-estimator:hover {background-color: #d4ebff;}#sk-container-id-4 div.sk-parallel-item::after {content: \"\";width: 100%;border-bottom: 1px solid gray;flex-grow: 1;}#sk-container-id-4 div.sk-label:hover label.sk-toggleable__label {background-color: #d4ebff;}#sk-container-id-4 div.sk-serial::before {content: \"\";position: absolute;border-left: 1px solid gray;box-sizing: border-box;top: 0;bottom: 0;left: 50%;z-index: 0;}#sk-container-id-4 div.sk-serial {display: flex;flex-direction: column;align-items: center;background-color: white;padding-right: 0.2em;padding-left: 0.2em;position: relative;}#sk-container-id-4 div.sk-item {position: relative;z-index: 1;}#sk-container-id-4 div.sk-parallel {display: flex;align-items: stretch;justify-content: center;background-color: white;position: relative;}#sk-container-id-4 div.sk-item::before, #sk-container-id-4 div.sk-parallel-item::before {content: \"\";position: absolute;border-left: 1px solid gray;box-sizing: border-box;top: 0;bottom: 0;left: 50%;z-index: -1;}#sk-container-id-4 div.sk-parallel-item {display: flex;flex-direction: column;z-index: 1;position: relative;background-color: white;}#sk-container-id-4 div.sk-parallel-item:first-child::after {align-self: flex-end;width: 50%;}#sk-container-id-4 div.sk-parallel-item:last-child::after {align-self: flex-start;width: 50%;}#sk-container-id-4 div.sk-parallel-item:only-child::after {width: 0;}#sk-container-id-4 div.sk-dashed-wrapped {border: 1px dashed gray;margin: 0 0.4em 0.5em 0.4em;box-sizing: border-box;padding-bottom: 0.4em;background-color: white;}#sk-container-id-4 div.sk-label label {font-family: monospace;font-weight: bold;display: inline-block;line-height: 1.2em;}#sk-container-id-4 div.sk-label-container {text-align: center;}#sk-container-id-4 div.sk-container {/* jupyter's `normalize.less` sets `[hidden] { display: none; }` but bootstrap.min.css set `[hidden] { display: none !important; }` so we also need the `!important` here to be able to override the default hidden behavior on the sphinx rendered scikit-learn.org. See: https://github.com/scikit-learn/scikit-learn/issues/21755 */display: inline-block !important;position: relative;}#sk-container-id-4 div.sk-text-repr-fallback {display: none;}</style><div id=\"sk-container-id-4\" class=\"sk-top-container\"><div class=\"sk-text-repr-fallback\"><pre>Pipeline(steps=[(&#x27;columntransformer&#x27;,\n",
       "                 ColumnTransformer(n_jobs=-1,\n",
       "                                   transformers=[(&#x27;pipeline-1&#x27;,\n",
       "                                                  Pipeline(steps=[(&#x27;simpleimputer&#x27;,\n",
       "                                                                   SimpleImputer()),\n",
       "                                                                  (&#x27;minmaxscaler&#x27;,\n",
       "                                                                   MinMaxScaler())]),\n",
       "                                                  [&#x27;age&#x27;, &#x27;balance&#x27;, &#x27;duration&#x27;,\n",
       "                                                   &#x27;campaign&#x27;, &#x27;pdays&#x27;,\n",
       "                                                   &#x27;previous&#x27;,\n",
       "                                                   &#x27;last_contact_date_year&#x27;,\n",
       "                                                   &#x27;last_contact_date_month&#x27;,\n",
       "                                                   &#x27;last_contact_date_day&#x27;]),\n",
       "                                                 (&#x27;pipeline-2&#x27;,\n",
       "                                                  Pipeline(steps=[(&#x27;simple...\n",
       "                               feature_types=None, gamma=1, grow_policy=None,\n",
       "                               importance_type=None,\n",
       "                               interaction_constraints=None, learning_rate=0.01,\n",
       "                               max_bin=None, max_cat_threshold=None,\n",
       "                               max_cat_to_onehot=None, max_delta_step=None,\n",
       "                               max_depth=8, max_leaves=None,\n",
       "                               min_child_weight=20, missing=nan,\n",
       "                               monotone_constraints=None, multi_strategy=None,\n",
       "                               n_estimators=1000, n_jobs=-1,\n",
       "                               num_parallel_tree=None, random_state=42, ...))])</pre><b>In a Jupyter environment, please rerun this cell to show the HTML representation or trust the notebook. <br />On GitHub, the HTML representation is unable to render, please try loading this page with nbviewer.org.</b></div><div class=\"sk-container\" hidden><div class=\"sk-item sk-dashed-wrapped\"><div class=\"sk-label-container\"><div class=\"sk-label sk-toggleable\"><input class=\"sk-toggleable__control sk-hidden--visually\" id=\"sk-estimator-id-39\" type=\"checkbox\" ><label for=\"sk-estimator-id-39\" class=\"sk-toggleable__label sk-toggleable__label-arrow\">Pipeline</label><div class=\"sk-toggleable__content\"><pre>Pipeline(steps=[(&#x27;columntransformer&#x27;,\n",
       "                 ColumnTransformer(n_jobs=-1,\n",
       "                                   transformers=[(&#x27;pipeline-1&#x27;,\n",
       "                                                  Pipeline(steps=[(&#x27;simpleimputer&#x27;,\n",
       "                                                                   SimpleImputer()),\n",
       "                                                                  (&#x27;minmaxscaler&#x27;,\n",
       "                                                                   MinMaxScaler())]),\n",
       "                                                  [&#x27;age&#x27;, &#x27;balance&#x27;, &#x27;duration&#x27;,\n",
       "                                                   &#x27;campaign&#x27;, &#x27;pdays&#x27;,\n",
       "                                                   &#x27;previous&#x27;,\n",
       "                                                   &#x27;last_contact_date_year&#x27;,\n",
       "                                                   &#x27;last_contact_date_month&#x27;,\n",
       "                                                   &#x27;last_contact_date_day&#x27;]),\n",
       "                                                 (&#x27;pipeline-2&#x27;,\n",
       "                                                  Pipeline(steps=[(&#x27;simple...\n",
       "                               feature_types=None, gamma=1, grow_policy=None,\n",
       "                               importance_type=None,\n",
       "                               interaction_constraints=None, learning_rate=0.01,\n",
       "                               max_bin=None, max_cat_threshold=None,\n",
       "                               max_cat_to_onehot=None, max_delta_step=None,\n",
       "                               max_depth=8, max_leaves=None,\n",
       "                               min_child_weight=20, missing=nan,\n",
       "                               monotone_constraints=None, multi_strategy=None,\n",
       "                               n_estimators=1000, n_jobs=-1,\n",
       "                               num_parallel_tree=None, random_state=42, ...))])</pre></div></div></div><div class=\"sk-serial\"><div class=\"sk-item sk-dashed-wrapped\"><div class=\"sk-label-container\"><div class=\"sk-label sk-toggleable\"><input class=\"sk-toggleable__control sk-hidden--visually\" id=\"sk-estimator-id-40\" type=\"checkbox\" ><label for=\"sk-estimator-id-40\" class=\"sk-toggleable__label sk-toggleable__label-arrow\">columntransformer: ColumnTransformer</label><div class=\"sk-toggleable__content\"><pre>ColumnTransformer(n_jobs=-1,\n",
       "                  transformers=[(&#x27;pipeline-1&#x27;,\n",
       "                                 Pipeline(steps=[(&#x27;simpleimputer&#x27;,\n",
       "                                                  SimpleImputer()),\n",
       "                                                 (&#x27;minmaxscaler&#x27;,\n",
       "                                                  MinMaxScaler())]),\n",
       "                                 [&#x27;age&#x27;, &#x27;balance&#x27;, &#x27;duration&#x27;, &#x27;campaign&#x27;,\n",
       "                                  &#x27;pdays&#x27;, &#x27;previous&#x27;, &#x27;last_contact_date_year&#x27;,\n",
       "                                  &#x27;last_contact_date_month&#x27;,\n",
       "                                  &#x27;last_contact_date_day&#x27;]),\n",
       "                                (&#x27;pipeline-2&#x27;,\n",
       "                                 Pipeline(steps=[(&#x27;simpleimputer&#x27;,\n",
       "                                                  SimpleImputer(strategy=&#x27;most...t&#x27;)),\n",
       "                                                 (&#x27;onehotencoder&#x27;,\n",
       "                                                  OneHotEncoder(handle_unknown=&#x27;ignore&#x27;,\n",
       "                                                                sparse_output=False))]),\n",
       "                                 [&#x27;job&#x27;, &#x27;contact&#x27;, &#x27;marital&#x27;, &#x27;default&#x27;,\n",
       "                                  &#x27;housing&#x27;, &#x27;loan&#x27;, &#x27;education&#x27;]),\n",
       "                                (&#x27;pipeline-3&#x27;,\n",
       "                                 Pipeline(steps=[(&#x27;simpleimputer&#x27;,\n",
       "                                                  SimpleImputer(fill_value=&#x27;MISSING&#x27;,\n",
       "                                                                strategy=&#x27;constant&#x27;)),\n",
       "                                                 (&#x27;onehotencoder&#x27;,\n",
       "                                                  OneHotEncoder(handle_unknown=&#x27;ignore&#x27;,\n",
       "                                                                sparse_output=False))]),\n",
       "                                 [&#x27;poutcome&#x27;])])</pre></div></div></div><div class=\"sk-parallel\"><div class=\"sk-parallel-item\"><div class=\"sk-item\"><div class=\"sk-label-container\"><div class=\"sk-label sk-toggleable\"><input class=\"sk-toggleable__control sk-hidden--visually\" id=\"sk-estimator-id-41\" type=\"checkbox\" ><label for=\"sk-estimator-id-41\" class=\"sk-toggleable__label sk-toggleable__label-arrow\">pipeline-1</label><div class=\"sk-toggleable__content\"><pre>[&#x27;age&#x27;, &#x27;balance&#x27;, &#x27;duration&#x27;, &#x27;campaign&#x27;, &#x27;pdays&#x27;, &#x27;previous&#x27;, &#x27;last_contact_date_year&#x27;, &#x27;last_contact_date_month&#x27;, &#x27;last_contact_date_day&#x27;]</pre></div></div></div><div class=\"sk-serial\"><div class=\"sk-item\"><div class=\"sk-serial\"><div class=\"sk-item\"><div class=\"sk-estimator sk-toggleable\"><input class=\"sk-toggleable__control sk-hidden--visually\" id=\"sk-estimator-id-42\" type=\"checkbox\" ><label for=\"sk-estimator-id-42\" class=\"sk-toggleable__label sk-toggleable__label-arrow\">SimpleImputer</label><div class=\"sk-toggleable__content\"><pre>SimpleImputer()</pre></div></div></div><div class=\"sk-item\"><div class=\"sk-estimator sk-toggleable\"><input class=\"sk-toggleable__control sk-hidden--visually\" id=\"sk-estimator-id-43\" type=\"checkbox\" ><label for=\"sk-estimator-id-43\" class=\"sk-toggleable__label sk-toggleable__label-arrow\">MinMaxScaler</label><div class=\"sk-toggleable__content\"><pre>MinMaxScaler()</pre></div></div></div></div></div></div></div></div><div class=\"sk-parallel-item\"><div class=\"sk-item\"><div class=\"sk-label-container\"><div class=\"sk-label sk-toggleable\"><input class=\"sk-toggleable__control sk-hidden--visually\" id=\"sk-estimator-id-44\" type=\"checkbox\" ><label for=\"sk-estimator-id-44\" class=\"sk-toggleable__label sk-toggleable__label-arrow\">pipeline-2</label><div class=\"sk-toggleable__content\"><pre>[&#x27;job&#x27;, &#x27;contact&#x27;, &#x27;marital&#x27;, &#x27;default&#x27;, &#x27;housing&#x27;, &#x27;loan&#x27;, &#x27;education&#x27;]</pre></div></div></div><div class=\"sk-serial\"><div class=\"sk-item\"><div class=\"sk-serial\"><div class=\"sk-item\"><div class=\"sk-estimator sk-toggleable\"><input class=\"sk-toggleable__control sk-hidden--visually\" id=\"sk-estimator-id-45\" type=\"checkbox\" ><label for=\"sk-estimator-id-45\" class=\"sk-toggleable__label sk-toggleable__label-arrow\">SimpleImputer</label><div class=\"sk-toggleable__content\"><pre>SimpleImputer(strategy=&#x27;most_frequent&#x27;)</pre></div></div></div><div class=\"sk-item\"><div class=\"sk-estimator sk-toggleable\"><input class=\"sk-toggleable__control sk-hidden--visually\" id=\"sk-estimator-id-46\" type=\"checkbox\" ><label for=\"sk-estimator-id-46\" class=\"sk-toggleable__label sk-toggleable__label-arrow\">OneHotEncoder</label><div class=\"sk-toggleable__content\"><pre>OneHotEncoder(handle_unknown=&#x27;ignore&#x27;, sparse_output=False)</pre></div></div></div></div></div></div></div></div><div class=\"sk-parallel-item\"><div class=\"sk-item\"><div class=\"sk-label-container\"><div class=\"sk-label sk-toggleable\"><input class=\"sk-toggleable__control sk-hidden--visually\" id=\"sk-estimator-id-47\" type=\"checkbox\" ><label for=\"sk-estimator-id-47\" class=\"sk-toggleable__label sk-toggleable__label-arrow\">pipeline-3</label><div class=\"sk-toggleable__content\"><pre>[&#x27;poutcome&#x27;]</pre></div></div></div><div class=\"sk-serial\"><div class=\"sk-item\"><div class=\"sk-serial\"><div class=\"sk-item\"><div class=\"sk-estimator sk-toggleable\"><input class=\"sk-toggleable__control sk-hidden--visually\" id=\"sk-estimator-id-48\" type=\"checkbox\" ><label for=\"sk-estimator-id-48\" class=\"sk-toggleable__label sk-toggleable__label-arrow\">SimpleImputer</label><div class=\"sk-toggleable__content\"><pre>SimpleImputer(fill_value=&#x27;MISSING&#x27;, strategy=&#x27;constant&#x27;)</pre></div></div></div><div class=\"sk-item\"><div class=\"sk-estimator sk-toggleable\"><input class=\"sk-toggleable__control sk-hidden--visually\" id=\"sk-estimator-id-49\" type=\"checkbox\" ><label for=\"sk-estimator-id-49\" class=\"sk-toggleable__label sk-toggleable__label-arrow\">OneHotEncoder</label><div class=\"sk-toggleable__content\"><pre>OneHotEncoder(handle_unknown=&#x27;ignore&#x27;, sparse_output=False)</pre></div></div></div></div></div></div></div></div></div></div><div class=\"sk-item\"><div class=\"sk-estimator sk-toggleable\"><input class=\"sk-toggleable__control sk-hidden--visually\" id=\"sk-estimator-id-50\" type=\"checkbox\" ><label for=\"sk-estimator-id-50\" class=\"sk-toggleable__label sk-toggleable__label-arrow\">XGBClassifier</label><div class=\"sk-toggleable__content\"><pre>XGBClassifier(base_score=None, booster=None, callbacks=None,\n",
       "              colsample_bylevel=None, colsample_bynode=None,\n",
       "              colsample_bytree=0.7, device=None, early_stopping_rounds=None,\n",
       "              enable_categorical=False, eval_metric=None, feature_types=None,\n",
       "              gamma=1, grow_policy=None, importance_type=None,\n",
       "              interaction_constraints=None, learning_rate=0.01, max_bin=None,\n",
       "              max_cat_threshold=None, max_cat_to_onehot=None,\n",
       "              max_delta_step=None, max_depth=8, max_leaves=None,\n",
       "              min_child_weight=20, missing=nan, monotone_constraints=None,\n",
       "              multi_strategy=None, n_estimators=1000, n_jobs=-1,\n",
       "              num_parallel_tree=None, random_state=42, ...)</pre></div></div></div></div></div></div></div>"
      ],
      "text/plain": [
       "Pipeline(steps=[('columntransformer',\n",
       "                 ColumnTransformer(n_jobs=-1,\n",
       "                                   transformers=[('pipeline-1',\n",
       "                                                  Pipeline(steps=[('simpleimputer',\n",
       "                                                                   SimpleImputer()),\n",
       "                                                                  ('minmaxscaler',\n",
       "                                                                   MinMaxScaler())]),\n",
       "                                                  ['age', 'balance', 'duration',\n",
       "                                                   'campaign', 'pdays',\n",
       "                                                   'previous',\n",
       "                                                   'last_contact_date_year',\n",
       "                                                   'last_contact_date_month',\n",
       "                                                   'last_contact_date_day']),\n",
       "                                                 ('pipeline-2',\n",
       "                                                  Pipeline(steps=[('simple...\n",
       "                               feature_types=None, gamma=1, grow_policy=None,\n",
       "                               importance_type=None,\n",
       "                               interaction_constraints=None, learning_rate=0.01,\n",
       "                               max_bin=None, max_cat_threshold=None,\n",
       "                               max_cat_to_onehot=None, max_delta_step=None,\n",
       "                               max_depth=8, max_leaves=None,\n",
       "                               min_child_weight=20, missing=nan,\n",
       "                               monotone_constraints=None, multi_strategy=None,\n",
       "                               n_estimators=1000, n_jobs=-1,\n",
       "                               num_parallel_tree=None, random_state=42, ...))])"
      ]
     },
     "execution_count": 65,
     "metadata": {},
     "output_type": "execute_result"
    }
   ],
   "source": [
    "# Fitting the Model on 80% Training Data and predicting On 20% Test Data.\n",
    "model_pipeline_4.fit(x_train,y_train)"
   ]
  },
  {
   "cell_type": "code",
   "execution_count": 66,
   "id": "bd670bd7",
   "metadata": {
    "execution": {
     "iopub.execute_input": "2024-12-13T13:43:02.080121Z",
     "iopub.status.busy": "2024-12-13T13:43:02.079682Z",
     "iopub.status.idle": "2024-12-13T13:43:02.254894Z",
     "shell.execute_reply": "2024-12-13T13:43:02.253959Z"
    },
    "papermill": {
     "duration": 0.214728,
     "end_time": "2024-12-13T13:43:02.257271",
     "exception": false,
     "start_time": "2024-12-13T13:43:02.042543",
     "status": "completed"
    },
    "tags": []
   },
   "outputs": [],
   "source": [
    "y_pred_4 = model_pipeline_4.predict(x_test)\n",
    "f1_score_4 = f1_score(y_test, y_pred_4)"
   ]
  },
  {
   "cell_type": "code",
   "execution_count": 67,
   "id": "fea481c9",
   "metadata": {
    "execution": {
     "iopub.execute_input": "2024-12-13T13:43:02.330293Z",
     "iopub.status.busy": "2024-12-13T13:43:02.329839Z",
     "iopub.status.idle": "2024-12-13T13:43:02.334509Z",
     "shell.execute_reply": "2024-12-13T13:43:02.333335Z"
    },
    "papermill": {
     "duration": 0.043645,
     "end_time": "2024-12-13T13:43:02.336725",
     "exception": false,
     "start_time": "2024-12-13T13:43:02.293080",
     "status": "completed"
    },
    "tags": []
   },
   "outputs": [],
   "source": [
    "#F1 score on the Test Dataset\n",
    "# print(f1_score_4)\n",
    "# 0.6235884567126725"
   ]
  },
  {
   "cell_type": "markdown",
   "id": "23c7dea6",
   "metadata": {
    "papermill": {
     "duration": 0.035073,
     "end_time": "2024-12-13T13:43:02.408485",
     "exception": false,
     "start_time": "2024-12-13T13:43:02.373412",
     "status": "completed"
    },
    "tags": []
   },
   "source": [
    "### **Cross-Validation:-**"
   ]
  },
  {
   "cell_type": "code",
   "execution_count": 68,
   "id": "7ec950d4",
   "metadata": {
    "execution": {
     "iopub.execute_input": "2024-12-13T13:43:02.482254Z",
     "iopub.status.busy": "2024-12-13T13:43:02.481834Z",
     "iopub.status.idle": "2024-12-13T13:43:02.486753Z",
     "shell.execute_reply": "2024-12-13T13:43:02.485754Z"
    },
    "papermill": {
     "duration": 0.04505,
     "end_time": "2024-12-13T13:43:02.489076",
     "exception": false,
     "start_time": "2024-12-13T13:43:02.444026",
     "status": "completed"
    },
    "tags": []
   },
   "outputs": [],
   "source": [
    "#Cross Validation On the Training Dataset:-\n",
    "# scores = cross_val_score(\n",
    "#     estimator=model_pipeline_4, \n",
    "#     X=X, \n",
    "#     y=y, \n",
    "#     cv=5,  # 5-fold cross-validation\n",
    "#     scoring='f1'  \n",
    "# )\n",
    "\n",
    "# Print individual fold scores\n",
    "# print(\"Scores for each fold:\", scores)"
   ]
  },
  {
   "cell_type": "markdown",
   "id": "dcf39e94",
   "metadata": {
    "papermill": {
     "duration": 0.035861,
     "end_time": "2024-12-13T13:43:02.561608",
     "exception": false,
     "start_time": "2024-12-13T13:43:02.525747",
     "status": "completed"
    },
    "tags": []
   },
   "source": [
    "**Cross Validation Score:-**\n",
    "```\n",
    "Scores for each fold: [0.6369029  0.62056304 0.62407862 0.61373391 0.62283105]\n",
    "\n",
    "```\n",
    "* Seems to be a goodfit, since there is low variation in the scores."
   ]
  },
  {
   "cell_type": "markdown",
   "id": "19b791b8",
   "metadata": {
    "papermill": {
     "duration": 0.035142,
     "end_time": "2024-12-13T13:43:02.632612",
     "exception": false,
     "start_time": "2024-12-13T13:43:02.597470",
     "status": "completed"
    },
    "tags": []
   },
   "source": [
    "## **6.5 Conclusion**"
   ]
  },
  {
   "cell_type": "markdown",
   "id": "2776b154",
   "metadata": {
    "papermill": {
     "duration": 0.035786,
     "end_time": "2024-12-13T13:43:02.706553",
     "exception": false,
     "start_time": "2024-12-13T13:43:02.670767",
     "status": "completed"
    },
    "tags": []
   },
   "source": [
    "### **6.5.1 Classification Report**"
   ]
  },
  {
   "cell_type": "markdown",
   "id": "ce66d51c",
   "metadata": {
    "papermill": {
     "duration": 0.035912,
     "end_time": "2024-12-13T13:43:02.778224",
     "exception": false,
     "start_time": "2024-12-13T13:43:02.742312",
     "status": "completed"
    },
    "tags": []
   },
   "source": [
    "### **1. Random Forest Classifier**"
   ]
  },
  {
   "cell_type": "code",
   "execution_count": 69,
   "id": "624131c2",
   "metadata": {
    "execution": {
     "iopub.execute_input": "2024-12-13T13:43:02.852074Z",
     "iopub.status.busy": "2024-12-13T13:43:02.851671Z",
     "iopub.status.idle": "2024-12-13T13:43:02.856351Z",
     "shell.execute_reply": "2024-12-13T13:43:02.855152Z"
    },
    "papermill": {
     "duration": 0.044176,
     "end_time": "2024-12-13T13:43:02.858569",
     "exception": false,
     "start_time": "2024-12-13T13:43:02.814393",
     "status": "completed"
    },
    "tags": []
   },
   "outputs": [],
   "source": [
    "# report = classification_report(y_test, y_pred_1)\n",
    "# print(report)"
   ]
  },
  {
   "cell_type": "markdown",
   "id": "5028a391",
   "metadata": {
    "papermill": {
     "duration": 0.035214,
     "end_time": "2024-12-13T13:43:02.929340",
     "exception": false,
     "start_time": "2024-12-13T13:43:02.894126",
     "status": "completed"
    },
    "tags": []
   },
   "source": [
    "**Clasification Report of Random Forest Classifier**\n",
    "```\n",
    "              precision    recall  f1-score   support\n",
    "\n",
    "           0       0.96      0.87      0.91      6713\n",
    "           1       0.51      0.78      0.62      1130\n",
    "\n",
    "    accuracy                           0.86      7843\n",
    "   macro avg       0.73      0.83      0.76      7843\n",
    "weighted avg       0.89      0.86      0.87      7843\n",
    "```"
   ]
  },
  {
   "cell_type": "markdown",
   "id": "31327995",
   "metadata": {
    "papermill": {
     "duration": 0.035312,
     "end_time": "2024-12-13T13:43:03.000865",
     "exception": false,
     "start_time": "2024-12-13T13:43:02.965553",
     "status": "completed"
    },
    "tags": []
   },
   "source": [
    "### **2. Decision Tree Classifier**"
   ]
  },
  {
   "cell_type": "code",
   "execution_count": 70,
   "id": "ec628e4b",
   "metadata": {
    "execution": {
     "iopub.execute_input": "2024-12-13T13:43:03.073783Z",
     "iopub.status.busy": "2024-12-13T13:43:03.073372Z",
     "iopub.status.idle": "2024-12-13T13:43:03.078301Z",
     "shell.execute_reply": "2024-12-13T13:43:03.077037Z"
    },
    "papermill": {
     "duration": 0.04404,
     "end_time": "2024-12-13T13:43:03.080528",
     "exception": false,
     "start_time": "2024-12-13T13:43:03.036488",
     "status": "completed"
    },
    "tags": []
   },
   "outputs": [],
   "source": [
    "# report = classification_report(y_test, y_pred_2)\n",
    "# print(report)"
   ]
  },
  {
   "cell_type": "markdown",
   "id": "e142de85",
   "metadata": {
    "papermill": {
     "duration": 0.035304,
     "end_time": "2024-12-13T13:43:03.151563",
     "exception": false,
     "start_time": "2024-12-13T13:43:03.116259",
     "status": "completed"
    },
    "tags": []
   },
   "source": [
    "**Clasification Report of Decision Tree Classifier**\n",
    "\n",
    "```\n",
    "              precision    recall  f1-score   support\n",
    "\n",
    "           0       0.95      0.84      0.89      6713\n",
    "           1       0.43      0.72      0.54      1130\n",
    "\n",
    "    accuracy                           0.82      7843\n",
    "   macro avg       0.69      0.78      0.72      7843\n",
    "weighted avg       0.87      0.82      0.84      7843\n",
    "\n",
    "```"
   ]
  },
  {
   "cell_type": "markdown",
   "id": "0979daf3",
   "metadata": {
    "papermill": {
     "duration": 0.035517,
     "end_time": "2024-12-13T13:43:03.222800",
     "exception": false,
     "start_time": "2024-12-13T13:43:03.187283",
     "status": "completed"
    },
    "tags": []
   },
   "source": [
    "### **3. AdaBoost Classifier**"
   ]
  },
  {
   "cell_type": "code",
   "execution_count": 71,
   "id": "2d29d9a3",
   "metadata": {
    "execution": {
     "iopub.execute_input": "2024-12-13T13:43:03.296534Z",
     "iopub.status.busy": "2024-12-13T13:43:03.296141Z",
     "iopub.status.idle": "2024-12-13T13:43:03.300742Z",
     "shell.execute_reply": "2024-12-13T13:43:03.299672Z"
    },
    "papermill": {
     "duration": 0.043427,
     "end_time": "2024-12-13T13:43:03.302766",
     "exception": false,
     "start_time": "2024-12-13T13:43:03.259339",
     "status": "completed"
    },
    "tags": []
   },
   "outputs": [],
   "source": [
    " # report = classification_report(y_test, y_pred_3)\n",
    " # print(report)"
   ]
  },
  {
   "cell_type": "markdown",
   "id": "714f9b10",
   "metadata": {
    "papermill": {
     "duration": 0.035077,
     "end_time": "2024-12-13T13:43:03.373642",
     "exception": false,
     "start_time": "2024-12-13T13:43:03.338565",
     "status": "completed"
    },
    "tags": []
   },
   "source": [
    "**Clasification Report of Adaboost Classifier**\n",
    "```\n",
    "              precision    recall  f1-score   support\n",
    "\n",
    "           0       0.97      0.84      0.90      6713\n",
    "           1       0.46      0.83      0.59      1130\n",
    "\n",
    "    accuracy                           0.84      7843\n",
    "   macro avg       0.71      0.83      0.75      7843\n",
    "weighted avg       0.89      0.84      0.85      7843\n",
    "```"
   ]
  },
  {
   "cell_type": "markdown",
   "id": "7e975b21",
   "metadata": {
    "papermill": {
     "duration": 0.035159,
     "end_time": "2024-12-13T13:43:03.444811",
     "exception": false,
     "start_time": "2024-12-13T13:43:03.409652",
     "status": "completed"
    },
    "tags": []
   },
   "source": [
    "### **4. XGBoost Classifier**"
   ]
  },
  {
   "cell_type": "code",
   "execution_count": 72,
   "id": "4048d765",
   "metadata": {
    "execution": {
     "iopub.execute_input": "2024-12-13T13:43:03.517894Z",
     "iopub.status.busy": "2024-12-13T13:43:03.517526Z",
     "iopub.status.idle": "2024-12-13T13:43:03.522163Z",
     "shell.execute_reply": "2024-12-13T13:43:03.521016Z"
    },
    "papermill": {
     "duration": 0.044026,
     "end_time": "2024-12-13T13:43:03.524372",
     "exception": false,
     "start_time": "2024-12-13T13:43:03.480346",
     "status": "completed"
    },
    "tags": []
   },
   "outputs": [],
   "source": [
    "# report = classification_report(y_test, y_pred_4)\n",
    "# print(report)"
   ]
  },
  {
   "cell_type": "markdown",
   "id": "139a84e4",
   "metadata": {
    "papermill": {
     "duration": 0.034958,
     "end_time": "2024-12-13T13:43:03.594749",
     "exception": false,
     "start_time": "2024-12-13T13:43:03.559791",
     "status": "completed"
    },
    "tags": []
   },
   "source": [
    "**Clasification Report of Xg-Boost**\n",
    "```\n",
    "              precision    recall  f1-score   support\n",
    "\n",
    "           0       0.98      0.84      0.90      6713\n",
    "           1       0.48      0.88      0.62      1130\n",
    "\n",
    "    accuracy                           0.85      7843\n",
    "   macro avg       0.73      0.86      0.76      7843\n",
    "weighted avg       0.91      0.85      0.86      7843\n",
    "```"
   ]
  },
  {
   "cell_type": "markdown",
   "id": "765ac489",
   "metadata": {
    "papermill": {
     "duration": 0.036047,
     "end_time": "2024-12-13T13:43:03.666083",
     "exception": false,
     "start_time": "2024-12-13T13:43:03.630036",
     "status": "completed"
    },
    "tags": []
   },
   "source": [
    "### **6.5.2 Confusion Matrix**"
   ]
  },
  {
   "cell_type": "code",
   "execution_count": 73,
   "id": "056683a2",
   "metadata": {
    "execution": {
     "iopub.execute_input": "2024-12-13T13:43:03.740207Z",
     "iopub.status.busy": "2024-12-13T13:43:03.739749Z",
     "iopub.status.idle": "2024-12-13T13:43:04.751156Z",
     "shell.execute_reply": "2024-12-13T13:43:04.750019Z"
    },
    "papermill": {
     "duration": 1.051307,
     "end_time": "2024-12-13T13:43:04.753493",
     "exception": false,
     "start_time": "2024-12-13T13:43:03.702186",
     "status": "completed"
    },
    "tags": []
   },
   "outputs": [
    {
     "data": {
      "image/png": "[encoded data removed]",
      "text/plain": [
       "<Figure size 1000x600 with 8 Axes>"
      ]
     },
     "metadata": {},
     "output_type": "display_data"
    }
   ],
   "source": [
    "fig, axes = plt.subplots(2, 2, figsize=(10, 6))\n",
    "\n",
    "# Random Forest Classifier\n",
    "cm = confusion_matrix(y_test, y_pred_1)\n",
    "disp = ConfusionMatrixDisplay(confusion_matrix=cm)\n",
    "disp.plot(ax=axes[0, 0])\n",
    "axes[0, 0].set_title('Confusion Matrix for Random Forest Classifier')\n",
    "\n",
    "# Decision Tree Classifier\n",
    "cm = confusion_matrix(y_test, y_pred_2)\n",
    "disp = ConfusionMatrixDisplay(confusion_matrix=cm)\n",
    "disp.plot(ax=axes[0, 1])\n",
    "axes[0, 1].set_title('Confusion Matrix for Decision Tree Classifier')\n",
    "\n",
    "# AdaBoost Classifier\n",
    "cm = confusion_matrix(y_test, y_pred_3)\n",
    "disp = ConfusionMatrixDisplay(confusion_matrix=cm)\n",
    "disp.plot(ax=axes[1, 0])\n",
    "axes[1, 0].set_title('Confusion Matrix for AdaBoost Classifier')\n",
    "\n",
    "# XGBoost Classifier\n",
    "cm = confusion_matrix(y_test, y_pred_4)\n",
    "disp = ConfusionMatrixDisplay(confusion_matrix=cm)\n",
    "disp.plot(ax=axes[1, 1])\n",
    "axes[1, 1].set_title('Confusion Matrix for XGBoost Classifier')\n",
    "\n",
    "plt.tight_layout()\n",
    "plt.show()"
   ]
  },
  {
   "cell_type": "markdown",
   "id": "c5b47c6d",
   "metadata": {
    "papermill": {
     "duration": 0.036741,
     "end_time": "2024-12-13T13:43:04.828552",
     "exception": false,
     "start_time": "2024-12-13T13:43:04.791811",
     "status": "completed"
    },
    "tags": []
   },
   "source": [
    "### **6.5.3 Precision-Recall Curve**"
   ]
  },
  {
   "cell_type": "code",
   "execution_count": 74,
   "id": "36cb6012",
   "metadata": {
    "execution": {
     "iopub.execute_input": "2024-12-13T13:43:04.904196Z",
     "iopub.status.busy": "2024-12-13T13:43:04.903778Z",
     "iopub.status.idle": "2024-12-13T13:43:05.192578Z",
     "shell.execute_reply": "2024-12-13T13:43:05.191415Z"
    },
    "papermill": {
     "duration": 0.329173,
     "end_time": "2024-12-13T13:43:05.194980",
     "exception": false,
     "start_time": "2024-12-13T13:43:04.865807",
     "status": "completed"
    },
    "tags": []
   },
   "outputs": [
    {
     "data": {
      "image/png": "[encoded data removed]",
      "text/plain": [
       "<Figure size 800x600 with 1 Axes>"
      ]
     },
     "metadata": {},
     "output_type": "display_data"
    }
   ],
   "source": [
    "plt.figure(figsize=(8, 6))\n",
    "\n",
    "# Random Forest Classifier precision-recall curve\n",
    "precision_1, recall_1, _ = precision_recall_curve(y_test, y_pred_1)\n",
    "plt.plot(recall_1, precision_1, label='Random Forest Classifier')\n",
    "\n",
    "# Decision Tree Classifier precision-recall curve\n",
    "precision_2, recall_2, _ = precision_recall_curve(y_test, y_pred_2)\n",
    "plt.plot(recall_2, precision_2, label='Decision Tree Classifier') \n",
    "\n",
    "# AdaBoost Classifier precision-recall curve\n",
    "precision_3, recall_3, _ = precision_recall_curve(y_test, y_pred_3)\n",
    "plt.plot(recall_3, precision_3, label='AdaBoost Classifier')\n",
    "\n",
    "# XGBoost Classifier precision-recall curve\n",
    "precision_4, recall_4, _ = precision_recall_curve(y_test, y_pred_4)\n",
    "plt.plot(recall_4, precision_4, label='XGBoost Classifier')\n",
    "\n",
    "plt.title('Precision-Recall Curves')\n",
    "plt.xlabel('Recall')\n",
    "plt.ylabel('Precision')\n",
    "plt.legend()\n",
    "plt.show()\n"
   ]
  },
  {
   "cell_type": "markdown",
   "id": "473f7c53",
   "metadata": {
    "papermill": {
     "duration": 0.037789,
     "end_time": "2024-12-13T13:43:05.272391",
     "exception": false,
     "start_time": "2024-12-13T13:43:05.234602",
     "status": "completed"
    },
    "tags": []
   },
   "source": [
    "### **Analysis from the Precision-Recall Curve:-**\n",
    "\n",
    "1. The Random Forest classifier has the highest precision at low recall levels, indicating it makes the most accurate positive predictions when only a small fraction of positive instances are identified.\n",
    "\n",
    "2. The XGBoost classifier has the highest recall at low precision levels, meaning it is able to identify the largest fraction of positive instances but with more false positive predictions.\n",
    "\n",
    "3. The Decision Tree and AdaBoost classifiers fall between the other two in terms of the precision-recall trade-off"
   ]
  },
  {
   "cell_type": "markdown",
   "id": "b56eaa35",
   "metadata": {
    "papermill": {
     "duration": 0.037655,
     "end_time": "2024-12-13T13:43:05.347797",
     "exception": false,
     "start_time": "2024-12-13T13:43:05.310142",
     "status": "completed"
    },
    "tags": []
   },
   "source": [
    "# **07. Hyperparameter Tuning**"
   ]
  },
  {
   "cell_type": "code",
   "execution_count": 75,
   "id": "7dd7c09e",
   "metadata": {
    "execution": {
     "iopub.execute_input": "2024-12-13T13:43:05.425098Z",
     "iopub.status.busy": "2024-12-13T13:43:05.424638Z",
     "iopub.status.idle": "2024-12-13T13:43:05.432875Z",
     "shell.execute_reply": "2024-12-13T13:43:05.431675Z"
    },
    "papermill": {
     "duration": 0.049716,
     "end_time": "2024-12-13T13:43:05.435145",
     "exception": false,
     "start_time": "2024-12-13T13:43:05.385429",
     "status": "completed"
    },
    "tags": []
   },
   "outputs": [],
   "source": [
    "scoring = make_scorer(f1_score, average ='macro')\n",
    "\n",
    "cv=5\n",
    "\n",
    "param_dist_1 = {\n",
    "    'randomforestclassifier__n_estimators': [300, 500, 700, 1000],\n",
    "    'randomforestclassifier__max_depth': [10, 15, 20, 25, None],\n",
    "    'randomforestclassifier__min_samples_split': [2, 5, 10, 15],\n",
    "    'randomforestclassifier__min_samples_leaf': [1, 2, 4],\n",
    "    'randomforestclassifier__max_features': ['sqrt', 'log2'],\n",
    "    'randomforestclassifier__criterion': ['entropy', 'gini']\n",
    "}\n",
    "param_dist_2 = {\n",
    "    'xgbclassifier__n_estimators': [300, 500, 700, 1000],\n",
    "    'xgbclassifier__learning_rate': [0.01, 0.05, 0.1, 0.2],\n",
    "    'xgbclassifier__max_depth': [4, 6, 8, 10],\n",
    "    'xgbclassifier__min_child_weight': [5, 10, 20, 30],\n",
    "    'xgbclassifier__gamma': [0, 0.1, 0.5, 1],\n",
    "    'xgbclassifier__subsample': [0.6, 0.7, 0.8, 0.9, 1.0],\n",
    "    'xgbclassifier__colsample_bytree': [0.6, 0.7, 0.8, 0.9, 1.0],\n",
    "    'xgbclassifier__reg_alpha': [0, 0.1, 0.5, 1],\n",
    "    'xgbclassifier__reg_lambda': [0, 0.1, 0.5, 1]\n",
    "}\n"
   ]
  },
  {
   "cell_type": "code",
   "execution_count": 76,
   "id": "166ff807",
   "metadata": {
    "execution": {
     "iopub.execute_input": "2024-12-13T13:43:05.512845Z",
     "iopub.status.busy": "2024-12-13T13:43:05.511787Z",
     "iopub.status.idle": "2024-12-13T13:43:05.517608Z",
     "shell.execute_reply": "2024-12-13T13:43:05.516392Z"
    },
    "papermill": {
     "duration": 0.047195,
     "end_time": "2024-12-13T13:43:05.520081",
     "exception": false,
     "start_time": "2024-12-13T13:43:05.472886",
     "status": "completed"
    },
    "tags": []
   },
   "outputs": [],
   "source": [
    "random_search = RandomizedSearchCV(\n",
    "          estimator= model_pipeline_1,\n",
    "          param_distributions=param_dist_2,\n",
    "          n_iter=10, \n",
    "          scoring=scoring,\n",
    "          refit='f1',  \n",
    "          cv=cv,\n",
    "          n_jobs=-1,  \n",
    "          verbose=2,\n",
    "          random_state=42\n",
    "    )"
   ]
  },
  {
   "cell_type": "code",
   "execution_count": 77,
   "id": "1fac87a2",
   "metadata": {
    "execution": {
     "iopub.execute_input": "2024-12-13T13:43:05.598428Z",
     "iopub.status.busy": "2024-12-13T13:43:05.598051Z",
     "iopub.status.idle": "2024-12-13T13:43:05.603160Z",
     "shell.execute_reply": "2024-12-13T13:43:05.602040Z"
    },
    "papermill": {
     "duration": 0.046751,
     "end_time": "2024-12-13T13:43:05.605412",
     "exception": false,
     "start_time": "2024-12-13T13:43:05.558661",
     "status": "completed"
    },
    "tags": []
   },
   "outputs": [],
   "source": [
    "# random_search.fit(X, y)"
   ]
  },
  {
   "cell_type": "code",
   "execution_count": 78,
   "id": "b2421fcb",
   "metadata": {
    "execution": {
     "iopub.execute_input": "2024-12-13T13:43:05.685202Z",
     "iopub.status.busy": "2024-12-13T13:43:05.684795Z",
     "iopub.status.idle": "2024-12-13T13:43:05.689422Z",
     "shell.execute_reply": "2024-12-13T13:43:05.688287Z"
    },
    "papermill": {
     "duration": 0.047525,
     "end_time": "2024-12-13T13:43:05.691672",
     "exception": false,
     "start_time": "2024-12-13T13:43:05.644147",
     "status": "completed"
    },
    "tags": []
   },
   "outputs": [],
   "source": [
    "# Print best parameters and score\n",
    "# print(\"Best Parameters:\", random_search.best_params_)\n",
    "# print(\"Best Score:\", random_search.best_score_)"
   ]
  },
  {
   "cell_type": "markdown",
   "id": "546e906f",
   "metadata": {
    "papermill": {
     "duration": 0.03797,
     "end_time": "2024-12-13T13:43:05.767876",
     "exception": false,
     "start_time": "2024-12-13T13:43:05.729906",
     "status": "completed"
    },
    "tags": []
   },
   "source": [
    "### **Best Parameters for XGBoost Classifier**\n",
    "```\n",
    "Best Parameters: {'xgbclassifier__subsample': 0.8,\n",
    "                  'xgbclassifier__reg_lambda': 0.1,\n",
    "                  'xgbclassifier__reg_alpha': 1,\n",
    "                  'xgbclassifier__n_estimators': 1000,\n",
    "                  'xgbclassifier__min_child_weight': 20,\n",
    "                  'xgbclassifier__max_depth': 8,\n",
    "                  'xgbclassifier__learning_rate': 0.01,\n",
    "                  'xgbclassifier__gamma': 1,\n",
    "                  'xgbclassifier__colsample_bytree': 0.7}\n",
    "\n",
    "Best Score: 0.7640077944496493\n",
    "```"
   ]
  },
  {
   "cell_type": "markdown",
   "id": "d0024c55",
   "metadata": {
    "papermill": {
     "duration": 0.038463,
     "end_time": "2024-12-13T13:43:05.845188",
     "exception": false,
     "start_time": "2024-12-13T13:43:05.806725",
     "status": "completed"
    },
    "tags": []
   },
   "source": [
    "### **Best Parameters for Random Forest Classifier**\n",
    "```\n",
    "Best Parameters: {'randomforestclassifier__n_estimators': 500,\n",
    "                  'randomforestclassifier__min_samples_split': 15,\n",
    "                  'randomforestclassifier__min_samples_leaf': 2,\n",
    "                  'randomforestclassifier__max_features': 'sqrt',\n",
    "                  'randomforestclassifier__max_depth': None,\n",
    "                  'randomforestclassifier__criterion': 'gini'}\n",
    "\n",
    "Best Score: 0.7691308173105424\n",
    "```"
   ]
  },
  {
   "cell_type": "markdown",
   "id": "062a3c21",
   "metadata": {
    "papermill": {
     "duration": 0.037539,
     "end_time": "2024-12-13T13:43:05.921096",
     "exception": false,
     "start_time": "2024-12-13T13:43:05.883557",
     "status": "completed"
    },
    "tags": []
   },
   "source": [
    "# **08. Submission**"
   ]
  },
  {
   "cell_type": "markdown",
   "id": "a7f34daa",
   "metadata": {
    "papermill": {
     "duration": 0.037918,
     "end_time": "2024-12-13T13:43:05.996440",
     "exception": false,
     "start_time": "2024-12-13T13:43:05.958522",
     "status": "completed"
    },
    "tags": []
   },
   "source": [
    "## **8.1 Random Forest Classifier**"
   ]
  },
  {
   "cell_type": "code",
   "execution_count": 79,
   "id": "326bbe0d",
   "metadata": {
    "execution": {
     "iopub.execute_input": "2024-12-13T13:43:06.074340Z",
     "iopub.status.busy": "2024-12-13T13:43:06.073897Z",
     "iopub.status.idle": "2024-12-13T13:43:16.390738Z",
     "shell.execute_reply": "2024-12-13T13:43:16.389865Z"
    },
    "papermill": {
     "duration": 10.358583,
     "end_time": "2024-12-13T13:43:16.393025",
     "exception": false,
     "start_time": "2024-12-13T13:43:06.034442",
     "status": "completed"
    },
    "tags": []
   },
   "outputs": [
    {
     "name": "stderr",
     "output_type": "stream",
     "text": [
      "[Parallel(n_jobs=-1)]: Using backend ThreadingBackend with 4 concurrent workers.\n",
      "[Parallel(n_jobs=-1)]: Done  42 tasks      | elapsed:    0.8s\n",
      "[Parallel(n_jobs=-1)]: Done 192 tasks      | elapsed:    3.5s\n",
      "[Parallel(n_jobs=-1)]: Done 442 tasks      | elapsed:    7.9s\n",
      "[Parallel(n_jobs=-1)]: Done 500 out of 500 | elapsed:    9.3s finished\n",
      "[Parallel(n_jobs=4)]: Using backend ThreadingBackend with 4 concurrent workers.\n",
      "[Parallel(n_jobs=4)]: Done  42 tasks      | elapsed:    0.0s\n",
      "[Parallel(n_jobs=4)]: Done 192 tasks      | elapsed:    0.2s\n",
      "[Parallel(n_jobs=4)]: Done 442 tasks      | elapsed:    0.4s\n",
      "[Parallel(n_jobs=4)]: Done 500 out of 500 | elapsed:    0.5s finished\n"
     ]
    }
   ],
   "source": [
    "model_pipeline_1.fit(X,y)\n",
    "test_predictions = model_pipeline_1.predict(test_df)"
   ]
  },
  {
   "cell_type": "markdown",
   "id": "c1a6e650",
   "metadata": {
    "papermill": {
     "duration": 0.039394,
     "end_time": "2024-12-13T13:43:16.471199",
     "exception": false,
     "start_time": "2024-12-13T13:43:16.431805",
     "status": "completed"
    },
    "tags": []
   },
   "source": [
    "*  **F1_Score = 0.76**"
   ]
  },
  {
   "cell_type": "markdown",
   "id": "8e77bae6",
   "metadata": {
    "papermill": {
     "duration": 0.038962,
     "end_time": "2024-12-13T13:43:16.548394",
     "exception": false,
     "start_time": "2024-12-13T13:43:16.509432",
     "status": "completed"
    },
    "tags": []
   },
   "source": [
    "## **8.2 Decision Tree Classifier**"
   ]
  },
  {
   "cell_type": "code",
   "execution_count": 80,
   "id": "cd40292a",
   "metadata": {
    "execution": {
     "iopub.execute_input": "2024-12-13T13:43:16.626786Z",
     "iopub.status.busy": "2024-12-13T13:43:16.625787Z",
     "iopub.status.idle": "2024-12-13T13:43:16.630460Z",
     "shell.execute_reply": "2024-12-13T13:43:16.629408Z"
    },
    "papermill": {
     "duration": 0.04604,
     "end_time": "2024-12-13T13:43:16.632803",
     "exception": false,
     "start_time": "2024-12-13T13:43:16.586763",
     "status": "completed"
    },
    "tags": []
   },
   "outputs": [],
   "source": [
    "#model_pipeline_2.fit(X,y)\n",
    "#test_predictions = model_pipeline_2.predict(test_df)"
   ]
  },
  {
   "cell_type": "markdown",
   "id": "a9c493dc",
   "metadata": {
    "papermill": {
     "duration": 0.039725,
     "end_time": "2024-12-13T13:43:16.711538",
     "exception": false,
     "start_time": "2024-12-13T13:43:16.671813",
     "status": "completed"
    },
    "tags": []
   },
   "source": [
    "*  **F1_Score = 0.71**"
   ]
  },
  {
   "cell_type": "markdown",
   "id": "c7936e85",
   "metadata": {
    "papermill": {
     "duration": 0.038279,
     "end_time": "2024-12-13T13:43:16.788550",
     "exception": false,
     "start_time": "2024-12-13T13:43:16.750271",
     "status": "completed"
    },
    "tags": []
   },
   "source": [
    "## **8.3 AdaBoost Classifier**"
   ]
  },
  {
   "cell_type": "code",
   "execution_count": 81,
   "id": "033a287f",
   "metadata": {
    "execution": {
     "iopub.execute_input": "2024-12-13T13:43:16.868842Z",
     "iopub.status.busy": "2024-12-13T13:43:16.867881Z",
     "iopub.status.idle": "2024-12-13T13:43:16.873203Z",
     "shell.execute_reply": "2024-12-13T13:43:16.871878Z"
    },
    "papermill": {
     "duration": 0.048109,
     "end_time": "2024-12-13T13:43:16.875486",
     "exception": false,
     "start_time": "2024-12-13T13:43:16.827377",
     "status": "completed"
    },
    "tags": []
   },
   "outputs": [],
   "source": [
    "#model_pipeline_3.fit(X,y)\n",
    "#test_predictions = model_pipeline_3.predict(test_df)"
   ]
  },
  {
   "cell_type": "markdown",
   "id": "51852bfd",
   "metadata": {
    "papermill": {
     "duration": 0.03832,
     "end_time": "2024-12-13T13:43:16.952190",
     "exception": false,
     "start_time": "2024-12-13T13:43:16.913870",
     "status": "completed"
    },
    "tags": []
   },
   "source": [
    "*  **F1_Score = 0.75**"
   ]
  },
  {
   "cell_type": "markdown",
   "id": "4c4c3486",
   "metadata": {
    "papermill": {
     "duration": 0.039558,
     "end_time": "2024-12-13T13:43:17.031300",
     "exception": false,
     "start_time": "2024-12-13T13:43:16.991742",
     "status": "completed"
    },
    "tags": []
   },
   "source": [
    "## **8.4 XGBoost Classifier**"
   ]
  },
  {
   "cell_type": "code",
   "execution_count": 82,
   "id": "b7c76787",
   "metadata": {
    "execution": {
     "iopub.execute_input": "2024-12-13T13:43:17.110738Z",
     "iopub.status.busy": "2024-12-13T13:43:17.110354Z",
     "iopub.status.idle": "2024-12-13T13:43:17.115388Z",
     "shell.execute_reply": "2024-12-13T13:43:17.114025Z"
    },
    "papermill": {
     "duration": 0.047419,
     "end_time": "2024-12-13T13:43:17.117464",
     "exception": false,
     "start_time": "2024-12-13T13:43:17.070045",
     "status": "completed"
    },
    "tags": []
   },
   "outputs": [],
   "source": [
    "#model_pipeline_4.fit(X,y)\n",
    "#test_predictions = model_pipeline_4.predict(test_df)"
   ]
  },
  {
   "cell_type": "markdown",
   "id": "77d776f7",
   "metadata": {
    "papermill": {
     "duration": 0.03866,
     "end_time": "2024-12-13T13:43:17.194416",
     "exception": false,
     "start_time": "2024-12-13T13:43:17.155756",
     "status": "completed"
    },
    "tags": []
   },
   "source": [
    "*  **F1_Score = 0.77**"
   ]
  },
  {
   "cell_type": "markdown",
   "id": "686a75e0",
   "metadata": {
    "papermill": {
     "duration": 0.037868,
     "end_time": "2024-12-13T13:43:17.271435",
     "exception": false,
     "start_time": "2024-12-13T13:43:17.233567",
     "status": "completed"
    },
    "tags": []
   },
   "source": [
    "## **8.5 Conversion of Target Values**"
   ]
  },
  {
   "cell_type": "code",
   "execution_count": 83,
   "id": "ed93fa17",
   "metadata": {
    "execution": {
     "iopub.execute_input": "2024-12-13T13:43:17.349620Z",
     "iopub.status.busy": "2024-12-13T13:43:17.349236Z",
     "iopub.status.idle": "2024-12-13T13:43:17.354701Z",
     "shell.execute_reply": "2024-12-13T13:43:17.353561Z"
    },
    "papermill": {
     "duration": 0.047174,
     "end_time": "2024-12-13T13:43:17.356835",
     "exception": false,
     "start_time": "2024-12-13T13:43:17.309661",
     "status": "completed"
    },
    "tags": []
   },
   "outputs": [],
   "source": [
    "def conv_data(arr):\n",
    "    result = np.where(arr == 1, 'yes', np.where(arr == 0, 'no', arr))\n",
    "    return result"
   ]
  },
  {
   "cell_type": "markdown",
   "id": "f08ba000",
   "metadata": {
    "papermill": {
     "duration": 0.038187,
     "end_time": "2024-12-13T13:43:17.434721",
     "exception": false,
     "start_time": "2024-12-13T13:43:17.396534",
     "status": "completed"
    },
    "tags": []
   },
   "source": [
    "## **8.6 Final Submission**"
   ]
  },
  {
   "cell_type": "code",
   "execution_count": 84,
   "id": "8ee87753",
   "metadata": {
    "execution": {
     "iopub.execute_input": "2024-12-13T13:43:17.513483Z",
     "iopub.status.busy": "2024-12-13T13:43:17.513082Z",
     "iopub.status.idle": "2024-12-13T13:43:17.523393Z",
     "shell.execute_reply": "2024-12-13T13:43:17.522337Z"
    },
    "papermill": {
     "duration": 0.052757,
     "end_time": "2024-12-13T13:43:17.525859",
     "exception": false,
     "start_time": "2024-12-13T13:43:17.473102",
     "status": "completed"
    },
    "tags": []
   },
   "outputs": [],
   "source": [
    "submission_df=pd.DataFrame({\n",
    "    'id': range(len(test_predictions)),\n",
    "    'target': conv_data(test_predictions)\n",
    "})"
   ]
  },
  {
   "cell_type": "code",
   "execution_count": 85,
   "id": "734ab55f",
   "metadata": {
    "execution": {
     "iopub.execute_input": "2024-12-13T13:43:17.606081Z",
     "iopub.status.busy": "2024-12-13T13:43:17.605652Z",
     "iopub.status.idle": "2024-12-13T13:43:17.616881Z",
     "shell.execute_reply": "2024-12-13T13:43:17.615874Z"
    },
    "papermill": {
     "duration": 0.053391,
     "end_time": "2024-12-13T13:43:17.619025",
     "exception": false,
     "start_time": "2024-12-13T13:43:17.565634",
     "status": "completed"
    },
    "tags": []
   },
   "outputs": [
    {
     "data": {
      "text/html": [
       "<div>\n",
       "<style scoped>\n",
       "    .dataframe tbody tr th:only-of-type {\n",
       "        vertical-align: middle;\n",
       "    }\n",
       "\n",
       "    .dataframe tbody tr th {\n",
       "        vertical-align: top;\n",
       "    }\n",
       "\n",
       "    .dataframe thead th {\n",
       "        text-align: right;\n",
       "    }\n",
       "</style>\n",
       "<table border=\"1\" class=\"dataframe\">\n",
       "  <thead>\n",
       "    <tr style=\"text-align: right;\">\n",
       "      <th></th>\n",
       "      <th>id</th>\n",
       "      <th>target</th>\n",
       "    </tr>\n",
       "  </thead>\n",
       "  <tbody>\n",
       "    <tr>\n",
       "      <th>0</th>\n",
       "      <td>0</td>\n",
       "      <td>no</td>\n",
       "    </tr>\n",
       "    <tr>\n",
       "      <th>1</th>\n",
       "      <td>1</td>\n",
       "      <td>no</td>\n",
       "    </tr>\n",
       "    <tr>\n",
       "      <th>2</th>\n",
       "      <td>2</td>\n",
       "      <td>no</td>\n",
       "    </tr>\n",
       "    <tr>\n",
       "      <th>3</th>\n",
       "      <td>3</td>\n",
       "      <td>no</td>\n",
       "    </tr>\n",
       "    <tr>\n",
       "      <th>4</th>\n",
       "      <td>4</td>\n",
       "      <td>yes</td>\n",
       "    </tr>\n",
       "    <tr>\n",
       "      <th>...</th>\n",
       "      <td>...</td>\n",
       "      <td>...</td>\n",
       "    </tr>\n",
       "    <tr>\n",
       "      <th>9995</th>\n",
       "      <td>9995</td>\n",
       "      <td>no</td>\n",
       "    </tr>\n",
       "    <tr>\n",
       "      <th>9996</th>\n",
       "      <td>9996</td>\n",
       "      <td>yes</td>\n",
       "    </tr>\n",
       "    <tr>\n",
       "      <th>9997</th>\n",
       "      <td>9997</td>\n",
       "      <td>yes</td>\n",
       "    </tr>\n",
       "    <tr>\n",
       "      <th>9998</th>\n",
       "      <td>9998</td>\n",
       "      <td>yes</td>\n",
       "    </tr>\n",
       "    <tr>\n",
       "      <th>9999</th>\n",
       "      <td>9999</td>\n",
       "      <td>no</td>\n",
       "    </tr>\n",
       "  </tbody>\n",
       "</table>\n",
       "<p>10000 rows × 2 columns</p>\n",
       "</div>"
      ],
      "text/plain": [
       "        id target\n",
       "0        0     no\n",
       "1        1     no\n",
       "2        2     no\n",
       "3        3     no\n",
       "4        4    yes\n",
       "...    ...    ...\n",
       "9995  9995     no\n",
       "9996  9996    yes\n",
       "9997  9997    yes\n",
       "9998  9998    yes\n",
       "9999  9999     no\n",
       "\n",
       "[10000 rows x 2 columns]"
      ]
     },
     "execution_count": 85,
     "metadata": {},
     "output_type": "execute_result"
    }
   ],
   "source": [
    "submission_df"
   ]
  },
  {
   "cell_type": "code",
   "execution_count": 86,
   "id": "0b8ee592",
   "metadata": {
    "execution": {
     "iopub.execute_input": "2024-12-13T13:43:17.699102Z",
     "iopub.status.busy": "2024-12-13T13:43:17.698554Z",
     "iopub.status.idle": "2024-12-13T13:43:17.715242Z",
     "shell.execute_reply": "2024-12-13T13:43:17.713842Z"
    },
    "papermill": {
     "duration": 0.059841,
     "end_time": "2024-12-13T13:43:17.718135",
     "exception": false,
     "start_time": "2024-12-13T13:43:17.658294",
     "status": "completed"
    },
    "tags": []
   },
   "outputs": [],
   "source": [
    "submission_df.to_csv('submission.csv',index=False)"
   ]
  }
 ],
 "metadata": {
  "kaggle": {
   "accelerator": "none",
   "dataSources": [
    {
     "databundleVersionId": 9578279,
     "sourceId": 85062,
     "sourceType": "competition"
    }
   ],
   "dockerImageVersionId": 30786,
   "isGpuEnabled": false,
   "isInternetEnabled": false,
   "language": "python",
   "sourceType": "notebook"
  },
  "kernelspec": {
   "display_name": "Python 3",
   "language": "python",
   "name": "python3"
  },
  "language_info": {
   "codemirror_mode": {
    "name": "ipython",
    "version": 3
   },
   "file_extension": ".py",
   "mimetype": "text/x-python",
   "name": "python",
   "nbconvert_exporter": "python",
   "pygments_lexer": "ipython3",
   "version": "3.10.14"
  },
  "papermill": {
   "default_parameters": {},
   "duration": 94.503047,
   "end_time": "2024-12-13T13:43:20.378543",
   "environment_variables": {},
   "exception": null,
   "input_path": "__notebook__.ipynb",
   "output_path": "__notebook__.ipynb",
   "parameters": {},
   "start_time": "2024-12-13T13:41:45.875496",
   "version": "2.6.0"
  }
 },
 "nbformat": 4,
 "nbformat_minor": 5
}
